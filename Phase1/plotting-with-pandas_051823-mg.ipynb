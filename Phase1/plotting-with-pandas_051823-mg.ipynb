{
 "cells": [
  {
   "cell_type": "markdown",
   "metadata": {},
   "source": [
    "# Data Visualization"
   ]
  },
  {
   "cell_type": "markdown",
   "metadata": {
    "heading_collapsed": true
   },
   "source": [
    "## Learning Goals"
   ]
  },
  {
   "cell_type": "markdown",
   "metadata": {
    "hidden": true
   },
   "source": [
    "- Understand why we visualize data\n",
    "- Recognize the different `matplotlib`-based ways we can create visualizations\n",
    "- Choose appropriate graph types based on data and problem context for explanatory visualizations\n",
    "- Use `matplotlib` syntax to adjust elements and improve visualizations\n",
    "- Create figures containing multiple graphs\n"
   ]
  },
  {
   "cell_type": "code",
<<<<<<< HEAD
   "execution_count": 1,
=======
   "execution_count": null,
>>>>>>> upstream/main
   "metadata": {},
   "outputs": [],
   "source": [
    "# Imports\n",
    "import pandas as pd\n",
    "import numpy as np\n",
    "\n",
    "import matplotlib.pyplot as plt\n",
    "# same as \n",
    "# from matplotlib import pyplot as plt\n",
    "\n",
    "import seaborn as sns\n",
    "\n",
    "from scipy import stats\n",
    "from sklearn.datasets import load_iris"
   ]
  },
  {
   "cell_type": "markdown",
   "metadata": {
    "heading_collapsed": true
   },
   "source": [
    "## Visualization Motivation: Why Visualize Data?"
   ]
  },
  {
   "cell_type": "markdown",
   "metadata": {
    "hidden": true
   },
   "source": [
    "Why can’t we just hand someone a table of data?"
   ]
  },
  {
   "cell_type": "markdown",
   "metadata": {
    "hidden": true
   },
   "source": [
    "Let's load up the iris data set.  This is a famous built-in dataset which is used to learn about categorization. "
   ]
  },
  {
   "cell_type": "code",
<<<<<<< HEAD
   "execution_count": 2,
=======
   "execution_count": null,
>>>>>>> upstream/main
   "metadata": {
    "hidden": true
   },
   "outputs": [],
   "source": [
    "# This iris dataset comes bundled with sklearn\n",
    "data = load_iris()\n",
    "df_iris = pd.DataFrame(data['data'], columns=data['feature_names'])\n",
    "df_iris['target'] = data['target']"
   ]
  },
  {
   "cell_type": "markdown",
   "metadata": {
    "hidden": true
   },
   "source": [
    "Here is an image of one of the virginica iris, which is unique in its relative petal and sepal length."
   ]
  },
  {
   "cell_type": "markdown",
   "metadata": {
    "hidden": true
   },
   "source": [
    "![virginica_iris](images/iris_virginica.jpg)"
   ]
  },
  {
   "cell_type": "markdown",
   "metadata": {
    "heading_collapsed": true,
    "hidden": true
   },
   "source": [
    "### Dataframe vs. Statistics vs. Graph: Which do you prefer?"
   ]
  },
  {
   "cell_type": "code",
<<<<<<< HEAD
   "execution_count": 4,
   "metadata": {
    "hidden": true
   },
   "outputs": [
    {
     "data": {
      "text/html": [
       "<div>\n",
       "<style scoped>\n",
       "    .dataframe tbody tr th:only-of-type {\n",
       "        vertical-align: middle;\n",
       "    }\n",
       "\n",
       "    .dataframe tbody tr th {\n",
       "        vertical-align: top;\n",
       "    }\n",
       "\n",
       "    .dataframe thead th {\n",
       "        text-align: right;\n",
       "    }\n",
       "</style>\n",
       "<table border=\"1\" class=\"dataframe\">\n",
       "  <thead>\n",
       "    <tr style=\"text-align: right;\">\n",
       "      <th></th>\n",
       "      <th>sepal length (cm)</th>\n",
       "      <th>sepal width (cm)</th>\n",
       "      <th>petal length (cm)</th>\n",
       "      <th>petal width (cm)</th>\n",
       "      <th>target</th>\n",
       "    </tr>\n",
       "  </thead>\n",
       "  <tbody>\n",
       "    <tr>\n",
       "      <th>73</th>\n",
       "      <td>6.1</td>\n",
       "      <td>2.8</td>\n",
       "      <td>4.7</td>\n",
       "      <td>1.2</td>\n",
       "      <td>1</td>\n",
       "    </tr>\n",
       "    <tr>\n",
       "      <th>18</th>\n",
       "      <td>5.7</td>\n",
       "      <td>3.8</td>\n",
       "      <td>1.7</td>\n",
       "      <td>0.3</td>\n",
       "      <td>0</td>\n",
       "    </tr>\n",
       "    <tr>\n",
       "      <th>118</th>\n",
       "      <td>7.7</td>\n",
       "      <td>2.6</td>\n",
       "      <td>6.9</td>\n",
       "      <td>2.3</td>\n",
       "      <td>2</td>\n",
       "    </tr>\n",
       "    <tr>\n",
       "      <th>78</th>\n",
       "      <td>6.0</td>\n",
       "      <td>2.9</td>\n",
       "      <td>4.5</td>\n",
       "      <td>1.5</td>\n",
       "      <td>1</td>\n",
       "    </tr>\n",
       "    <tr>\n",
       "      <th>76</th>\n",
       "      <td>6.8</td>\n",
       "      <td>2.8</td>\n",
       "      <td>4.8</td>\n",
       "      <td>1.4</td>\n",
       "      <td>1</td>\n",
       "    </tr>\n",
       "  </tbody>\n",
       "</table>\n",
       "</div>"
      ],
      "text/plain": [
       "     sepal length (cm)  sepal width (cm)  petal length (cm)  petal width (cm)   \n",
       "73                 6.1               2.8                4.7               1.2  \\\n",
       "18                 5.7               3.8                1.7               0.3   \n",
       "118                7.7               2.6                6.9               2.3   \n",
       "78                 6.0               2.9                4.5               1.5   \n",
       "76                 6.8               2.8                4.8               1.4   \n",
       "\n",
       "     target  \n",
       "73        1  \n",
       "18        0  \n",
       "118       2  \n",
       "78        1  \n",
       "76        1  "
      ]
     },
     "execution_count": 4,
     "metadata": {},
     "output_type": "execute_result"
    }
   ],
=======
   "execution_count": null,
   "metadata": {
    "hidden": true
   },
   "outputs": [],
>>>>>>> upstream/main
   "source": [
    "# Five random rows of the iris dataset\n",
    "df_iris.sample(5, random_state=42)"
   ]
  },
  {
   "cell_type": "markdown",
   "metadata": {},
   "source": [
    "What information in this dataframe jumps out to you?\n",
    "\n",
    "- \n"
   ]
  },
  {
   "cell_type": "code",
<<<<<<< HEAD
   "execution_count": 5,
   "metadata": {},
   "outputs": [
    {
     "data": {
      "text/html": [
       "<div>\n",
       "<style scoped>\n",
       "    .dataframe tbody tr th:only-of-type {\n",
       "        vertical-align: middle;\n",
       "    }\n",
       "\n",
       "    .dataframe tbody tr th {\n",
       "        vertical-align: top;\n",
       "    }\n",
       "\n",
       "    .dataframe thead th {\n",
       "        text-align: right;\n",
       "    }\n",
       "</style>\n",
       "<table border=\"1\" class=\"dataframe\">\n",
       "  <thead>\n",
       "    <tr style=\"text-align: right;\">\n",
       "      <th></th>\n",
       "      <th>sepal length (cm)</th>\n",
       "      <th>sepal width (cm)</th>\n",
       "      <th>petal length (cm)</th>\n",
       "      <th>petal width (cm)</th>\n",
       "      <th>target</th>\n",
       "    </tr>\n",
       "  </thead>\n",
       "  <tbody>\n",
       "    <tr>\n",
       "      <th>count</th>\n",
       "      <td>150.000000</td>\n",
       "      <td>150.000000</td>\n",
       "      <td>150.000000</td>\n",
       "      <td>150.000000</td>\n",
       "      <td>150.000000</td>\n",
       "    </tr>\n",
       "    <tr>\n",
       "      <th>mean</th>\n",
       "      <td>5.843333</td>\n",
       "      <td>3.057333</td>\n",
       "      <td>3.758000</td>\n",
       "      <td>1.199333</td>\n",
       "      <td>1.000000</td>\n",
       "    </tr>\n",
       "    <tr>\n",
       "      <th>std</th>\n",
       "      <td>0.828066</td>\n",
       "      <td>0.435866</td>\n",
       "      <td>1.765298</td>\n",
       "      <td>0.762238</td>\n",
       "      <td>0.819232</td>\n",
       "    </tr>\n",
       "    <tr>\n",
       "      <th>min</th>\n",
       "      <td>4.300000</td>\n",
       "      <td>2.000000</td>\n",
       "      <td>1.000000</td>\n",
       "      <td>0.100000</td>\n",
       "      <td>0.000000</td>\n",
       "    </tr>\n",
       "    <tr>\n",
       "      <th>25%</th>\n",
       "      <td>5.100000</td>\n",
       "      <td>2.800000</td>\n",
       "      <td>1.600000</td>\n",
       "      <td>0.300000</td>\n",
       "      <td>0.000000</td>\n",
       "    </tr>\n",
       "    <tr>\n",
       "      <th>50%</th>\n",
       "      <td>5.800000</td>\n",
       "      <td>3.000000</td>\n",
       "      <td>4.350000</td>\n",
       "      <td>1.300000</td>\n",
       "      <td>1.000000</td>\n",
       "    </tr>\n",
       "    <tr>\n",
       "      <th>75%</th>\n",
       "      <td>6.400000</td>\n",
       "      <td>3.300000</td>\n",
       "      <td>5.100000</td>\n",
       "      <td>1.800000</td>\n",
       "      <td>2.000000</td>\n",
       "    </tr>\n",
       "    <tr>\n",
       "      <th>max</th>\n",
       "      <td>7.900000</td>\n",
       "      <td>4.400000</td>\n",
       "      <td>6.900000</td>\n",
       "      <td>2.500000</td>\n",
       "      <td>2.000000</td>\n",
       "    </tr>\n",
       "  </tbody>\n",
       "</table>\n",
       "</div>"
      ],
      "text/plain": [
       "       sepal length (cm)  sepal width (cm)  petal length (cm)   \n",
       "count         150.000000        150.000000         150.000000  \\\n",
       "mean            5.843333          3.057333           3.758000   \n",
       "std             0.828066          0.435866           1.765298   \n",
       "min             4.300000          2.000000           1.000000   \n",
       "25%             5.100000          2.800000           1.600000   \n",
       "50%             5.800000          3.000000           4.350000   \n",
       "75%             6.400000          3.300000           5.100000   \n",
       "max             7.900000          4.400000           6.900000   \n",
       "\n",
       "       petal width (cm)      target  \n",
       "count        150.000000  150.000000  \n",
       "mean           1.199333    1.000000  \n",
       "std            0.762238    0.819232  \n",
       "min            0.100000    0.000000  \n",
       "25%            0.300000    0.000000  \n",
       "50%            1.300000    1.000000  \n",
       "75%            1.800000    2.000000  \n",
       "max            2.500000    2.000000  "
      ]
     },
     "execution_count": 5,
     "metadata": {},
     "output_type": "execute_result"
    }
   ],
=======
   "execution_count": null,
   "metadata": {},
   "outputs": [],
>>>>>>> upstream/main
   "source": [
    "# Summary statistics of the iris dataset\n",
    "df_iris.describe()"
   ]
  },
  {
   "cell_type": "markdown",
   "metadata": {},
   "source": [
    "What information in this summary statistics table jumps out to you?\n",
    "\n",
    "- \n"
   ]
  },
  {
<<<<<<< HEAD
   "cell_type": "markdown",
   "metadata": {},
   "source": [
    "##seaborn is built on top of matplotlib\n",
    "#fig = figure\n",
    "#ax = x and y axis"
   ]
  },
  {
   "cell_type": "code",
   "execution_count": 6,
   "metadata": {
    "hidden": true
   },
   "outputs": [
    {
     "data": {
      "image/png": "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",
      "text/plain": [
       "<Figure size 800x500 with 1 Axes>"
      ]
     },
     "metadata": {},
     "output_type": "display_data"
    }
   ],
=======
   "cell_type": "code",
   "execution_count": null,
   "metadata": {
    "hidden": true
   },
   "outputs": [],
>>>>>>> upstream/main
   "source": [
    "# Now, let's plot two variables from the iris dataset\n",
    "fig, ax = plt.subplots(figsize=(8, 5))\n",
    "\n",
    "# Use seaborn to plot two facets of the above data, colored by the target column\n",
    "sns.scatterplot(x='sepal length (cm)', y='petal length (cm)', hue='target', data=df_iris)\n",
    "\n",
    "ax.set_title('Petal Length vs Sepal Length for Three Species of Flowers')\n",
    "ax.legend();"
   ]
  },
  {
   "cell_type": "markdown",
   "metadata": {
    "hidden": true
   },
   "source": [
    "What information in this graph jumps out to you?\n",
    "\n",
<<<<<<< HEAD
    "Iris 0 has wider variability or spread\n",
=======
>>>>>>> upstream/main
    "- \n"
   ]
  },
  {
   "cell_type": "markdown",
   "metadata": {},
   "source": [
    "### Visualizing for Yourself vs. Visualizing for Others"
   ]
  },
  {
   "cell_type": "markdown",
   "metadata": {},
   "source": [
    "An important point: you're going to be creating two kinds of visualizations - ones you create for yourself, to explore your own data, and ones you create for others, to share your findings.\n",
    "\n",
    "AKA: **exploratory** vs **explanatory** plots!\n",
    "\n",
    "Our goal with **exploratory** visualizations is to better understand the data, and we often don't really intend to share these plots - but you should still get in the habit of labeling your plots and writing out your findings and observations (either in markdown/code comments or using titles/annotation on the plots)! This will help you quickly get up to speed when you revisit your work later, or will be helpful when others stumble upon your work.\n",
    "\n",
    "Our goal in **explanatory** visualizations is to convey/communicate insight(s) effectively to our audience. That audience can be other data scientists but can also be stakeholders unfamiliar with data analysis or statistical concepts.\n",
    "\n",
    "Our goal today is to help you be able to create both!"
   ]
  },
  {
   "cell_type": "markdown",
   "metadata": {
    "heading_collapsed": true,
    "hidden": true
   },
   "source": [
    "## Plotting Syntax"
   ]
  },
  {
   "cell_type": "markdown",
   "metadata": {},
   "source": [
    "Let's read in some new data:"
   ]
  },
  {
   "cell_type": "code",
<<<<<<< HEAD
   "execution_count": 7,
=======
   "execution_count": null,
>>>>>>> upstream/main
   "metadata": {
    "hidden": true
   },
   "outputs": [],
   "source": [
    "# This is a default dataset that comes bundled with seaborn\n",
    "penguins = sns.load_dataset('penguins')"
   ]
  },
  {
   "cell_type": "code",
<<<<<<< HEAD
   "execution_count": 8,
   "metadata": {
    "hidden": true,
    "scrolled": true
   },
   "outputs": [
    {
     "data": {
      "text/html": [
       "<div>\n",
       "<style scoped>\n",
       "    .dataframe tbody tr th:only-of-type {\n",
       "        vertical-align: middle;\n",
       "    }\n",
       "\n",
       "    .dataframe tbody tr th {\n",
       "        vertical-align: top;\n",
       "    }\n",
       "\n",
       "    .dataframe thead th {\n",
       "        text-align: right;\n",
       "    }\n",
       "</style>\n",
       "<table border=\"1\" class=\"dataframe\">\n",
       "  <thead>\n",
       "    <tr style=\"text-align: right;\">\n",
       "      <th></th>\n",
       "      <th>species</th>\n",
       "      <th>island</th>\n",
       "      <th>bill_length_mm</th>\n",
       "      <th>bill_depth_mm</th>\n",
       "      <th>flipper_length_mm</th>\n",
       "      <th>body_mass_g</th>\n",
       "      <th>sex</th>\n",
       "    </tr>\n",
       "  </thead>\n",
       "  <tbody>\n",
       "    <tr>\n",
       "      <th>0</th>\n",
       "      <td>Adelie</td>\n",
       "      <td>Torgersen</td>\n",
       "      <td>39.1</td>\n",
       "      <td>18.7</td>\n",
       "      <td>181.0</td>\n",
       "      <td>3750.0</td>\n",
       "      <td>Male</td>\n",
       "    </tr>\n",
       "    <tr>\n",
       "      <th>1</th>\n",
       "      <td>Adelie</td>\n",
       "      <td>Torgersen</td>\n",
       "      <td>39.5</td>\n",
       "      <td>17.4</td>\n",
       "      <td>186.0</td>\n",
       "      <td>3800.0</td>\n",
       "      <td>Female</td>\n",
       "    </tr>\n",
       "    <tr>\n",
       "      <th>2</th>\n",
       "      <td>Adelie</td>\n",
       "      <td>Torgersen</td>\n",
       "      <td>40.3</td>\n",
       "      <td>18.0</td>\n",
       "      <td>195.0</td>\n",
       "      <td>3250.0</td>\n",
       "      <td>Female</td>\n",
       "    </tr>\n",
       "    <tr>\n",
       "      <th>3</th>\n",
       "      <td>Adelie</td>\n",
       "      <td>Torgersen</td>\n",
       "      <td>NaN</td>\n",
       "      <td>NaN</td>\n",
       "      <td>NaN</td>\n",
       "      <td>NaN</td>\n",
       "      <td>NaN</td>\n",
       "    </tr>\n",
       "    <tr>\n",
       "      <th>4</th>\n",
       "      <td>Adelie</td>\n",
       "      <td>Torgersen</td>\n",
       "      <td>36.7</td>\n",
       "      <td>19.3</td>\n",
       "      <td>193.0</td>\n",
       "      <td>3450.0</td>\n",
       "      <td>Female</td>\n",
       "    </tr>\n",
       "  </tbody>\n",
       "</table>\n",
       "</div>"
      ],
      "text/plain": [
       "  species     island  bill_length_mm  bill_depth_mm  flipper_length_mm   \n",
       "0  Adelie  Torgersen            39.1           18.7              181.0  \\\n",
       "1  Adelie  Torgersen            39.5           17.4              186.0   \n",
       "2  Adelie  Torgersen            40.3           18.0              195.0   \n",
       "3  Adelie  Torgersen             NaN            NaN                NaN   \n",
       "4  Adelie  Torgersen            36.7           19.3              193.0   \n",
       "\n",
       "   body_mass_g     sex  \n",
       "0       3750.0    Male  \n",
       "1       3800.0  Female  \n",
       "2       3250.0  Female  \n",
       "3          NaN     NaN  \n",
       "4       3450.0  Female  "
      ]
     },
     "execution_count": 8,
     "metadata": {},
     "output_type": "execute_result"
    }
   ],
=======
   "execution_count": null,
   "metadata": {
    "hidden": true
   },
   "outputs": [],
>>>>>>> upstream/main
   "source": [
    "penguins.head()"
   ]
  },
  {
<<<<<<< HEAD
   "cell_type": "code",
   "execution_count": 9,
   "metadata": {
    "scrolled": true
   },
   "outputs": [
    {
     "data": {
      "text/plain": [
       "<bound method DataFrame.info of     species     island  bill_length_mm  bill_depth_mm  flipper_length_mm   \n",
       "0    Adelie  Torgersen            39.1           18.7              181.0  \\\n",
       "1    Adelie  Torgersen            39.5           17.4              186.0   \n",
       "2    Adelie  Torgersen            40.3           18.0              195.0   \n",
       "3    Adelie  Torgersen             NaN            NaN                NaN   \n",
       "4    Adelie  Torgersen            36.7           19.3              193.0   \n",
       "..      ...        ...             ...            ...                ...   \n",
       "339  Gentoo     Biscoe             NaN            NaN                NaN   \n",
       "340  Gentoo     Biscoe            46.8           14.3              215.0   \n",
       "341  Gentoo     Biscoe            50.4           15.7              222.0   \n",
       "342  Gentoo     Biscoe            45.2           14.8              212.0   \n",
       "343  Gentoo     Biscoe            49.9           16.1              213.0   \n",
       "\n",
       "     body_mass_g     sex  \n",
       "0         3750.0    Male  \n",
       "1         3800.0  Female  \n",
       "2         3250.0  Female  \n",
       "3            NaN     NaN  \n",
       "4         3450.0  Female  \n",
       "..           ...     ...  \n",
       "339          NaN     NaN  \n",
       "340       4850.0  Female  \n",
       "341       5750.0    Male  \n",
       "342       5200.0  Female  \n",
       "343       5400.0    Male  \n",
       "\n",
       "[344 rows x 7 columns]>"
      ]
     },
     "execution_count": 9,
     "metadata": {},
     "output_type": "execute_result"
    }
   ],
   "source": [
    "penguins.info"
   ]
  },
  {
   "cell_type": "code",
   "execution_count": 10,
   "metadata": {
    "scrolled": true
   },
   "outputs": [
    {
     "data": {
      "text/html": [
       "<div>\n",
       "<style scoped>\n",
       "    .dataframe tbody tr th:only-of-type {\n",
       "        vertical-align: middle;\n",
       "    }\n",
       "\n",
       "    .dataframe tbody tr th {\n",
       "        vertical-align: top;\n",
       "    }\n",
       "\n",
       "    .dataframe thead th {\n",
       "        text-align: right;\n",
       "    }\n",
       "</style>\n",
       "<table border=\"1\" class=\"dataframe\">\n",
       "  <thead>\n",
       "    <tr style=\"text-align: right;\">\n",
       "      <th></th>\n",
       "      <th>bill_length_mm</th>\n",
       "      <th>bill_depth_mm</th>\n",
       "      <th>flipper_length_mm</th>\n",
       "      <th>body_mass_g</th>\n",
       "    </tr>\n",
       "  </thead>\n",
       "  <tbody>\n",
       "    <tr>\n",
       "      <th>count</th>\n",
       "      <td>342.000000</td>\n",
       "      <td>342.000000</td>\n",
       "      <td>342.000000</td>\n",
       "      <td>342.000000</td>\n",
       "    </tr>\n",
       "    <tr>\n",
       "      <th>mean</th>\n",
       "      <td>43.921930</td>\n",
       "      <td>17.151170</td>\n",
       "      <td>200.915205</td>\n",
       "      <td>4201.754386</td>\n",
       "    </tr>\n",
       "    <tr>\n",
       "      <th>std</th>\n",
       "      <td>5.459584</td>\n",
       "      <td>1.974793</td>\n",
       "      <td>14.061714</td>\n",
       "      <td>801.954536</td>\n",
       "    </tr>\n",
       "    <tr>\n",
       "      <th>min</th>\n",
       "      <td>32.100000</td>\n",
       "      <td>13.100000</td>\n",
       "      <td>172.000000</td>\n",
       "      <td>2700.000000</td>\n",
       "    </tr>\n",
       "    <tr>\n",
       "      <th>25%</th>\n",
       "      <td>39.225000</td>\n",
       "      <td>15.600000</td>\n",
       "      <td>190.000000</td>\n",
       "      <td>3550.000000</td>\n",
       "    </tr>\n",
       "    <tr>\n",
       "      <th>50%</th>\n",
       "      <td>44.450000</td>\n",
       "      <td>17.300000</td>\n",
       "      <td>197.000000</td>\n",
       "      <td>4050.000000</td>\n",
       "    </tr>\n",
       "    <tr>\n",
       "      <th>75%</th>\n",
       "      <td>48.500000</td>\n",
       "      <td>18.700000</td>\n",
       "      <td>213.000000</td>\n",
       "      <td>4750.000000</td>\n",
       "    </tr>\n",
       "    <tr>\n",
       "      <th>max</th>\n",
       "      <td>59.600000</td>\n",
       "      <td>21.500000</td>\n",
       "      <td>231.000000</td>\n",
       "      <td>6300.000000</td>\n",
       "    </tr>\n",
       "  </tbody>\n",
       "</table>\n",
       "</div>"
      ],
      "text/plain": [
       "       bill_length_mm  bill_depth_mm  flipper_length_mm  body_mass_g\n",
       "count      342.000000     342.000000         342.000000   342.000000\n",
       "mean        43.921930      17.151170         200.915205  4201.754386\n",
       "std          5.459584       1.974793          14.061714   801.954536\n",
       "min         32.100000      13.100000         172.000000  2700.000000\n",
       "25%         39.225000      15.600000         190.000000  3550.000000\n",
       "50%         44.450000      17.300000         197.000000  4050.000000\n",
       "75%         48.500000      18.700000         213.000000  4750.000000\n",
       "max         59.600000      21.500000         231.000000  6300.000000"
      ]
     },
     "execution_count": 10,
     "metadata": {},
     "output_type": "execute_result"
    }
   ],
   "source": [
    "#this will only pull the floats\n",
    "#outlier formula 1.5 * IQR\n",
    "#need to define your outliers \n",
    "# to read: https://www.stat.cmu.edu/~larry/=stat401/lecture-20.pdf\n",
    "penguins.describe()"
   ]
  },
  {
   "cell_type": "code",
   "execution_count": 11,
   "metadata": {},
   "outputs": [
    {
     "data": {
      "text/plain": [
       "island\n",
       "Biscoe       168\n",
       "Dream        124\n",
       "Torgersen     52\n",
       "Name: count, dtype: int64"
      ]
     },
     "execution_count": 11,
     "metadata": {},
     "output_type": "execute_result"
    }
   ],
   "source": [
    "penguins[\"island\"].value_counts()"
   ]
  },
  {
=======
>>>>>>> upstream/main
   "cell_type": "markdown",
   "metadata": {},
   "source": [
    "### Pandas `.plot`\n",
    "\n",
    "Let's start with the simplest way to plot data - using pandas built-in methods.\n",
    "\n",
    "Documentation! https://pandas.pydata.org/docs/reference/api/pandas.DataFrame.plot.html\n",
    "\n",
    "Goal: Create a scatterplot showing flipper_length_mm and body_mass_g."
   ]
  },
  {
<<<<<<< HEAD
   "cell_type": "markdown",
   "metadata": {},
   "source": [
    "Documentation on scatter plots in panda\n",
    "https://pandas.pydata.org/docs/reference/api/pandas.DataFrame.plot.scatter.html"
   ]
  },
  {
   "cell_type": "code",
   "execution_count": 12,
   "metadata": {
    "scrolled": false
   },
   "outputs": [
    {
     "data": {
      "image/png": "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",
      "text/plain": [
       "<Figure size 640x480 with 1 Axes>"
      ]
     },
     "metadata": {},
     "output_type": "display_data"
    }
   ],
=======
   "cell_type": "code",
   "execution_count": null,
   "metadata": {
    "scrolled": false
   },
   "outputs": [],
>>>>>>> upstream/main
   "source": [
    "# Simple way to throw a plot on top of data\n",
    "penguins.plot(x='flipper_length_mm', y='body_mass_g', kind='scatter', color='blue');"
   ]
  },
  {
   "cell_type": "code",
<<<<<<< HEAD
   "execution_count": 13,
   "metadata": {},
   "outputs": [
    {
     "data": {
      "image/png": "iVBORw0KGgoAAAANSUhEUgAAAkQAAAGxCAYAAACDV6ltAAAAOXRFWHRTb2Z0d2FyZQBNYXRwbG90bGliIHZlcnNpb24zLjcuMSwgaHR0cHM6Ly9tYXRwbG90bGliLm9yZy/bCgiHAAAACXBIWXMAAA9hAAAPYQGoP6dpAABpV0lEQVR4nO3deXgUVbo/8G8TOmELbRayCYYoAZQAKjgQRIEISVBER68oYJQRZXAEYdQ7c/EOF3AcQe9VR4ffuCK4jfF6FdeQEBRQJgmJAWYiKM02siUsIQsoJCE5vz/atOlOd1V1VVdXdff38zz9aGo9dapCn5x6z3ssQggBIiIiojDWxegCEBERERmNDSIiIiIKe2wQERERUdhjg4iIiIjCHhtEREREFPbYICIiIqKwxwYRERERhT02iIiIiCjsdTW6AMGira0NR48eRXR0NCwWi9HFISIiIgWEEDh9+jRSUlLQpYv3fiA2iBQ6evQo+vXrZ3QxiIiISIVDhw6hb9++XtezQaRQdHQ0AEeF9u7d2+DSEBERkRKNjY3o16+f83vcGzaIFGp/Tda7d282iIiIiIKMXLgLg6qJiIgo7LFBRERERGGPDSIiIiIKe2wQERERUdhjg4iIiIjCHhtEREREFPbYICIiIqKwxwYRERERhT02iIiIiCjssUFEREREYY9TdxAREfmZ3Q7s2wcMGACkpxtdGlKCPURERER+cuoUkJsLDBoEXH89MHCg4+e6OqNLRnLYICIiIvKTGTOADRtcl23YAEyfbkx5SDk2iIiIiPzAbgeKioDWVtflra2O5Xv2GFMuUoYNIiIiIj/Yt096/d69gSkHqcMGERERkR9ccon0+gEDAlMOUocNIiIiIj8YOBDIyQEiIlyXR0Q4lnO0mbmxQUREROQn77wDTJzoumziRMdyMjfmISIiIvKTmBigsNARQL13L/MQBRM2iIiIiPwsPZ0NoWDDV2ZEREQU9tggIiIiorDHBhERERGFPTaIiIiIKOyxQURERERhjw0iIiIiCntsEBEREVHYY4OIiIiIwh4bRERERBT22CAiIiKisMcGEREREYU9NoiIiIgo7LFBRERERGGPs90TERGR7ux2YN8+YMAAID3d6NJ0xh4iIiIi0s2pU0BuLjBoEHD99cDAgY6f6+qMLpkrNoiIiIhINzNmABs2uC7bsAGYPt2Y8njDBhERERHpwm4HioqA1lbX5a2tjuV79hhTLk8MbxAdOXIEd955J+Li4tCjRw9cfvnlqKysdK4XQmDp0qVISUlB9+7dMX78eOzcudPlGE1NTZg/fz7i4+PRs2dPTJ06FYcPH3bZpq6uDnl5ebDZbLDZbMjLy0N9fX0gLpGIiCgs7dsnvX7v3sCUQwlDG0R1dXW4+uqrYbVasW7dOuzatQtPP/00LrjgAuc2Tz31FJ555hmsXLkSFRUVSEpKwqRJk3D69GnnNgsXLsTatWuRn5+PLVu24MyZM5gyZQpaOzRJZ8yYgR07dqCwsBCFhYXYsWMH8vLyAnm5REQUIux2YN069T0cWvcPFpdcIr1+wIDAlEMRYaDf//73YuzYsV7Xt7W1iaSkJLFixQrnsnPnzgmbzSZefPFFIYQQ9fX1wmq1ivz8fOc2R44cEV26dBGFhYVCCCF27dolAIiysjLnNqWlpQKA+O677xSVtaGhQQAQDQ0NPl0jERGFjtpaIXJyhAB+/uTkCHHqVGD2D0Y5OUJERLhec0SEY3kgKP3+NrSH6OOPP8bIkSNx2223ISEhAVdccQVeeeUV5/oDBw6gpqYG2dnZzmVRUVEYN24cSkpKAACVlZVoaWlx2SYlJQUZGRnObUpLS2Gz2TBq1CjnNqNHj4bNZnNuQ0REJEdrgHCwBBj70zvvABMnui6bONGx3EwMbRDt378fL7zwAtLT01FUVIS5c+fiwQcfxBtvvAEAqKmpAQAkJia67JeYmOhcV1NTg8jISMTExEhuk5CQ0On8CQkJzm3cNTU1obGx0eVDREThS2uAcDAFGPtTTAxQWOi4/oICx38LCx3LzcTQxIxtbW0YOXIknnjiCQDAFVdcgZ07d+KFF17AXXfd5dzOYrG47CeE6LTMnfs2nraXOs7y5cuxbNkyxddCREShTUmAsFTCQaX7mz2BoTdy5U5PN/f1GNpDlJycjMsuu8xl2aWXXoqDBw8CAJKSkgCgUy/O8ePHnb1GSUlJaG5uRp1bhif3bY4dO9bp/CdOnOjU+9Ru0aJFaGhocH4OHTqk4gqJiChUaA0Qlts/Pj44Ehi6C5bEi3IMbRBdffXV2L17t8syu92O1NRUAEBaWhqSkpJQXFzsXN/c3IzNmzdjzJgxAIARI0bAarW6bFNdXY1vvvnGuU1mZiYaGhpQXl7u3Gbr1q1oaGhwbuMuKioKvXv3dvkQEVH4GjgQyMkBIiJcl0dEOJbL9X7I7b94cXDGF4VMXFQgIry9KS8vF127dhV/+tOfxJ49e8Tbb78tevToId566y3nNitWrBA2m0188MEHoqqqSkyfPl0kJyeLxsZG5zZz584Vffv2FRs2bBDbtm0TWVlZYvjw4eL8+fPObXJzc8WwYcNEaWmpKC0tFUOHDhVTpkxRXFaOMiMiolOntI0S87Z/ebnrMveP3a7vdam1e7f5y630+9vQBpEQQnzyySciIyNDREVFicGDB4uXX37ZZX1bW5tYsmSJSEpKElFRUeLaa68VVVVVLtucPXtWzJs3T8TGxoru3buLKVOmiIMHD7psU1tbK2bOnCmio6NFdHS0mDlzpqirq1NcTjaIiIiond0uREGB+i989/0LCqQbFgUF/iu7PwVDuZV+f1uEEMLYPqrg0NjYCJvNhoaGBr4+IyIiv7LbHTE4UuvNGJAcDOVW+v1t+NQdRERE4U5rfJJRgrXcnrBBREREZALBksDQXbCW2x1fmSnEV2ZERBQIe/Y4chIFWx4is5Zb6fe3oYkZiYiIyJXZExh6E6zlbscGERER6cqozMvBmvE5VJn9fjCGiIiIdGFUBuNQyZwcKoLlfrBBREREujAqg3HIZE4OEcFyPxhUrRCDqomIlDMqP00w5MUJJ2a4H8xDREREhlEys3sonZccjZt16xyjzdoF0/1gg4iIiPxO68zwwXbecCYVIxRM94MNIiIi8jujMhiHUubkYCEVIzRwIBAX53m/uDhz3Q82iIiISBdGZTAOlczJwcBuB4qKgNZW1+WtrY7l69cDtbWe962tdX29ZjTmISIiIl3ExACFhYHPYGzUecORXIxQWZn0+r17zXNv2CAiIiJdGZXB2MyZk82epFApuRih0aOl1zOGiIiIKAwFS5JCpeRitrKzgyemiw0iIiKiAAmWJIW+kIvZCpaYLiZmVIiJGYmISAszJCnUk1zMllExXZztnoiIyESUJCkM5gaRXMyWmWO6ADaIiIgoTBUVAVu3ApmZwKRJ+p8vUEkKzRqwHej69hUbREREFFb27QNGjXLNjxMXB1RUAGlp+p23PQB5wwbXvD0REY6YGq2Nl1OnHDFKRUU/L8vJccTqxMRoO7YWRtW3rxhUTUREYcX9yxlw/HzVVfqfW88AY7MGbBtZ375gg4iIiMJGUZF05uTiYn3P35400m4HCgoc/y0s1N6DI5cx2qiM0EbXty/YICIiItPyNIO6Flu3Sq8vLfXPeeSkpwOTJ6t7TRZMs8orrW9/32c12CAiIiLT0SuB4ahR0uszM7UdX0/BOKu8XH0PGWKeRJXMQ6QQ8xAREQVObq734OPCQm3Hjo/3/BonLg44eVLbsfUkVyd61pkWUvU9cqT+ZVb6/c0eIiIiMhW942EqKhxfxh21j3oyKyV1YtaM0N7q+913zRX3xGH3RERkKnonMExLc/QEFRc7YljMmhenI6V1UlhoXEZob7zV97p10vsFOlElG0RERGQqgYqHmTTJ/A2hdr7UiV4ZobUmVnSvb7PFPfGVGRERmYrcDOpm6PUINCPrZN8+RxxQbi6wZIljBvv4eODAAW3HNdt9ZoOIiIhMx6zxMEYyqk70TKxopvvMUWYKcZQZEVHgmS0exgwCWSdFRY6eIW/Wr/fPa0c9r4mz3RMRUdAz+wzpRghknShJrOiPBpEZ7jMbREREFLSMmtld63ml9pc7diCv2Z+JLI26V0oxhoiIiIKOXpms9T6v1P5yxzbimnNyOucQahcXp6x3yKh75SvGECnEGCIiIvMwKiuz1vNK7Q+YMxP1gQOOAOqOgdXtiSzT0uT3NzqDttLvbzaIFGKDiIjIHOx2R2+D1Ho9XsloPa/c/lKKihy9NWrP7Q9qElkada86CoqpO5YuXQqLxeLySUpKcq6fNWtWp/WjR492OUZTUxPmz5+P+Ph49OzZE1OnTsXhw4ddtqmrq0NeXh5sNhtsNhvy8vJQX18fiEskIjIFM8wmroaRM7u7n1vreeX2l1JWpu3c/pCa6ugp6t9f+T6Bulf+YHgM0ZAhQ1BdXe38VFVVuazPzc11WV9QUOCyfuHChVi7di3y8/OxZcsWnDlzBlOmTEFrh765GTNmYMeOHSgsLERhYSF27NiBvLy8gFwfEZGRgiV+w52RM7t7O3d8vLbzypVbiltfgM/n1kLLM2S2bNSShIGWLFkihg8f7nX93XffLW666Sav6+vr64XVahX5+fnOZUeOHBFdunQRhYWFQgghdu3aJQCIsrIy5zalpaUCgPjuu+8Ul7WhoUEAEA0NDYr3ISIyWk6OEBERQgA/fyIiHMvNTK7cel6X1LG1nlfLsY26l1rPGxfnum/7Jy5O33K3U/r9bXgP0Z49e5CSkoK0tDTccccd2L9/v8v6TZs2ISEhAQMHDsR9992H48ePO9dVVlaipaUF2dnZzmUpKSnIyMhASUkJAKC0tBQ2mw2jOowdHD16NGw2m3MbT5qamtDY2OjyISIKJnrPGq8XI2d2lzv3449rO69UueWuyYiszlqfIbu9c5brdrW15noGDc1DNGrUKLzxxhsYOHAgjh07hscffxxjxozBzp07ERcXh8mTJ+O2225DamoqDhw4gMWLFyMrKwuVlZWIiopCTU0NIiMjERMT43LcxMRE1NTUAABqamqQkJDQ6dwJCQnObTxZvnw5li1b5t8LJiIKIL1njdeLkTO7y537xAlt542Jkd5fap3cvnrQ+gwF0zNoaINo8uTJzv8fOnQoMjMzcckll+D111/HQw89hNtvv925PiMjAyNHjkRqaio+++wz3HLLLV6PK4SAxWJx/tzx/71t427RokV46KGHnD83NjaiX79+iq+NiMhoQRW/0YGRM7srPbfceeWSEErtL3fsQGZ11voMBdMzaPgrs4569uyJoUOHYo+XPrTk5GSkpqY61yclJaG5uRl1bpFdx48fR2JionObY8eOdTrWiRMnnNt4EhUVhd69e7t8iIiCidlmE1fKyHJrPXewBrF7o7U+gukZNFWDqKmpCd9++y2Sk5M9rq+trcWhQ4ec60eMGAGr1Yri4mLnNtXV1fjmm28wZswYAEBmZiYaGhpQXl7u3Gbr1q1oaGhwbkNEFKrMNJu4L4wst5Zzz5jhSELY0YYNwPTp/itfoGm9F8HyDBqamPGRRx7BjTfeiIsuugjHjx/H448/js2bN6OqqgpxcXFYunQpbr31ViQnJ+Nf//oXHn30URw8eBDffvstoqOjAQD3338/Pv30U6xZswaxsbF45JFHUFtbi8rKSkT81CSdPHkyjh49ipdeegkAMGfOHKSmpuKTTz5RXFYmZiSiYBass8YbWW5fz22GJIR60novjLqXQTHb/eHDhzF9+nScPHkSffr0wejRo1FWVobU1FScPXsWVVVVeOONN1BfX4/k5GRMmDAB7777rrMxBADPPvssunbtimnTpuHs2bO47rrrsGbNGmdjCADefvttPPjgg87RaFOnTsXKlSsDfr1EREYxw2ziahhZbl/PHUwBxGpovRdmfwY5dYdC7CEiIlJHyyznZp0h3VO5zNJDpFedmfVeyAmKqTuIiCh0aQkwNmtwslS5jA4g1qvOzHov/I0NIiIi0oWWAGOzBifLlcvIAGK96sys98Lf+MpMIb4yIyJSTsvrI7O8evJ0XqXlCnQAsV51ZtZ74Qu+MiMiCjNmmtFeyyznZp0h3ZdypacDkydLN/rU3itP++pVZ2a9F3pgg4iIKMiZMcZDS4Zis2Y39ke59Iqr0qvOzHov9MAGERFRkDNjjIeWAGOjg5P1LJdecVV61ZlZ74Ue2CAiIgpiZp7RXkuAsVmzG2spl5Z7pWRfverMrPfC3wxNzEhERNqYORmgltnZjZjZXe9yablXSvfVo87Mei/8jQ0iIqIgFgwxHloyFOs5DlpLokG5cnk6dqDiqvTKCG32TNNa8ZUZEVEQC9UYDz0DxfVMGKlX4sZQvc9mwgYREVGQC8UYDz0DxfVMGKln4sZQvM9mwsSMCjExIxGZXajEeOiZDFDPhJFFRY7eGiXH1nKvQuU+B0pQzHZPRET+EyoxHnoGiusZ2FxWpvzYWu5VqNxns2GDiIiITEXPQHFfju0eGC237+jR6o/tT8E6K73RGENERESmomcAsZJjewuM7tNHet/sbPXHNjpYnNggIiIiE9IzgFju2FKB0XL7ajm2VmbMWB5MGFStEIOqiYgCT88AYk/HVhp0LVcuLcdWIxRmpdcLg6qJiCgg9IxZ0RJALFcuT8dWGnQtVy4tx1ZD6bEZX+QdX5kREZEqZo1Z0VIuswR0+/vY8fHmvFdmwgYRERGpYtaYFS3lGjgQiIvzvC4uTv+Abr2OvXixOe+VmbBBREREPtMyc7uZy2W3A7W1ntfV1mq/LiOCxf/4R3PeK7Nhg4iIiHymJGbFCFrLpfd1tc8cb7cDBQWO/xYWOpZr5e3YJ09K72fUvTIbBlUTEZHP9IyH6cjXIGCt5VK6v9bgZD2zTbsfO1D3Ktixh4iIiHym9+zragOjtZZLbv+4uOALTtb7XoUKNoiIiEgVPeNhtARGay2X1P5mDSSXo+e9ChVMzKgQEzMSEXnm7+SJ/koyqLVc7vuHQvJDPRNdmhUTMxIRUUD4Ox7GXwkMtZbLfX89EysGip6xS8GODSIiItJVoAOj9eJLuZgROvgwhoiIiHShJTB6wgTP67KyjGtgKAlONmv2bpLHBhEREelCSwCyxeL4uC8zmpGz2ZO+GFStEIOqiYiU0xKAHAzBy4GezZ7UU/r9zR4iIqIgYbcD69YFx1QLWjI+mzULdkeeuhKCodzkHRtEREQmF4xxKVoCo80aVA1I3wszl5vksUFERGRywRiXoiU7sp4zzmsldS+YETq4sUFERGRiZp1VXgm12ZH1nnFeLSX3ghmhgxfzEBERmVgwJwNsn33d1+zIZr1mpeVSc81kPEN7iJYuXQqLxeLySUpKcq4XQmDp0qVISUlB9+7dMX78eOzcudPlGE1NTZg/fz7i4+PRs2dPTJ06FYcPH3bZpq6uDnl5ebDZbLDZbMjLy0N9fX0gLpGISJNQiEtJTwcmT1beMPA1AWKgAs19KZeR47eDKfjeTAx/ZTZkyBBUV1c7P1VVVc51Tz31FJ555hmsXLkSFRUVSEpKwqRJk3D69GnnNgsXLsTatWuRn5+PLVu24MyZM5gyZQpaO/RpzpgxAzt27EBhYSEKCwuxY8cO5OXlBfQ6iYjUCMe4lIEDgWuu8bzummuMS4CoJGGkkQHwwRh8byrCQEuWLBHDhw/3uK6trU0kJSWJFStWOJedO3dO2Gw28eKLLwohhKivrxdWq1Xk5+c7tzly5Ijo0qWLKCwsFEIIsWvXLgFAlJWVObcpLS0VAMR3332nuKwNDQ0CgGhoaPDlEomINDt1SoicHCEc/Q6OT06OY3moio11vd72T2ysY31OjhAREa7rIiIcy/WUlSWExeJ6XovFsdzIchl9bjNT+v1teA/Rnj17kJKSgrS0NNxxxx3Yv38/AODAgQOoqalBdna2c9uoqCiMGzcOJSUlAIDKykq0tLS4bJOSkoKMjAznNqWlpbDZbBg1apRzm9GjR8Nmszm38aSpqQmNjY0uHyIiI7TH4tjtQEGB47+FhY7loaioyNHb4cmpU8Dq1cYEmtvtwBdfdH4dJoRj+fr1xgXAB3PwvVkY2iAaNWoU3njjDRQVFeGVV15BTU0NxowZg9raWtTU1AAAEhMTXfZJTEx0rqupqUFkZCRi3P5VcN8mISGh07kTEhKc23iyfPlyZ8yRzWZDv379NF0rEZFWvsbiBKutW6XXf/GF9Hq9EiDKBVWXlUmv1zMxI5NCamdog2jy5Mm49dZbMXToUEycOBGfffYZAOD11193bmNxm7xGCNFpmTv3bTxtL3ecRYsWoaGhwfk5dOiQomsiIiJXvgb5Xnih9PohQ6TXKw0097VcckHVo0f7p1xqhELwvdEMf2XWUc+ePTF06FDs2bPHOdrMvRfn+PHjzl6jpKQkNDc3o84tYsx9m2PHjnU614kTJzr1PnUUFRWF3r17u3yIiEg5tUG+KSnS64cP1xZorrZccgHu2dnGBcCHY/C9v5mqQdTU1IRvv/0WycnJSEtLQ1JSEoqLi53rm5ubsXnzZowZMwYAMGLECFitVpdtqqur8c033zi3yczMRENDA8rLy53bbN26FQ0NDc5tiIjI/5Rk2PbUS6Okt0NLAkQtmb/lzmtkYkYmhdRGVWLG559/3uNyi8WCbt26YcCAAbj22msR4d5UdfPII4/gxhtvxEUXXYTjx4/j8ccfR2NjI+6++25YLBYsXLgQTzzxBNLT05Geno4nnngCPXr0wIwZMwAANpsNs2fPxsMPP4y4uDjExsbikUcecb6CA4BLL70Uubm5uO+++/DSSy8BAObMmYMpU6ZgkNS0xEREpFp7kK+79iDfigpg8WLXbXJyHF/e7b0dGza4BglHRDi+4NuHt+tRrj17pHtT5JJNqk1G6Q9GnjskqBnC1r9/f9GzZ09hsVhEbGysiImJERaLRfTs2VMkJiYKi8UiLrnkEnHw4EHJ49x+++0iOTlZWK1WkZKSIm655Raxc+dO5/q2tjaxZMkSkZSUJKKiosS1114rqqqqXI5x9uxZMW/ePBEbGyu6d+8upkyZ0um8tbW1YubMmSI6OlpER0eLmTNnirq6Op+umcPuiYiUKyjwPGy+/XPlldJDxOVSDSgZYl5YKMSyZUKsX6+8XAUFgasjCgyl398WIXzPp/nOO+/g5ZdfxquvvopLfurb3Lt3L379619jzpw5uPrqq3HHHXcgKSkJ//d//+fnJpwxGhsbYbPZ0NDQwHgiIiIZdrsjRkftvu09G556O+SOvWEDcPvtrvOhxcU5eqVaWqT37XhuCg1Kv79VNYguueQSvP/++7j88stdlm/fvh233nor9u/fj5KSEtx6662orq72ufBmxAYREZFvcnM9v/YaPhzYts37fgUFjvQC3qxb5wiG9iY6GugwoYFTXBxw8qT3ck2c6HjlRKFF6fe3qqDq6upqnD9/vtPy8+fPO0eFpaSkuEyxQUREocnb8HVvQb4vvih9PLkh4nJB196+emprgeJicwQfc74x81HVIJowYQJ+/etfY/v27c5l27dvx/3334+srCwAQFVVFdLS0vxTSiIiMh254eveMmxfdZW2IeJSQ8zlGkulpcZm/uZ8Y+alqkG0atUqxMbGYsSIEYiKikJUVBRGjhyJ2NhYrFq1CgDQq1cvPP30034tLBER6UNNj4XS4eueMmwr7aXxtfdpxQrpMmdmSpdLybm10DLkn/Slath9e36g3bt3Y/fu3RBCYPDgwS7D2Cd4mxKYiIhM49Qpx5e0p+HvUj0mWoevy0WvypXL2xBzu136uP37S69Xcm61tNYZ6UtTYsZBgwZh6tSpuOmmmzzm9Ondu7dzslYiIjIftT0WWufOkjuv2t4nf8zppVcvDucbMzddM1WrGMBGREQBomWGdC1zZ8mdV8us8Vrn9NJz1njON2Zuppq6g4iIAkdLj4WWubP0nDVe65xeevbicL4xc2ODiIgoDKidM0xqf7XD1/WeNV7LsHq9e3HMMOSfPFMVVE1ERMFBKkB44EAgKwvYuNE1yNliASZM+HnOMKkAYzVzZ8nNVdY+a7zUXGZStMzppWQeNS0435h56dpDZLFY9Dw8EQU5JqfTn5IAYfdwz44/K9lfbvi6J4GYNV5Nufx1br3KRvpRNXWHUtHR0fjHP/6Biy++WK9TBAyn7iDyH72GNZMruTm/iooc9a52vT/m/ZLrKTGyJ4W9OKFB6fe3X16Ztba2oqqqCqmpqYjp8K/ZunXrcOGFF/rjFEQUQqR6HTiXlP9oDV5WEtycnu5oOG3d6kh6OGmSb2VMT9eWr0jLubWWjUKLqgbRwoULMXToUMyePRutra0YN24cSkpK0KNHD3z66acYP348AGDs2LH+LCsRhQAmpwscrcHLcuutViA+3vOs8lpnbpLrRdy3Dxg1Sp9zU3hSFUP0f//3fxg+fDgA4JNPPsGBAwfw3XffYeHChfjP//xPvxaQiEILk9MFjtww7/bgZbXr77jDtUECOH6+6irtZZeLXXJvDPnz3BSeVDWITp48iaSkJABAQUEBbrvtNgwcOBCzZ89GVVWVXwtIRKEl2JPTBVsguNbgZW/r7723c4OkXfus8mrJJUd87TX9zk3hS1WDKDExEbt27UJraysKCwsx8afflh9//BER7n9KEBF1EKzJ6YJ1lnK5md3Vrt+1S/q8paXqyyzXi7hxo37npvClqkH0q1/9CtOmTUNGRgYsFgsm/RTJtnXrVgwePNivBSSi4OXrTOVmTk4X7LOUywUny613HyY+apT09h1nlfeVXC+i3NzhWs7dkVRvYLD1FJICQqX33ntPPPPMM+LQoUPOZWvWrBEffvih2kOaWkNDgwAgGhoajC4KkenV1gqRkyOE42vW8cnJEeLUKdft7HYhCgoc/zWz3btdr8X9Y+byy90LpffKnd51kpMjRESE6zEjIhzL9T63VJ2orS8yjtLvb9UNInd1dXX+OpQpsUFE1Nnu3Z4bNFJfZsGooED6C7igwOgSeid3L9TeK73r5NQp7w0Pvc8tVSeh9myHA6Xf36pemT355JN49913nT9PmzYNcXFx6Nu3L/75z3/6peeKiMxLKp5Gz9nCjRKsgeBmnlVejlRsUxeZb66uGjLsydVZqD3b9DNVDaKXXnoJ/fr1AwAUFxejuLgY69atQ25uLh555BG/FpCIzEcqniYUh9UHayC4mWeVV8rTFBdtbdL7nD+v/nxydSYlGJ9t+pmqBlF1dbWzQfTpp59i2rRpyM7Oxu9+9ztUVFT4tYBE/sRASO3k/oKWG2hq1t4UOcEYCG6WWeWlfu9WrQLy8oA1a6TP1ZGevVNyx9brvGQ8VQ2imJgYHDp0CABcht0LIdDq/q8kkQkE65BpM5L7C7q1NTh7U+TIDU83I62JGZXOKu+tTqR+7yorgchIRz6jt94CfvUrx887dmi/Li3PmNyxQ/HZJgdVDaJbbrkFM2bMwKRJk1BbW4vJkycDAHbs2IEBbCKTCQX7kGkzUfLXeTD2piil33TY+gjErPLe6kTq9y4zE2hpcV3X0gL84hfKzqnnMyZ17FB+tsOdqtnuW1pa8Nxzz+HQoUOYNWsWrrjiCgDAn//8Z/Tq1Qv33nuv3wtqNM52H7zkZvz2x4zd4SY31/HF1rFDOCLC8cXQcXLWUJotXG5uLbPTY1Z5qTo5cUL6907K6tXArFnKttXzGZM6dig926FO6fe3qgZROGKDKHitW+forvemoMARtGlmdrvjVZW3f3zl1vtbXZ3jr/xgbRyoobQRaFZ6PENSdbJggfTvnZQ77wTefFPdvr4I9O8NGUPp97eGwYnArl27cPDgQTQ3N7ssnzp1qpbDEvlVsA6ZBuR7JYzqtWiPHQmXv5LbA8nddRxubdbr1+sZkquThx5SX+brrlO/rxLB3ttHOlGT5Gjfvn1i2LBhwmKxiC5dugiLxeL8/y5duqg5pOkxMWNwC9Zkanol1SPfMDFjZ0rqROrYVqvn/axW4+uEQouuiRkXLFiAtLQ0HDt2DD169MDOnTvx5ZdfYuTIkdi0aZNfG2xE/hCMgZB6JtUj3wRLL6P78HajEzNK/d6VlwNWq+s6q9WxXE+hmDiU/EPVK7PS0lJ88cUX6NOnD7p06YIuXbpg7NixWL58OR588EFs377d3+Uk0iQYX/H4I6me2a8xWLQPxfYWL2N0PXt7BXTPPdL7aXmGlNaJt9+7mBigudmRf+jzzx2vyZQGUmuhJHGo0feTjKGqQdTa2opevXoBAOLj43H06FEMGjQIqamp2L17t18LSORP6enB84+d3kn1yDfvvNM5kFxNL6Megbzehrf/8IP0fv5IzKikTqR+72bNCkxDqF2w9PZR4Kl6ZZaRkeGcs2zUqFF46qmn8Pe//x2PPfYYLr74Yr8WkChc6Z1Uj3yjNTGjXslBpV4BbdkCjB0r/QxlZQEWi+t6i8WxXGtiRjMK1mlYSH+qGkR/+MMf0PbTZDKPP/44vv/+e1xzzTUoKCjA888/79cCEoWzQCTVI994mltLCb2Sg8q9Apo/X/4ZcU++4msyFrV1YhT+3pAnfstDdOrUKcTExMDi/qdGiGAeIjKSHkn1KHD0TA6q9NienpFwT1rK35vwoPT7W1UPkSexsbGaGkPLly+HxWLBwoULnctmzZoFi8Xi8hnt9tK7qakJ8+fPR3x8PHr27ImpU6fi8OHDLtvU1dUhLy8PNpsNNpsNeXl5qK+vV11WokCT+ws82P5CDzdKAnnVUvoKyNMzome5ggF/b6gjVUHV586dw1/+8hds3LgRx48fd74+a7dt2zafjldRUYGXX34Zw4YN67QuNzcXq1evdv4cGRnpsn7hwoX45JNPkJ+fj7i4ODz88MOYMmUKKisrEfHTvxAzZszA4cOHUfhTOtk5c+YgLy8Pn3zyiU/lJCL/CpdMwXoH8qoN+PalXOFyryh8qWoQ3XPPPSguLsa//du/4Re/+IWmnqEzZ85g5syZeOWVV/D44493Wh8VFYWkpCSP+zY0NGDVqlV48803MfGnF8JvvfUW+vXrhw0bNiAnJwfffvstCgsLUVZWhlGjRgEAXnnlFWRmZmL37t0YpHayHSJSLdwyBQ8cCEyYAGzc2HmdkuBlOWrTSigZOh9u94rCl6oG0WeffYaCggJcffXVmgvwwAMP4IYbbsDEiRM9Nog2bdqEhIQEXHDBBRg3bhz+9Kc/ISEhAQBQWVmJlpYWZGdnO7dPSUlBRkYGSkpKkJOTg9LSUthsNmdjCABGjx4Nm82GkpISNoiIDCAVYKx0XrBg67GwWByfjlGb/g65VJNWQq53yR/3iigYqGoQXXjhhYiOjtZ88vz8fGzbtg0VFRUe10+ePBm33XYbUlNTceDAASxevBhZWVmorKxEVFQUampqEBkZiRi3P1MSExNRU1MDAKipqXE2oDpKSEhwbuNJU1MTmpqanD83NjaquUQicqN1XrBg7LGw24Evvui8XAjHciPnQpPqXQrmOdyIfKUqqPrpp5/G73//e3z//feqT3zo0CEsWLAAb731Frp16+Zxm9tvvx033HADMjIycOONN2LdunWw2+347LPPJI8thHB5jefplZ77Nu6WL1/uDMK22Wzo16+fwiujUOU+LQKpozSQ11t9+2P4eqDvZaCCl7Vcl6fxxuEedE3hRVWDaOTIkTh37hwuvvhiREdHIzY21uWjRGVlJY4fP44RI0aga9eu6Nq1KzZv3oznn38eXbt2Rat7ljEAycnJSE1NxZ6fftuTkpLQ3NyMOrfMZsePH0diYqJzm2PHjnU61okTJ5zbeLJo0SI0NDQ4P4cOHVJ0XRR69EqoF67kAnnj473Xt9Z5qIy6l3oHVWu5Lql9mdWZwoqamWOvu+46kZ6eLlasWCFWr14t1qxZ4/JRorGxUVRVVbl8Ro4cKe68805RVVXlcZ+TJ0+KqKgo8frrrwshhKivrxdWq1W8++67zm2OHj0qunTpIgoLC4UQQuzatUsAEFu3bnVuU1ZWJgCI7777TvE1c7b78MWZsf1Pqk6l1mmddd7Ie6nnubUcW25fPv8U7JR+f6tqEHXv3l3s2LFDVcGkjBs3TixYsEAIIcTp06fFww8/LEpKSsSBAwfExo0bRWZmprjwwgtFY2Ojc5+5c+eKvn37ig0bNoht27aJrKwsMXz4cHH+/HnnNrm5uWLYsGGitLRUlJaWiqFDh4opU6b4VDY2iMLT7t3SX8B2u9ElDE6nTjm+UDvWZU6OEOXl0vVdVKT+fhh9L71d86lT2o6r5bqU7KtXuYkCRen3t6qg6sGDB+Ps2bP+66byICIiAlVVVXjjjTdQX1+P5ORkTJgwAe+++65LQPezzz6Lrl27Ytq0aTh79iyuu+46rFmzxpmDCADefvttPPjgg87RaFOnTsXKlSt1LT+FBs6MrQ9vgbzr1knv19qqftZ5o++l2qHxcrRcl9J99Sg3kdmomrpj/fr1WLZsGf70pz9h6NChsFqtLutDcWoLTt0RnsJ9agM5RUXA1q1AZiYwaVLn9b4OjVdS3/HxnYeJKxllFqr3Uul1eboXgaoTqecg2NInUPBR/P2tpvvJYrEIi8UiunTp4vJpXxaK+MosfDGGorO9e4WIi3Otk7g4Ifbvd6yvrVX/miUrSwiLxXVfi8WxvCO73REz5MurrlC9l1LXJXcvJkzw/LrMvb7VkDq3lmeEyBe6vjLb6CndKlGIUjstQigbNQqorXVdVlsLXHUVcPKk9mR+SmZf1yMJYbCSuq7p06XvhZ4JI+VSJOid8JG9T+QLv81278lvfvMbPPbYY4iPj9frFAHDV2bEGAqHoiLHsGxvXnsNuOce7+ulXsME6hVOqN5L9+uSq8+iIsfrRm+01LfcueX21XJfgjF5J+kn4LPde/LWW28xwzOFDM6M7bB1q/R6TxmZO5JK5heoRIChei/dr0uuPsvKpNdrqW+5c+t1XsA/yTsp/OjaINKx84mIDNJhWkCPsrKk10sl82MiQG3cM1XL1efo0dLrtdS33Ln1Oq/W5J0UvnRtEBFR6MnJAeLiPK+LiwN+9SvHzO6eyM3s3j77eoesGQAcP+fkhF6Pjr94yzbdp490fWZn61ffcvdSr/NyuhFSiw0iIvJZRUXnRlFcnGM58HOgbkdKA3XfeccRENxRKAQ+60nqFZFcfepZ31LH1uu87GUktXQNqo6OjsY//vEPXHzxxXqdImAYVE3UWXExUFrqmofIX4HRoRr47G9K61uuPvWsb6lj63He3FzvyTv9NYKNgofS729Vw+6JyHehOAQ4NRU4fx7o3//nZf7KCK1mWL1SRt4Lf59baX3L1aeWP43lrknq3Hrc51BNr0D60vWV2Z133sneFAp7Rs2wrqdgnSHdyHuh17m11reWcpn12W6fJsVuBwoKHP8tLOSQe5KhJutjamqqWLZsmfj+++/V7B6UmKma1ArF7MjBOkN6qM52b7V6zjZttepbLrPeZ6KOlH5/q+ohevjhh/HRRx/h4osvxqRJk5Cfn4+mpib/ttSIQkAoDgFWck1KA2bdh4nrych7oee5i4qAlhbP61paHHFeepQrFJ9tCm+qGkTz589HZWUlKisrcdlll+HBBx9EcnIy5s2bh23btvm7jERBKxSHACu5JrlXFka8ajHyXuh5brlEmaWl3tdpKVcoPtsU3jTFEA0fPhzPPfccjhw5giVLluDVV1/FVVddheHDh+O1115jYkYKe/6Kp1m1CsjLA9as0VykTnztpfHlmrxlhDYik7CRsU16nlsuUWZmpvd1Wspl5lgxIlW0vJdrbm4W7777rsjNzRURERHi6quvFq+99pp4/PHHRVJSkpg+fbqWw5sKY4hILS1xFl9/3Tk+xGoVYvt27eUKxIz0nuze7Tnepf3jy+z1vgrVGKK4OM91GRenb7kYQ0TBQOn3t6oGUWVlpZg3b56Ii4sTCQkJ4uGHHxbffvutyzbl5eWiW7duag5vSmwQkVqnTqlveGgJlpWj5cssK8tzuZQ0iAoKpBtEBQXar80bLffCzOfev79zoyguzrFcz3IZWZ9ESin9/laVmDEiIgKTJk3C7NmzcfPNN8NqtXba5ocffsC8efOwevVqzb1YZsDEjKSVrwnoVq0C7r3X+/rVq4FZs9SVRUvyRK2JFwM1o70UI5M+6nluT4kyA1EuJtEkM9M1MeP+/fuRmpoquU3Pnj1DpjFE5A++JqDbtEl6/eefq28QaUmeqDXxYvscV94yCQfiC1XPpI9GnnvSJN8bQu20lMvI+iTyF1VB1XKNISLSbvx46fXXXaf+2L4ExPo6g7qSYFrOV6YPLWkMioqAxx6THqZPFMoUvzKLiYmBReHsjKdOndJUKDPiKzMyQmSk5xwzVivQ3Kzt2NddB2zc6Dplg8XimKn+888dQ+NnzHCd/iAn5+dpEfwxVxRftfiH1L2Sy868b59jpFpt7c/L2ifqTUvTp7xEgeT3V2Z//vOfnf9fW1uLxx9/HDk5Ocj8aUxnaWkpioqKsHjxYvWlJiIX5eXAL37h2iiyWh3L/cH9z6GOP8vNoO6PuaL4qsU/pO6VXAPVvTEEOH6+6irg5En/lpPIzFQFVd96662YMGEC5s2b57J85cqV2LBhAz788EN/lc802ENERlqzxtFrc9116uOGOpILbC4qcvQwSO2vZAZ10p+WIPWiIkdCTG/Wr1cfk0RkFkq/v1XFEBUVFSHXw29RTk4ONrj/mUJEms2aBbz5pvfGkK+xI3KB0WVl0uvbsxDL/TklVy7GrWinJWO0lizXRKFGVYMoLi4Oa9eu7bT8ww8/RFxcnOZCEZEyaqfAkAuMHj1aen18vPR55cq1b9/Px1iyBMjOdvx84ICy66afaQly15LlmijUqHpltmbNGsyePRu5ubnOGKKysjIUFhbi1VdfxSx/9OmbDF+ZkRnl5qoPbpbbV2o9oH7fwkJH48c9bgVwBPMybsV3Wp4DPQP3icxA11dms2bNQklJCS644AJ88MEHeP/992Gz2fD3v/89JBtDRGakdbZxuaHv3tb/8Y/S512/Xnr9a695bgwBjuV8feY7tWkM7HbPjSHAsZwz1lM4UZWYEQBGjRqFt99+259lISIfaE2Q2D4jvbfAaG/r162TPq9c/NHGjdLrS0sZyOsruXvpjdZniCiUqG4Qtba24sMPP8S3334Li8WCyy67DFOnTkVERIQ/y0cUMux2xxeQv0ZkKY0dkTuv3NB39/Va448mTADeesv7erPHrfj7PvqTr2kMQmHGejPfDwoyaiZK27Nnj0hPTxc9evQQV1xxhbj88stFjx49xKBBg8TevXvVHNL0OLkrqaVlVnk5UhO0GnVeJeu1zM5uFD3r00hZWUJYLK7XZbEom6jXSKF6P8j/lH5/q4ohevDBB3HJJZfg0KFD2LZtG7Zv346DBw8iLS0NDz74oH9bbERBTippnlZSsSNGnVfJ+ooKRwB1R+3Zkc1Kz/o0mlSCTrMK5ftBxlA1yqxnz54oKyvD0KFDXZb/4x//wNVXX40zZ874rYBmwVFmpEagZnZ3jx0x6rztlE4loWV29kAKVH0GWrBeV7CWm4yh62z3UVFROH36dKflZ86cQWRkpJpDEoWkQAWtuseOGHXedkqnktAyO3sghWrwcbBeV7CWm8xN1SuzKVOmYM6cOdi6dSuEEBBCoKysDHPnzsXUqVP9XUaioGVU0KqRwbJa0wH4qwz+zJAdCsHHngTrdQVrucncVDWInn/+eVxyySXIzMxEt27d0K1bN4wZMwYDBgzAc8895+8yEgWtgQMdr4rcB19GRDiW6/VX7MCBQFaWY/b6jiwWx3I9/3rWMpWEVnplyB44EBg71vO6a64J3t4Io55PrYK13GRuqhpEF1xwAT766CPY7Xa89957eO+992C327F27VrYbDZ/l5EoqKlNmucPRgTLGvnXu1ygrdTM7nJ27fK8fOdO38tpJkY+n1oEa7nJvFQFVQPAqlWr8Oyzz2LPT33S6enpWLhwIe69916/FtAsGFRNWgVyZnijg061TCWhltw1r1oFzJ7tfb3UzO7hMCt8IJ9PfwrWclPg6Dp1x+LFi7FgwQLceOONzh6iG2+8Eb/97W/xhz/8QVWBly9fDovFgoULFzqXCSGwdOlSpKSkoHv37hg/fjx2uv051tTUhPnz5yM+Ph49e/bE1KlTcfjwYZdt6urqkJeXB5vNBpvNhry8PNTX16sqJ5Fa6enA5MmB+Uc7UK+tvMXqBOKvd/dzy12zkgzZ3phlVni52CgtgmGovSeB/L2iEKcmyVFcXJz429/+1mn53/72NxGnIrNaeXm56N+/vxg2bJhYsGCBc/mKFStEdHS0eP/990VVVZW4/fbbRXJysmhsbHRuM3fuXHHhhReK4uJisW3bNjFhwgQxfPhwcf78eec2ubm5IiMjQ5SUlIiSkhKRkZEhpkyZ4lMZmZiRgsnu3Z4TH7Z/7HZtx1eaFM9uF6KgQPv5lJy7vFz6mletkl6/fr33cxYWqt9Xz2v2RxJCJjikUKf0+1tVg+iCCy4Qdg//wu3evVvYbDafjnX69GmRnp4uiouLxbhx45wNora2NpGUlCRWrFjh3PbcuXPCZrOJF198UQghRH19vbBarSI/P9+5zZEjR0SXLl1EYWGhEEKIXbt2CQCirKzMuU1paakAIL777jvF5WSDiIKNXLZosx5by7nlymW1em7QWK3y5zUyu3ao3kuiQNA1U/Wdd96JF154odPyl19+GTNnzvTpWA888ABuuOEGTHTrXz9w4ABqamqQnZ3tXBYVFYVx48ahpKQEAFBZWYmWlhaXbVJSUpCRkeHcprS0FDabDaNGjXJuM3r0aNhsNuc2njQ1NaGxsdHlQxRM9HptZeSwerlzP/6492vWOrO7Udm19axvM6RIIDILxYkZH3roIef/WywWvPrqq1i/fj1G/zSTY1lZGQ4dOoS77rpL8cnz8/Oxbds2VHj4F6WmpgYAkJiY6LI8MTER33//vXObyMhIxHRMffvTNu3719TUICEhodPxExISnNt4snz5cixbtkzxtRCZjdoZ0OUYmRRP7tz796vfV67caWnAyZOBz66tZ30zwSHRzxQ3iLZv3+7y84gRIwAA+376jerTpw/69OnTKejZm0OHDmHBggVYv349unXr5nU7i1siFSFEp2Xu3LfxtL3ccRYtWuTSCGxsbES/fv0kz0vKmXWGaqPKJXdeLeXyd7BsoIbVe7pmuXOvXAm4d/y2D7t//nnpfZWWW8/s2mquuWO5fX1OmOCQqINAvL/zZO3atQKAiIiIcH4ACIvFIiIiIsTevXsFALFt2zaX/aZOnSruuusuIYQQn3/+uQAgTrlF/w0bNkz813/9lxBCiFWrVnmMa7LZbOK1115TXF7GEPmHWQM4jSqX3Hm1lMvI2e61kCu3t3OPHSsfSD5hgud1Rs/srvaa2+tby702a50Q+YuuQdX+0NjYKKqqqlw+I0eOFHfeeaeoqqpyBlU/+eSTzn2ampo8BlW/++67zm2OHj3qMah669atzm3KysoYVG0QswZwGlUuufNqKZee13TqlHGNLW/nfvdd6QZRQYHjS95icV1usRj/5a/2mpU2mKSYtU6I/MX0DSJPOo4yE8Ix7N5ms4kPPvhAVFVVienTp3scdt+3b1+xYcMGsW3bNpGVleVx2P2wYcNEaWmpKC0tFUOHDuWwewPoPRQ82Mold96iIvXlCtQ1+XtYvS/ldj+3nvWpJy3X7Ov+Ws5NFKx0HWUWKL/73e+wcOFC/OY3v8HIkSNx5MgRrF+/HtHR0c5tnn32Wdx8882YNm0arr76avTo0QOffPIJIjpMcvP2229j6NChyM7ORnZ2NoYNG4Y333zTiEsKa0bOcSXFqHLJnbesTHq9VLkCdU3+TornS7ndzy03v5X7SCqpYweSlmv2dX8t5yYKdaqn7gg3nLrDlZogX6OnkwAcQ4m3bnUdIWRUueTOW1Tk+CJXUi73+xGoa/J3MLgv5fZ07Lo6RwB1UdHP++TkOIbdnzhh/PPn7bxayqVlfzP8ThLpTfH3d0D6q0IAX5k5aA3UNSpWZ+/ezon14uKE2L/f2HLJnXfUKM+vMkaPdqyXuh9GBj5reU78EUDs7VVeqMawmTXWjMgMgjKGyMzYIHLQ+o+nnsG4UuSyDBtVLrnzdu3qudxduzrWS90PIwOftTwnegYQK62T3bv9P+WIP8qlx/5GPftEgaL0+5uvzBTiKzP/dq8HcoZqX2YqN2rmbE/nXbUKuPde7/ssXw4sWuR9ffv98Pc1+fNVnxRP5fbXM+itTk6dAmbM8PzKzS3/qy603ist+3PWeApVSr+/FSdmJPJnVtv09MD9o6tkpvL2BlEgy9WRp/Nu2iS9z/r10uvb74e/r8kfweBKyuOp3P56Br3VyYwZjkSOHbUndiwslD+uVlrvlZb9jXr2iczC1KPMyFyCNatth2nsPMrMDEw5fDV+vPT6DlP4eaTX/ZB7Dn6azccrLeXS8xnkvF5E4Y0NIlJMblizWf+6zMnpPClnu7i4wMxHpcbs2YDV6nmd1Qr8x38Ycz8GDpSuz+xs/cql5zPIIehE4Y0NIvKJXjOo682omcq1Ki/v3CiyWh3LAWPuh90O1NZ6Xldb6+hJ8Ue57HZg3brOPTN6XXOw9oASkX8wqFohBlW7CtYAzEDPVO4va9YAn38OXHcdMGtW5/WBvB/r1gHXX+99fUGBI3mg2nIpDWzW45pzcx0xQx1fm0VEOBpcgYghIiL/U/r9zQaRQmwQ+ZdZZ7uXIldmT0kf/XVsfydA7GjVKkcAt7fGlqdz6ZnMzx+NErX1IZXYMRCjzIjI/5iY0c+Yh8g/zDrbvRS5MsslfdRybD0TIH79tRBWq+u+VqsQ27fL76tXMj+tc2tpfb6C8fkkImlMzOhnbBD5RzBmxZUrs1zSRy3H1jMBontjqGOjqCNPSQr1SuZXUCDdICookC6XkRmficic2CDyMzaItAvGmbXlyrxqlfT69evVH1tudnYts7e/+qr0vqtXa5siQ6/6ttu9l6u8XNvzFYzPJxHJC4nZ7im0BOOwZrkyb9wovb60VP2x5RIcKkmA6I1c0sfPP5dOUtjO37Pdyw3pT0/3Xq65c6WPLfd8BePzSUT+wwYRBYzSYc3ehlsbQa7MEyZIr5dK+qg1waGWBIiDB0vvm5gYmCSF7vdabkj/+vXey7Vtm/S55IbNc9g9UXhjg4gCRi6pXlycY4TRoEGOYd0DBzp+rqszpryAfJnvuUd90ke5Y8slONSSAPHKK72vAwC5gZRae0tOnfJ8r3fskN5PrlfsyivVJ20M1sSjROQnAXqFF/QYQ+QfUsG4Zg1olQsg3r9f/SgzuWNrXS+E5+BjrfFLWuNpvN3rsWO1lauiwrhZ44nInJR+f3NyVwqomBhHLhn3pHrt80i56/iKxqi/0L2VuV1aGnDypLqkj3LHFkL9/lIJDo0kda+3bAGuuQYoKfGch6h/f+lj22zS9SlH7n4QUehig4gM4f5F769ZzLWSSq4oNxt4aipw/rz8l7YnWmdf//LLn5Mrth9Hat8FC6TL468Z6z2Ru9fz5gE9erg2mtqn5lBaLiNnjSei4MQGEQWUt16LP/5Rej+9A1r37QNGjXIN6G2f6ywtTXpfpVNN+EpJr1ljo6Px1tLiWPfWW8CcOcD//q/0vg89JH1uPWes7yITuegew9MRA5+JSC8MqqaA8tZrsXix/HBrPbk3hgDHz1ddJb+vkuHpaijpNevYGGrX0gL8279J79vaql/Atpy2Nun1TzzhvT4Z+ExEemGDiAKmvcfD21BuuRnU9SJ37uJi7/vKXZOWch89Kr3+vfc6N4Y6nl/KgAHys8brNWO9XC/Ptm3S9anXbPdEFN7YIKKAkevxkKJnUrytW6XXa0muqKXcR45Ir6+slF6flCTdk9IeQGy3O2aot9sdP7e/5pNbL8XbsPq6OuleHrl0AHv3aisXEZE3bBBRwMj1DEjRMzZk1Cjp9VqSKyott6eeFLlyufeSuPvP/1TWkyI3kk0qG7W3JJpyrxG99fK8+KJ0WTrWp7+zZBNRmAtQGoCgxzxE/iGVa8jIPESxsZ7z2sTGyu87YYLnfbOy5PeVmy9MrlxKJmj1Nt+Ylpndpfb1ZU4w97JxPjEi8jfOZUamJBX/YWRsyJAhvi3vyGJxfNyXKSHXkyJXrvJywGp1XWe1Opa389aToiUYXGpfX14jupeN84kRkVHYIKKAkor/kHt1oxe7HfjqK8/rvvpKOjDabge++KJz2YVwLJfbVyoge/16+XJdfjnQ3AysXg3ceafjv83NjuVStASDy+0rNWwekH6NyGH1RGQUNojIEJ56LfQavi5HS6+Envv6Mpv9rFnAm286/quEnuWWG9IvFfPDYfVEZBQ2iMgQnmY5D8Ts6p5o6ZXQc189kyPqfc1aXn9yWD0RGYENIgootbOc6xk7MnAgkJXlOQ4oK0u/Hg0ls92PHet532uu0dZbMnAgMGGC53VKrlmuvrQMjeeweiIyAqfuoIDy9lrshx+k9wtE7IinOCAl3nnH8VrP09xbWvfdtcvzfjt3KiublPZg8I7XqTQYHFBWX1rmBON8YkQUSBYhjAplDS6NjY2w2WxoaGhA7969jS5OULLbHT1DavfV68tRrlxKz61lhnRP+xYVOXrPvFm/vvMEtEppuWZ/1RcRUSAo/f7mKzMKmEBlqvaWLNDbOqUBxlLHBbSNkvMUZK4lg7YcX4Kq3a/bl32LioDHHpOe/sSM5O41EYUevjKjgNE7U7XUrPNCeF8nV674eEdPjbfZ7PWa7f7CC6XXX3SR+mMrCYz2dl1//KP8vvv2dZ4wNy4OqKgA0tLUl1tvet1LIgoCAUkTGQKYqdo/4uI8ZyCOi9OeqVpLFmy99tWioEA6a3NBgbbj61knUvfZzIzMlk5E+lD6/c0GkUJsEGknNy1DRYX6qSTkji03HcSpU57PXV4uvW9RkfKpJnbv9jyFhtpr0jqNhbdrVjL9htS9KiyU3nf9em3l1gunDSEKTUq/v/nKjAJGLvbkxAnH8Go1wcla45PS0z2fe9066X2VJE+Mi1P3GqZ9WP6GDa75mSIiHCPRtAYutw9v91Tfctclda+UxD6pDQbXk5LYKAaLE4UuQ4OqX3jhBQwbNgy9e/dG7969kZmZiXUdvoFmzZoFi8Xi8hntlq2uqakJ8+fPR3x8PHr27ImpU6fi8OHDLtvU1dUhLy8PNpsNNpsNeXl5qK+vD8QlUgdKkwGqmcXcX/FJ7uf2R/JEJRm4vQXx+iNJoZpgcC33atQo6X0zM5WVLdCBzZw2hCjMBajHyqOPP/5YfPbZZ2L37t1i9+7d4tFHHxVWq1V88803Qggh7r77bpGbmyuqq6udn9raWpdjzJ07V1x44YWiuLhYbNu2TUyYMEEMHz5cnD9/3rlNbm6uyMjIECUlJaKkpERkZGSIKVOm+FRWvjLzDz1jNLTEvEjJyhLCYnHd12L5eTZ7qWPLvYYpL1f2mtDbjPVS5Gaz99eM9Z7ExHjeLyZG/txy5dYTY4iIQk/QxhDFxMSIV199VQjhaBDddNNNXretr68XVqtV5OfnO5cdOXJEdOnSRRQWFgohhNi1a5cAIMrKypzblJaWCgDiu+++U1wuNoj8QypuRc9jazlvVpbnL/f2BpHUseUCo6+80pgGotx6rQHd117reb9rr5U/t5GNEj2fTyIyhtLvb9PkIWptbUV+fj5++OEHZHboU9+0aRMSEhIwcOBA3HfffTh+/LhzXWVlJVpaWpCdne1clpKSgoyMDJSUlAAASktLYbPZMKpDP/7o0aNhs9mc23jS1NSExsZGlw9pp+e0DFLH9vRaSIn22ew9aZ/NXurYcq9htm3TZ/42ubnh1q/Xb8Z6ux348kvP6778Uv7cRs1pB3DaEKJwZniDqKqqCr169UJUVBTmzp2LtWvX4rLLLgMATJ48GW+//Ta++OILPP3006ioqEBWVhaampoAADU1NYiMjESM279WiYmJqKmpcW6TkJDQ6bwJCQnObTxZvny5M+bIZrOhX79+/rpkgro4IS3HVhLH44mSQFupY0vNV3bllfLHVkuu3HJB01pmrNd6bil6zmnXkZ7PJxGZk+ENokGDBmHHjh0oKyvD/fffj7vvvhu7fprA6fbbb8cNN9yAjIwM3HjjjVi3bh3sdjs+++wzyWMKIWDpMCmTxcMETe7buFu0aBEaGhqcn0OHDqm8QvMKl2y8cr0lUtcv18MTESF/bG+B0S++KH3sjr0wq1YBeXnAmjXS+ygtd9++0uu7dlUW0O0pE7XWQHQpDGwmIr0YPuw+MjISA376V27kyJGoqKjAc889h5deeqnTtsnJyUhNTcWen77BkpKS0NzcjLq6OpdeouPHj2PMmDHObY4dO9bpWCdOnEBiYqLXckVFRSEqKkrTtZlVuGXj1TKcWm7ou3tDyNuxvQ1RlxtWX1npGJXV0uJY99ZbwJw5QHk5cPnl3s8rV+7kZOlynz8vPSxfKhO13Lmzs4EJE4CNGzufNysLsFr1SzVAROSN4T1E7oQQzldi7mpra3Ho0CEk//Sv+YgRI2C1WlHc4c/T6upqfPPNN84GUWZmJhoaGlBeXu7cZuvWrWhoaHBuE27Uvj4yC197trQOp5bqKfHl2J5ew8j1wnRsDLVraQF+8Qvp8+pdbvfGEOD4+aqr5M8NABaL49NR+8/+SDVAROSzQER4e7No0SLx5ZdfigMHDoh//vOf4tFHHxVdunQR69evF6dPnxYPP/ywKCkpEQcOHBAbN24UmZmZ4sILLxSNjY3OY8ydO1f07dtXbNiwQWzbtk1kZWV5HHY/bNgwUVpaKkpLS8XQoUPDdth9MGfj1TIc2x8jl7wNfZcblq/22K++Kn2vVq9Wf2wtz4Evmai1nFtNqgEiIndBMez+nnvuEampqSIyMlL06dNHXHfddWL9T/+a/vjjjyI7O1v06dNHWK1WcdFFF4m7775bHDx40OUYZ8+eFfPmzROxsbGie/fuYsqUKZ22qa2tFTNnzhTR0dEiOjpazJw5U9TV1flUVrM2iHydDkLv+bH0pKVRo3Q4dWGhEMuW+Ta9hNywfLXuvFP6Xt1558/bBvI5WLZMet9ly/Q7t1K+1oe/9yci8wiKBlEwMVuDSG1vSbD2EPmr3N56Hfbu7TwhaVycEPv3B6ZcnijpITLiOdA6V5medaY1qaORSSGJSB9sEPmZ2RpEWnpLgjEbr969CmpnZ9e7XO6v4to/FotjvZZ7qWVGeq2z2ev1DGo9bjD+bhCRtKBLzEjKaRlGDgRn0Kqe80wVFXUOEG5XW+s6pDyQ5bLbHV/Jngghn+BQ6jmw26WvWe4ZqqhwjCrrqH2UmRJ6PINafy+07k9EwY0NoiCkZBi5lGDMxiuV4FAuUaAcJbOzG1EurQkOpZ4Drc9QWhpw8qSjUbZsmeO/J086liuhxzOo9Zq07k9Ewc3wPETkO3/1SqSnB1del3fecaQG6Jg/yR89W77Mzq5Xuex2xxdyx1w/WhMcSj0H/nqGUlMdOYv691e2vTt/PoNar4mz3ROFN/YQBSE9eyXMTK+erZyczq9/2sXFAZMmSe9/6hTw9deuy77+Gqivlz/3qVNAbi4waBBw/fWOe5ubC9TVyd/n7GxHIkNP+XyysqSfA63PkFS5jaL1msL194qIfhKgmKagZ7agas7KrY634dT796sbZSaEtgBjuSBeufusZci/lmfIDMHHnu6l1t8L/l4RhR6l398WIbyFbVJHjY2NsNlsaGhoQO/evY0ujpOnaRWoM6XTlRQXO2KGMjPle4YAx/Fyc72vX7/e+3HsdkcPizd2u6OHylu5T5yQ31/JM+HrM6Sk3Ho+i0rupdbfC/5eEYUOpd/fjCEKcsEWB2QUqelKCgt/XjZpkrKGUDslAdnejqckiHf+fO/lXrBAfn8lz4avz5CWueH8Qcm91Pp7wd8rovDDGCIyHV/nKlNyPH8Mp/ZULl8Cst337yLz21dTI11u91gXd3oFAcuVu6sPf2b5eq85NJ6I9MIGEZmGXoG6WodTS5UrJweIjfW8X2yso3fI2/4NDdLnPXRIen1rqzFBwG1t0uvPn5c/htp7zaHxRKQXNojINKRehWihdTi1XLmGDPG8X/tyb/v/5S/S51UyrN6IJJv+GJ6u9l5zaDwR6YUNIjIFPV+FaBlOLVeu9euBr77yvO9XX0lnk96yBbjmGulh9XLlDsYhEVruNYfGE5Fe2CAiVYqKgMcek57Wwhd6vwpR25OiNVu03Pp586TLJVduvXrVpBidEToYp54hIvPjKDPyyb59jkDijvNgtc9hpXTaBk/0fhXSntTR1+HUWrNFy62/4grpckmVu72nxV3HnhY9ekyMzgit9l4SEUlhHiKFzJqHKNDi4z1PChoX55jLSovcXEfvRsdXKRERjr/+Ow6NDzS5csnViV7XtW6dIyDZm4ICYPJk9ceXovU5MOu9JqLQo/T7m6/MSDEts8IrYdZXIVLlUjJrvF7X5c/h775Qcs1yzHqviSh88ZUZKaYlCaESZn0VIlUuJTPOp6frc13+GP6uhj8SM5r1XhNR+GKDiBTTOiu8UnJZgj3NDB8InsrlSzyM1HWpuSZ/xV35em5/xnsxIzQRmQVfmZFiWmeF18qsM6xfc43ndddeq++s8UbNWM+h70QUitggIp9UVHRuFLWPMvMXb9M5GDHEXIlvvvG8vKpKfl+t16QlFkfLuRkDREShhg0i8klammMU0fr1wLJljv+ePKltyH07qR4Ls85hVVTkvUelrk460Nwf16R2jKjWc7fHANntjtFsdrvj5/bZ5omIgg0bRKTKpEnAf/2Xf1+TSfVYmHUOKyWB5t7445rU9vL4qz7T0x1D+/majIiCHRtEBvP3zO7BSq7HIlAzu/t6P7QEmmsNTtbSy8M5wYiIXLFBZBAzBggbSa7HorUVmDDB87qsLO09FGrvh5LZ7r3RGpyspZeHgdFERK7YIDKIWQOEjaKkx8JicXw6cv9ZLS33Q262eylagpO19vIwMJqI6GecukMhf07dYbc7eiKk1ofjX+hS0zk8/7x+dablfvjrXqpNUOiPKTCYHJGIQhmn7jAxswYIG02qx0LPOlN6bE/xRUYHJ/ujl4eB0UREzFRtCAa0eiY1nYOedSZ37Ph4R09Mx5nlc3IcjQ6j7yWnwCAi8g++MlPI37Pdc7Zv3+lZZ1LHBqTPy3tJRGRefGVmcgxo9Z3SOlOTysDbsf/4R/mh7byXRETBjz1ECvm7h6gdX3X4zludnTrlGC3m6dWW0gzK7sdet84xDN+bggJH/I1UuYiIyDhKv7/ZIFJIrwYR+Y8er678OSJQzYz2SvfVcmwiolDGV2YUVvSa62zgQO0JIbUk4ZTblwk+iYj8gw0iCgl6DsvXmhBSS9JHuX2Z4JOIyD/4ykwhvjIzN72SXWo9rp5JH4uKHDFSastGRBQOguKV2QsvvIBhw4ahd+/e6N27NzIzM7Fu3TrneiEEli5dipSUFHTv3h3jx4/Hzp07XY7R1NSE+fPnIz4+Hj179sTUqVNx+PBhl23q6uqQl5cHm80Gm82GvLw81NfXB+ISKUD0mptLa8+Tlv3l9i0rU39sIiJyZWiDqG/fvlixYgW+/vprfP3118jKysJNN93kbPQ89dRTeOaZZ7By5UpUVFQgKSkJkyZNwunTp53HWLhwIdauXYv8/Hxs2bIFZ86cwZQpU9DaIZhkxowZ2LFjBwoLC1FYWIgdO3YgLy8v4NdL+vLH8Hf3IftaEy9q2V9u39GjlR1bTRoCIqKwI0wmJiZGvPrqq6KtrU0kJSWJFStWONedO3dO2Gw28eKLLwohhKivrxdWq1Xk5+c7tzly5Ijo0qWLKCwsFEIIsWvXLgFAlJWVObcpLS0VAMR3332nuFwNDQ0CgGhoaNB6iaQzu12IggLHf5WqrRUiJ0cI4OdPTo4Qp045/hsR4bouIsKxXAkt+8vtK7Ve6pqIiMKF0u9v0wRVt7a2Ij8/Hz/88AMyMzNx4MAB1NTUIDs727lNVFQUxo0bh5KSEgBAZWUlWlpaXLZJSUlBRkaGc5vS0lLYbDaMGjXKuc3o0aNhs9mc25D/GdkroWZuLqngZK09T1r2l9tXaj0DromIlDN8LrOqqipkZmbi3Llz6NWrF9auXYvLLrvM2VhJTEx02T4xMRHff/89AKCmpgaRkZGIccu6l5iYiJqaGuc2CQkJnc6bkJDg3MaTpqYmNDU1OX9ubGxUd4Fhxh/JEQOtfci+u/Yh+ydPapsvTMt8Y3L7elsvd0179jDgmoioI8MbRIMGDcKOHTtQX1+P999/H3fffTc2b97sXG9xG98shOi0zJ37Np62lzvO8uXLsWzZMqWXQT+R6pUw67xeSgKf09N//qilZX+5fd3XK70mIiJyMPyVWWRkJAYMGICRI0di+fLlGD58OJ577jkkJSUBQKdenOPHjzt7jZKSktDc3Iw6tyx07tscO3as03lPnDjRqfepo0WLFqGhocH5OXTokKbrDAd6JUfUm9Ez1ushFK+JiEhPhjeI3Akh0NTUhLS0NCQlJaG4uNi5rrm5GZs3b8aYMWMAACNGjIDVanXZprq6Gt98841zm8zMTDQ0NKC8vNy5zdatW9HQ0ODcxpOoqChnOoD2D0nTMzminvQasm+kULwmIiI9GfrK7NFHH8XkyZPRr18/nD59Gvn5+di0aRMKCwthsViwcOFCPPHEE0hPT0d6ejqeeOIJ9OjRAzNmzAAA2Gw2zJ49Gw8//DDi4uIQGxuLRx55BEOHDsXEnyJNL730UuTm5uK+++7DSy+9BACYM2cOpkyZgkFSWe/IZ8HcK/HOO47Xeh3jboJ9xnql18R50IiIYOyw+3vuuUekpqaKyMhI0adPH3HdddeJ9evXO9e3tbWJJUuWiKSkJBEVFSWuvfZaUVVV5XKMs2fPinnz5onY2FjRvXt3MWXKFHHw4EGXbWpra8XMmTNFdHS0iI6OFjNnzhR1dXU+lZXD7pXROkTdaGqG7Judt2visHwiCgdKv785dYdCnLrDlbdehbq6zr0SZh9l5i9FRcDWrUBmJjBpUuf1ZuuJyc11BLx3jPmKiHD0Ipk1AJ6IyFdKv7/ZIFKIDSIHpcPq1Q5RD0b79gGjRgG1tT8vi4sDKiqAtDRzpiLQa+43IiKzCYq5zCj4KE32pyY5YrBybwwBjp+vusrx/2ZMkBisAfBERHphg4gUC9Zh9XoqKurcGGpXWwusXm3OOgvmAHgiIj2wQUSKsVehs61bpdd/8YX0eqPqjMPyiYhcsUFEigWqV0HPedD8fewOU+R5lJUlvd7Inhitc7QREYUSNohIMb17FU6dcox8GjQIuP56x/lycx0j17TS69g5OY4Aak/i4oBf/cq8PTHt86DZ7UBBgeO/hYWhPxqQiMgTNojIJ3r2KugZfKznsSsqOjeK2keZAebviQmnAHgiIm847F4hDrt35e9h9XoOAw/UEPPiYqC01HseonBKRUBEZBZKv78Nn+2egpPWmd/d6Tk7e6Bmfp80yXNDqJ2/64yIiPyHr8zIFPQM2OYQcyIiksMGEZmCngHbHGJORERy2CAi09Az+Njsgc1ERGQsBlUrxKDqwNEz+JiBzURE4YVB1RS09Aw+ZmAzERF5wldmREREFPbYICIiIqKwxwYRERERhT02iIiIiCjsMaiaKMTZ7Y5s3RxZR0TkHXuIiELUqVNAbq5jHrfrr3ckqMzNBerqjC4ZEZH5sEFEFKJmzAA2bHBdtmEDMH26MeUhIjIzNoiIQpDdDhQVAa2trstbWx3L9+wxplxERGbFBhFRCNq3T3r93r2BKQcRUbBgg4goBF1yifT6AQMCUw4iomDBBhFRCBo4EMjJASIiXJdHRDiWc7QZEZErNoiIQtQ77wATJ7oumzjRsZyIiFwxDxFRiIqJAQoLHQHUe/cyDxERkRQ2iIhCXHo6G0JERHL4yoyIiIjCHhtEREREFPbYICIiIqKwxwYRERERhT02iIiIiCjssUFEREREYY8NIiIiIgp7bBARERFR2GODiIiIiMIeG0REREQU9jh1h0JCCABAY2OjwSUhIiIipdq/t9u/x71hg0ih06dPAwD69etncEmIiIjIV6dPn4bNZvO63iLkmkwEAGhra8PRo0cRHR0Ni8Xisq6xsRH9+vXDoUOH0Lt3b4NKGFxYZ75hffmG9eU71plvWF++M6rOhBA4ffo0UlJS0KWL90gh9hAp1KVLF/Tt21dym969e/MXw0esM9+wvnzD+vId68w3rC/fGVFnUj1D7RhUTURERGGPDSIiIiIKe2wQ+UFUVBSWLFmCqKgoo4sSNFhnvmF9+Yb15TvWmW9YX74ze50xqJqIiIjCHnuIiIiIKOyxQURERERhjw0iIiIiCntsEHnx5Zdf4sYbb0RKSgosFgs+/PBDl/UWi8Xj57//+7+d2zQ1NWH+/PmIj49Hz549MXXqVBw+fDjAVxI4cnV25swZzJs3D3379kX37t1x6aWX4oUXXnDZJpzqTK6+jh07hlmzZiElJQU9evRAbm4u9uzZ47JNONXX8uXLcdVVVyE6OhoJCQm4+eabsXv3bpdthBBYunQpUlJS0L17d4wfPx47d+502YZ15lpnH3zwAXJychAfHw+LxYIdO3Z0Ok641JlcfbW0tOD3v/89hg4dip49eyIlJQV33XUXjh496nIc1tfPli5disGDB6Nnz56IiYnBxIkTsXXrVpdtzFJfbBB58cMPP2D48OFYuXKlx/XV1dUun9deew0WiwW33nqrc5uFCxdi7dq1yM/Px5YtW3DmzBlMmTIFra2tgbqMgJKrs9/+9rcoLCzEW2+9hW+//Ra//e1vMX/+fHz00UfObcKpzqTqSwiBm2++Gfv378dHH32E7du3IzU1FRMnTsQPP/zg3C6c6mvz5s144IEHUFZWhuLiYpw/fx7Z2dku9fHUU0/hmWeewcqVK1FRUYGkpCRMmjTJOfUOwDpzr7MffvgBV199NVasWOH1OOFSZ3L19eOPP2Lbtm1YvHgxtm3bhg8++AB2ux1Tp051OQ7r6+fna+DAgVi5ciWqqqqwZcsW9O/fH9nZ2Thx4oRzG9PUlyBZAMTatWslt7nppptEVlaW8+f6+nphtVpFfn6+c9mRI0dEly5dRGFhoV5FNQ1PdTZkyBDx2GOPuSy78sorxR/+8AchRHjXmXt97d69WwAQ33zzjXPZ+fPnRWxsrHjllVeEEOFdX0IIcfz4cQFAbN68WQghRFtbm0hKShIrVqxwbnPu3Dlhs9nEiy++KIRgnbnXWUcHDhwQAMT27dtdlodznUnVV7vy8nIBQHz//fdCCNaXXH01NDQIAGLDhg1CCHPVF3uI/ODYsWP47LPPMHv2bOeyyspKtLS0IDs727ksJSUFGRkZKCkpMaKYhhs7diw+/vhjHDlyBEIIbNy4EXa7HTk5OQBYZx01NTUBALp16+ZcFhERgcjISGzZsgUA66uhoQEAEBsbCwA4cOAAampqXOojKioK48aNc9YH68y1zpQI5zpTUl8NDQ2wWCy44IILALC+AO/11dzcjJdffhk2mw3Dhw8HYK76YoPID15//XVER0fjlltucS6rqalBZGQkYmJiXLZNTExETU1NoItoCs8//zwuu+wy9O3bF5GRkcjNzcVf//pXjB07FgDrrKPBgwcjNTUVixYtQl1dHZqbm7FixQrU1NSguroaQHjXlxACDz30EMaOHYuMjAwAcF5zYmKiy7Yd64N15lpnSoRrnSmpr3PnzuE//uM/MGPGDOfcXKyvzvX16aefolevXujWrRueffZZFBcXIz4+HoC56ouTu/rBa6+9hpkzZ7r8Ne+NEAIWiyUApTKf559/HmVlZfj444+RmpqKL7/8Er/5zW+QnJyMiRMnet0vHOvMarXi/fffx+zZsxEbG4uIiAhMnDgRkydPlt03HOpr3rx5+Oc//+nsLevI/dqV1Ee415kaoV5ncvXV0tKCO+64A21tbfjrX/8qe7xwrq8JEyZgx44dOHnyJF555RVMmzYNW7duRUJCgtfjGVFf7CHS6KuvvsLu3btx7733uixPSkpCc3Mz6urqXJYfP36801+w4eDs2bN49NFH8cwzz+DGG2/EsGHDMG/ePNx+++34n//5HwCsM3cjRozAjh07UF9fj+rqahQWFqK2thZpaWkAwre+5s+fj48//hgbN25E3759ncuTkpIAoNNflR3rg3XmWmdKhGOdydVXS0sLpk2bhgMHDqC4uNhl5nbWV+f66tmzJwYMGIDRo0dj1apV6Nq1K1atWgXAXPXFBpFGq1atwogRI5zvQ9uNGDECVqsVxcXFzmXV1dX45ptvMGbMmEAX03AtLS1oaWlBly6uj1xERATa2toAsM68sdls6NOnD/bs2YOvv/4aN910E4Dwqy8hBObNm4cPPvgAX3zxhbNh2C4tLQ1JSUku9dHc3IzNmzc764N1lia/k5twqjMl9dXeGNqzZw82bNiAuLg4l/WsL2X7tcdJmqq+AhrCHUROnz4ttm/fLrZv3y4AiGeeeUZs377dOZJACEe0fI8ePcQLL7zg8Rhz584Vffv2FRs2bBDbtm0TWVlZYvjw4eL8+fOBuoyAkquzcePGiSFDhoiNGzeK/fv3i9WrV4tu3bqJv/71r85jhFOdydXX//7v/4qNGzeKffv2iQ8//FCkpqaKW265xeUY4VRf999/v7DZbGLTpk2iurra+fnxxx+d26xYsULYbDbxwQcfiKqqKjF9+nSRnJwsGhsbnduwzlzrrLa2Vmzfvl189tlnAoDIz88X27dvF9XV1c5twqXO5OqrpaVFTJ06VfTt21fs2LHDZZumpibncVhfjvo6c+aMWLRokSgtLRX/+te/RGVlpZg9e7aIiopyGUFrlvpig8iLjRs3CgCdPnfffbdzm5deekl0795d1NfXezzG2bNnxbx580RsbKzo3r27mDJlijh48GCAriDw5OqsurpazJo1S6SkpIhu3bqJQYMGiaefflq0tbU5jxFOdSZXX88995zo27evsFqt4qKLLhJ/+MMfXP7RFSK86stTXQEQq1evdm7T1tYmlixZIpKSkkRUVJS49tprRVVVlctxWGeudbZ69WqP2yxZssS5TbjUmVx9tacm8PTZuHGj8zisr9VCCEc9/PKXvxQpKSkiMjJSJCcni6lTp4ry8nKX45ilvjjbPREREYU9xhARERFR2GODiIiIiMIeG0REREQU9tggIiIiorDHBhERERGFPTaIiIiIKOyxQURERERhjw0iIiIiCntsEBERAMf8QnPmzEFsbCwsFgsuuOACLFy40Lm+f//++POf/2xY+XxhsVjw4YcfGl0MAMDSpUtx+eWXG10MIpLBBhERAQAKCwuxZs0afPrpp6iurkZGRobL+oqKCsyZM8eg0gUHMzXEiMg3XY0uABGZw759+5CcnOycYbprV9d/Hvr06WNEsTppbm5GZGSk0cUgohDDHiIiwqxZszB//nwcPHgQFosF/fv377SN+yszi8WCF154AZMnT0b37t2RlpaG9957z7n+X//6FywWC/Lz8zFmzBh069YNQ4YMwaZNm1yOu2vXLlx//fXo1asXEhMTkZeXh5MnTzrXjx8/HvPmzcNDDz2E+Ph4TJo0yefrO3LkCG6//XbExMQgLi4ON910E/71r3+5XP/NN9+M//mf/0FycjLi4uLwwAMPoKWlxblNdXU1brjhBue1/u1vf3Opk/Y6++Uvf+mxDt988030798fNpsNd9xxB06fPq2o7OPHj8f8+fOxcOFCxMTEIDExES+//DJ++OEH/OpXv0J0dDQuueQSrFu3zrnPpk2bYLFYUFRUhCuuuALdu3dHVlYWjh8/jnXr1uHSSy9F7969MX36dPz4448+1ydRKGKDiIjw3HPP4bHHHkPfvn1RXV2NiooKRfstXrwYt956K/7xj3/gzjvvxPTp0/Htt9+6bPPv//7vePjhh7F9+3aMGTMGU6dORW1tLQBHI2PcuHG4/PLL8fXXX6OwsBDHjh3DtGnTXI7x+uuvo2vXrvj73/+Ol156yadr+/HHHzFhwgT06tULX375JbZs2YJevXohNzcXzc3Nzu02btyIffv2YePGjXj99dexZs0arFmzxrn+rrvuwtGjR7Fp0ya8//77ePnll3H8+HHn+vY6W716dac63LdvHz788EN8+umn+PTTT7F582asWLFC8TW8/vrriI+PR3l5OebPn4/7778ft912G8aMGYNt27YhJycHeXl5nRo3S5cuxcqVK1FSUoJDhw5h2rRp+POf/4y//e1v+Oyzz1BcXIy//OUvPtUnUcgSRERCiGeffVakpqY6fx43bpxYsGCB8+fU1FTx7LPPOn8GIObOnetyjFGjRon7779fCCHEgQMHBACxYsUK5/qWlhbRt29f8eSTTwohhFi8eLHIzs52OcahQ4cEALF7925nOS6//HKfrgWAWLt2rRBCiFWrVolBgwaJtrY25/qmpibRvXt3UVRUJIQQ4u677xapqani/Pnzzm1uu+02cfvttwshhPj2228FAFFRUeFcv2fPHgGgU520n7fdkiVLRI8ePURjY6Nz2b//+7+LUaNGKbqWcePGibFjxzp/Pn/+vOjZs6fIy8tzLquurhYARGlpqRBCiI0bNwoAYsOGDc5tli9fLgCIffv2OZf9+te/Fjk5OYrKQRTqGENERKplZmZ2+nnHjh1et+natStGjhzp7EWqrKzExo0b0atXr07H3rdvHwYOHAgAGDlypOoyVlZWYu/evYiOjnZZfu7cOezbt8/585AhQxAREeH8OTk5GVVVVQCA3bt3o2vXrrjyyiud6wcMGICYmBhFZejfv7/L+ZOTk116l+QMGzbM+f8RERGIi4vD0KFDncsSExMBoNMxO+6XmJiIHj164OKLL3ZZVl5errgcRKGMDSIi8iuLxaJ4m7a2Ntx444148sknO22TnJzs/P+ePXuqLk9bWxtGjBiBt99+u9O6joHiVqu1Uxnb2toAOFISeOJtuTupY6vdv+OyjvXpbT/3fdSUgyiUMYaIiFQrKyvr9PPgwYO9bnP+/HlUVlY6t7nyyiuxc+dO9O/fHwMGDHD5aGkEdXTllVdiz549SEhI6HQOm82m6BiDBw/G+fPnsX37dueyvXv3or6+3mU7q9WK1tZWv5SbiAKLDSIiUu29997Da6+9BrvdjiVLlqC8vBzz5s1z2eb//b//h7Vr1+K7777DAw88gLq6Otxzzz0AgAceeACnTp3C9OnTUV5ejv3792P9+vW45557/NawmDlzJuLj43HTTTfhq6++woEDB7B582YsWLAAhw8fVnSMwYMHY+LEiZgzZw7Ky8uxfft2zJkzB927d3fpEevfvz8+//xz1NTUoK6uzi/lJ6LAYIOIiFRbtmwZ8vPzMWzYMLz++ut4++23cdlll7lss2LFCjz55JMYPnw4vvrqK3z00UeIj48HAKSkpODvf/87WltbkZOTg4yMDCxYsAA2mw1duvjnn6cePXrgyy+/xEUXXYRbbrkFl156Ke655x6cPXsWvXv3VnycN954A4mJibj22mvxy1/+Evfddx+io6PRrVs35zZPP/00iouL0a9fP1xxxRV+KT8RBYZFKH0JTkTUgcViwdq1a3HzzTd7XP+vf/0LaWlp2L59e0hOXXH48GH069cPGzZswHXXXWd0cYhIIwZVExEp8MUXX+DMmTMYOnQoqqur8bvf/Q79+/fHtddea3TRiMgP+MqMiILK22+/jV69enn8DBkyRLfztrS04NFHH8WQIUPwy1/+En369MGmTZs6jdzyxcGDB71eS69evXDw4EE/XgERSeErMyIKKqdPn8axY8c8rrNarUhNTQ1widQ7f/68yxQi7vr3799pTjki0gcbRERERBT2+MqMiIiIwh4bRERERBT22CAiIiKisMcGEREREYU9NoiIiIgo7LFBRERERGGPDSIiIiIKe2wQERERUdj7/5wGDDzLoaSEAAAAAElFTkSuQmCC",
      "text/plain": [
       "<Figure size 640x480 with 1 Axes>"
      ]
     },
     "metadata": {},
     "output_type": "display_data"
    }
   ],
=======
   "execution_count": null,
   "metadata": {},
   "outputs": [],
>>>>>>> upstream/main
   "source": [
    "# Can also specify the kind of plot this way\n",
    "penguins.plot.scatter(x='flipper_length_mm', y='body_mass_g', color='blue');"
   ]
  },
  {
   "cell_type": "markdown",
   "metadata": {},
   "source": [
    "This is a pretty simple way to plot data - it's based on matplotlib, there are a good amount of options you can pass to play around with it, and you can stack this with matplotlib functions to do things like add titles or axis labels.\n",
    "\n",
    "This is a good option if you are exploring data."
   ]
  },
  {
   "cell_type": "markdown",
   "metadata": {},
   "source": [
    "### Seaborn\n",
    "\n",
    "Seaborn, like pandas plotting, is built on top of matplotlib, and is designed to make certain things you might want to try or explore a bit easier.\n",
    "\n",
    "Documentation! https://seaborn.pydata.org/api.html"
   ]
  },
  {
   "cell_type": "code",
<<<<<<< HEAD
   "execution_count": 14,
   "metadata": {},
   "outputs": [
    {
     "data": {
      "image/png": "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",
      "text/plain": [
       "<Figure size 640x480 with 1 Axes>"
      ]
     },
     "metadata": {},
     "output_type": "display_data"
    }
   ],
=======
   "execution_count": null,
   "metadata": {},
   "outputs": [],
>>>>>>> upstream/main
   "source": [
    "# Recreate the same plot in seaborn\n",
    "sns.scatterplot(x='flipper_length_mm', y='body_mass_g', data=penguins);"
   ]
  },
  {
   "cell_type": "markdown",
   "metadata": {},
   "source": [
    "One nice thing about seaborn is that many of their plots take the 'hue' argument, which effortlessly designates a category with colors:"
   ]
  },
  {
   "cell_type": "code",
<<<<<<< HEAD
   "execution_count": 15,
   "metadata": {},
   "outputs": [
    {
     "data": {
      "image/png": "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",
      "text/plain": [
       "<Figure size 640x480 with 1 Axes>"
      ]
     },
     "metadata": {},
     "output_type": "display_data"
    }
   ],
=======
   "execution_count": null,
   "metadata": {},
   "outputs": [],
>>>>>>> upstream/main
   "source": [
    "# Color by penguin species\n",
    "sns.scatterplot(x='flipper_length_mm', y='body_mass_g', data=penguins,\n",
    "                hue='species');"
   ]
  },
  {
   "cell_type": "markdown",
   "metadata": {},
   "source": [
    "Seaborn can be great for both kinds of plots - they're easy to put together and make exploring data pretty efficient, and their default plots often look nice effortlessly. "
   ]
  },
  {
   "cell_type": "markdown",
   "metadata": {},
   "source": [
    "### Matplotlib\n",
    "\n",
    "At the end of the day, these other plotting methods are all built on top of matplotlib - thus, you have to get comfortable with matplotlib syntax in order to build more specific or more effective plots."
   ]
  },
  {
   "cell_type": "code",
<<<<<<< HEAD
   "execution_count": 16,
   "metadata": {
    "hidden": true
   },
   "outputs": [
    {
     "data": {
      "image/png": "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",
      "text/plain": [
       "<Figure size 600x400 with 1 Axes>"
      ]
     },
     "metadata": {},
     "output_type": "display_data"
    }
   ],
=======
   "execution_count": null,
   "metadata": {
    "hidden": true
   },
   "outputs": [],
>>>>>>> upstream/main
   "source": [
    "# This is one matplotlib syntax - the non-fig/ax method\n",
    "\n",
    "plt.figure(figsize=(6, 4))\n",
    "\n",
    "plt.scatter(penguins['flipper_length_mm'], penguins['body_mass_g'])\n",
    "\n",
    "plt.xlabel('Flipper Length')\n",
    "plt.ylabel('Body Mass')\n",
    "plt.title('Relationship Between Flipper Length and Body Mass among Penguins')\n",
    "\n",
    "plt.tight_layout()"
   ]
  },
  {
   "cell_type": "code",
   "execution_count": null,
   "metadata": {
    "hidden": true
   },
   "outputs": [],
   "source": [
    "# This is the other plotting syntax. Note that plt.subplots()\n",
    "# returns two things: the figure object and the axis object\n",
    "# This option gives you the MOST flexibility and access to matplotlib elements!\n",
    "\n",
    "fig, ax = plt.subplots(figsize=(6, 4))\n",
    "\n",
    "ax.scatter(penguins['flipper_length_mm'], penguins['body_mass_g'])\n",
    "ax.set_xlabel('Flipper Length (mm)')\n",
    "ax.set_ylabel('Body Mass (g)')\n",
    "ax.set_title('Relationship Between Flipper Length and Body Mass among Penguins')\n",
    "\n",
    "plt.tight_layout()"
   ]
  },
  {
   "cell_type": "markdown",
   "metadata": {},
   "source": [
    "## Exploring Plot Types"
   ]
  },
  {
   "cell_type": "markdown",
   "metadata": {},
   "source": [
    "![image source: https://multimedia.journalism.berkeley.edu/tutorials/visualizing-data-a-guide-to-chart-types/](https://multimedia.journalism.berkeley.edu/wp-content/uploads/Screen-Shot-2016-08-11-at-1.34.23-PM.png)\n",
    "\n",
    "[Image Source](https://multimedia.journalism.berkeley.edu/tutorials/visualizing-data-a-guide-to-chart-types/)"
   ]
  },
  {
   "cell_type": "markdown",
   "metadata": {},
   "source": [
    "A nice overview!\n",
    "\n",
    "For a similar reference specifically for python plots, check out the [Python Graph Gallery](https://python-graph-gallery.com)\n",
    "\n",
    "You'll notice that these are sorted by what you want to showcase/demonstrate - the most important thing you should consider when starting to plot data is what exactly you're looking for or trying to say!"
   ]
  },
  {
   "cell_type": "markdown",
   "metadata": {},
   "source": [
    "# YOUR TURN"
   ]
  },
  {
   "cell_type": "markdown",
   "metadata": {},
   "source": [
    "## Picking Proper Plots"
   ]
  },
  {
   "cell_type": "markdown",
   "metadata": {},
   "source": [
    "Now that we've seen a few different visualizations, let's have a quick quiz in deciding would be a good plot for a given scenario:"
   ]
  },
  {
   "cell_type": "markdown",
   "metadata": {},
   "source": [
    "###  Scenario 1"
   ]
  },
  {
   "cell_type": "markdown",
   "metadata": {},
   "source": [
    "> **SCENARIO**: We have a company's past financial reports. We want to compare how a company's revenue has done over the past few years.\n",
    "\n",
    "🤔 _What type of visualization do you choose?_\n",
    "\n",
    "<details>\n",
    "    <summary>Possible Answers</summary>\n",
    "    <ul>\n",
    "        <li>Line Plot</li>\n",
    "        <li>Bar Chart</li>\n",
    "    </ul>\n",
    "</details>"
   ]
  },
  {
   "cell_type": "markdown",
   "metadata": {},
   "source": [
    "###  Scenario 2"
   ]
  },
  {
   "cell_type": "markdown",
   "metadata": {},
   "source": [
    "> **SCENARIO**: We're given a company's last quarterly report on sales from its  website. We want to show the number of orders broken down by the type of device the order was placed on.\n",
    "\n",
    "🤔 _What type of visualization do you choose?_\n",
    "\n",
    "<details>\n",
    "    <summary>Possible Answers</summary>\n",
    "    <ul>\n",
    "        <li>Bar Chart</li>\n",
    "        <li>Stacked Bar Chart</li>\n",
    "    </ul>\n",
    "</details>"
   ]
  },
  {
   "cell_type": "markdown",
   "metadata": {},
   "source": [
    "###  Scenario 3"
   ]
  },
  {
   "cell_type": "markdown",
   "metadata": {},
   "source": [
    "> **SCENARIO**: A food delivery service has a breakdown of this past week's orders. We want to show the relationship between the tips given in relation to the total bill.\n",
    "\n",
    "🤔 _What type of visualization do you choose?_\n",
    "\n",
    "<details>\n",
    "    <summary>Possible Answers</summary>\n",
    "    <ul>\n",
    "        <li>Scatter Plot</li>\n",
    "    </ul>\n",
    "</details>"
   ]
  },
  {
   "cell_type": "markdown",
   "metadata": {},
   "source": [
    "## Improving Visualizations"
   ]
  },
  {
   "cell_type": "markdown",
   "metadata": {},
   "source": [
    "### Accessible Visualizations!\n",
    "\n",
    "One of the BEST ways to think about improving your visualizations is by thinking about how to make your visualizations more accessible!\n",
    "\n",
    "PLEASE READ this excellent blog post walking through how to make your charts both more effective and more accessible to all: https://flourish.studio/blog/accessible-chart-design/\n",
    "\n",
    "Specifically, they focus on accessibility along three aspects of visualizations: Text, Color, and Animation (yes, there are ways to make animated plots in python!)\n",
    "\n",
    "A teaser (aka the first two paragraphs of the post):\n",
    "\n",
    "> When putting together a visualization or data story, it’s useful to remember that not everyone experiences the world as you do. A color palette that looks pretty to your eye might be difficult to differentiate for some viewers. Or a chart that you find easy to “read” might be hard to interpret for someone less data literate.\n",
    ">\n",
    "> This is a problem. If we don’t make our visuals accessible, not everyone can understand them, reducing their engagement and impact.\n"
   ]
  },
  {
   "cell_type": "markdown",
   "metadata": {},
   "source": [
    "### Getting Granular! \n",
    "\n",
    "In other words - how do we make specific changes to our plots?"
   ]
  },
  {
   "cell_type": "markdown",
   "metadata": {
    "hidden": true
   },
   "source": [
    "#### Anatomy of a `matplotlib` Figure\n",
    "\n",
    "<img src=\"images/matplotlib_anatomy.png\">"
   ]
  },
  {
   "cell_type": "markdown",
   "metadata": {
    "hidden": true
   },
   "source": [
    "Explanation of non-obvious terms:\n",
    "\n",
    "__Figure__ - This is the \"sheet of paper\" all of your graphing sits on. \n",
    "\n",
    "__Axis__ - An axis is an individual plot. You can have multiple axes on one figure\n",
    "\n",
    "__Major/Minor Ticks__ - The large and small dashes on the x and y axis\n",
    "\n",
    "__Markers__ - In a scatter plot each of the points is refered to as a marker\n",
    "\n",
    "__Spines__ - The lines that bound each axis"
   ]
  },
  {
   "cell_type": "markdown",
   "metadata": {
    "hidden": true
   },
   "source": [
    "#### Change color, opacity, marker size, and marker symbol\n",
    "\n",
    "Resources:\n",
    "- Named colors: https://matplotlib.org/3.1.0/gallery/color/named_colors.html\n",
    "- Marker symbols: https://matplotlib.org/3.2.1/api/markers_api.html"
   ]
  },
  {
   "cell_type": "code",
   "execution_count": null,
   "metadata": {
    "hidden": true,
    "scrolled": false
   },
   "outputs": [],
   "source": [
    "fig, ax = plt.subplots(figsize=(6, 4))\n",
    "\n",
    "# These are all arguments that go in the plot's function\n",
    "ax.scatter(penguins['flipper_length_mm'], penguins['body_mass_g'],\n",
    "           c='blue',\n",
    "           alpha=0.5,\n",
    "           s=100,\n",
    "           marker='*')\n",
    "\n",
    "ax.set_xlabel('Flipper Length (mm)')\n",
    "ax.set_ylabel('Body Mass (g)')\n",
    "ax.set_title('Relationship Between Flipper Length and Body Mass among Penguins')\n",
    "\n",
    "plt.tight_layout()"
   ]
  },
  {
   "cell_type": "markdown",
   "metadata": {
    "hidden": true
   },
   "source": [
    "#### Can identify colors by hexadecimal code"
   ]
  },
  {
   "cell_type": "code",
   "execution_count": null,
   "metadata": {
    "hidden": true,
    "scrolled": false
   },
   "outputs": [],
   "source": [
    "fig, ax = plt.subplots(figsize=(6, 4))\n",
    "\n",
    "ax.scatter(x=penguins['flipper_length_mm'], y=penguins['body_mass_g'],\n",
    "           c='#DE4B51', #here's the hex code\n",
    "           alpha=0.3,\n",
    "           s=100,\n",
    "           marker='^')\n",
    "\n",
    "ax.set_xlabel('Flipper Length (mm)')\n",
    "ax.set_ylabel('Body Mass (g)')\n",
    "ax.set_title('Relationship Between Flipper Length and Body Mass among Penguins')\n",
    "\n",
    "plt.tight_layout()"
   ]
  },
  {
   "cell_type": "markdown",
   "metadata": {},
   "source": [
    "#### Add a third variable by setting the color (or size) equal to a third column"
   ]
  },
  {
   "cell_type": "code",
   "execution_count": null,
   "metadata": {
    "scrolled": false
   },
   "outputs": [],
   "source": [
    "fig, ax = plt.subplots(figsize=(6, 4))\n",
    "\n",
    "# When you save the plot as a variable...\n",
    "scatter = ax.scatter(x=penguins['flipper_length_mm'], y=penguins['body_mass_g'],\n",
    "                     alpha=.7,\n",
    "                     c=penguins['culmen_depth_mm'])\n",
    "\n",
    "ax.set_xlabel('Flipper Length (mm)')\n",
    "ax.set_ylabel('Body Mass (g)')\n",
    "ax.set_title('Relationship Between Flipper Length and Body Mass among Penguins')\n",
    "\n",
    "# You can then add a color bar as a legend!\n",
    "plt.colorbar(scatter, label='Culmen Depth (mm)')\n",
    "\n",
    "plt.tight_layout()"
   ]
  },
  {
   "cell_type": "markdown",
   "metadata": {},
   "source": [
    "#### Layer plots on top of each other, to provide potentially useful context"
   ]
  },
  {
   "cell_type": "code",
   "execution_count": null,
   "metadata": {},
   "outputs": [],
   "source": [
    "fig, ax = plt.subplots(figsize=(6, 4))\n",
    "\n",
    "ax.scatter(x=penguins['flipper_length_mm'], y=penguins['body_mass_g'])\n",
    "\n",
    "# Add the average flipper length as a vertical line\n",
    "# Can use label to then create a legend\n",
    "ax.vlines(penguins['flipper_length_mm'].mean(),\n",
    "          ymin=penguins['body_mass_g'].min(), ymax=penguins['body_mass_g'].max(),\n",
    "          color='red',\n",
    "          label=f\"Average Flipper Length ({penguins['flipper_length_mm'].mean():.2f} mm)\")  # add the exact value\n",
    "\n",
    "ax.set_xlabel('Flipper Length (mm)')\n",
    "ax.set_ylabel('Body Mass (g)')\n",
    "ax.set_title('Relationship Between Flipper Length and Body Mass among Penguins')\n",
    "\n",
    "# Add the legend\n",
    "plt.legend()\n",
    "plt.tight_layout()"
   ]
  },
  {
   "cell_type": "markdown",
   "metadata": {},
   "source": [
    "#### Annotate directly on the plot!"
   ]
  },
  {
   "cell_type": "code",
   "execution_count": null,
   "metadata": {
    "scrolled": true
   },
   "outputs": [],
   "source": [
    "fig, ax = plt.subplots(figsize=(6, 4))\n",
    "\n",
    "ax.scatter(x=penguins['flipper_length_mm'], y=penguins['body_mass_g'])\n",
    "\n",
    "# Add an annotation - needs what to write and then a location\n",
    "ax.annotate(\"Clear Positive Correlation\", (180,5500))\n",
    "\n",
    "ax.set_xlabel('Flipper Length (mm)')\n",
    "ax.set_ylabel('Body Mass (g)')\n",
    "ax.set_title('Relationship Between Flipper Length and Body Mass among Penguins')\n",
    "\n",
    "plt.tight_layout()"
   ]
  },
  {
   "cell_type": "code",
   "execution_count": null,
   "metadata": {},
   "outputs": [],
   "source": [
    "# More granular with the annotations...\n",
    "fig, ax = plt.subplots(figsize=(6, 4))\n",
    "\n",
    "ax.scatter(x=penguins['flipper_length_mm'], y=penguins['body_mass_g'])\n",
    "\n",
    "# Can use `text` to write on the plots as well\n",
    "ax.text(x=175, y=5500, s=\"Clear Positive Correlation\")\n",
    "\n",
    "# Adding that average line back on\n",
    "ax.vlines(penguins['flipper_length_mm'].mean(),\n",
    "          ymin=penguins['body_mass_g'].min(), ymax=penguins['body_mass_g'].max(),\n",
    "          color='red')\n",
    "\n",
    "# Now let's annotate but add an arrow for emphasis!\n",
    "ax.annotate('Average Flipper Length', xy=(penguins['flipper_length_mm'].mean(), 3000), xytext=(210, 2700),\n",
    "            arrowprops={'facecolor': 'black'})\n",
    "\n",
    "ax.set_xlabel('Flipper Length (mm)')\n",
    "ax.set_ylabel('Body Mass (g)')\n",
    "ax.set_title('Relationship Between Flipper Length and Body Mass among Penguins')\n",
    "\n",
    "plt.tight_layout()"
   ]
  },
  {
   "cell_type": "markdown",
   "metadata": {},
   "source": [
    "#### Adjust the axis labels to more clearly show the scale of our plots"
   ]
  },
  {
   "cell_type": "code",
   "execution_count": null,
   "metadata": {},
   "outputs": [],
   "source": [
    "# need a new import\n",
    "from matplotlib.ticker import StrMethodFormatter"
   ]
  },
  {
   "cell_type": "code",
   "execution_count": null,
   "metadata": {},
   "outputs": [],
   "source": [
    "fig, ax = plt.subplots(figsize=(6, 4))\n",
    "\n",
    "ax.scatter(x=penguins['flipper_length_mm'], y=penguins['body_mass_g'])\n",
    "\n",
    "# Set the major formatter and use fstring notation to adjust the axes\n",
    "ax.xaxis.set_major_formatter(StrMethodFormatter('{x:.0f}mm'))\n",
    "ax.yaxis.set_major_formatter(StrMethodFormatter('{x:,.0f}g'))\n",
    "\n",
    "# Can also rotate the xaxis to make it more legible\n",
    "plt.xticks(rotation=45)\n",
    "\n",
    "ax.set_xlabel('Flipper Length')\n",
    "ax.set_ylabel('Body Mass')\n",
    "ax.set_title('Relationship Between Flipper Length and Body Mass among Penguins')\n",
    "\n",
    "plt.tight_layout()"
   ]
  },
  {
   "cell_type": "markdown",
   "metadata": {},
   "source": [
    "#### Save the plot as an image file"
   ]
  },
  {
   "cell_type": "code",
   "execution_count": null,
   "metadata": {
    "scrolled": true
   },
   "outputs": [],
   "source": [
    "fig, ax = plt.subplots(figsize=(6, 4))\n",
    "\n",
    "ax.scatter(x=penguins['flipper_length_mm'], y=penguins['body_mass_g'])\n",
    "\n",
    "# Set the major formatter and use fstring notation to adjust the axes\n",
    "ax.xaxis.set_major_formatter(StrMethodFormatter('{x:.0f}mm'))\n",
    "ax.yaxis.set_major_formatter(StrMethodFormatter('{x:,.0f}g'))\n",
    "\n",
    "ax.set_xlabel('Flipper Length')\n",
    "ax.set_ylabel('Body Mass')\n",
    "ax.set_title('Relationship Between Flipper Length and Body Mass among Penguins')\n",
    "\n",
    "# Save the figure - needs a relative path/name, plus the image file type\n",
    "plt.savefig('images/flipper_length_body_mass.png')"
   ]
  },
  {
   "cell_type": "markdown",
   "metadata": {},
   "source": [
    "# YOUR TURN"
   ]
  },
  {
   "cell_type": "markdown",
   "metadata": {},
   "source": [
    "## Back to our Austin Animal Center Data\n",
    "\n",
    "We'll set up the data and some visualizations together."
   ]
  },
  {
   "cell_type": "code",
   "execution_count": null,
   "metadata": {},
   "outputs": [],
   "source": [
    "# Read in our data - and let's go ahead and parse the dates in the DateTime column\n",
    "df = pd.read_csv('data/Austin_Animal_Center_Intakes-clean-year.csv',\n",
    "                 parse_dates=['DateTime'])"
   ]
  },
  {
   "cell_type": "code",
   "execution_count": null,
   "metadata": {},
   "outputs": [],
   "source": [
    "# Check it out\n",
    "df.head()"
   ]
  },
  {
   "cell_type": "code",
   "execution_count": null,
   "metadata": {
    "scrolled": true
   },
   "outputs": [],
   "source": [
    "# Check the dataframe's info to make sure the dates were parsed correctly\n",
    "df.info()"
   ]
  },
  {
   "cell_type": "markdown",
   "metadata": {},
   "source": [
    "## What Are The Most Common Animal Types?"
   ]
  },
  {
   "cell_type": "code",
   "execution_count": null,
   "metadata": {},
   "outputs": [],
   "source": [
    "# can access the data we need with value counts\n",
    "types_count = df['Animal Type'].value_counts()\n",
    "types_count"
   ]
  },
  {
   "cell_type": "markdown",
   "metadata": {},
   "source": [
    "What kind of plot should we use to visualize the answer to this question?\n",
    "\n",
    "- Likely answers: bar graph, pie chart\n"
   ]
  },
  {
   "cell_type": "code",
   "execution_count": null,
   "metadata": {
    "scrolled": true
   },
   "outputs": [],
   "source": [
    "# Code here to create that plot\n",
    "types_count.plot(kind='bar');"
   ]
  },
  {
   "cell_type": "markdown",
   "metadata": {},
   "source": [
    "### Your Task: Improve This Visualization!\n",
    "\n",
    "Your goal is to visualize what you think the purpose of the plot is - adjust colors or plot type, add annotations, etc etc to make this plot more effective. You'll be in small groups for about 10 minutes, then we'll come back and share!"
   ]
  },
  {
   "cell_type": "code",
   "execution_count": null,
   "metadata": {},
   "outputs": [],
   "source": [
    "# Your code here"
   ]
  },
  {
   "cell_type": "markdown",
   "metadata": {},
   "source": [
    "<details>\n",
    "    <summary>Hidden code: One way to improve the plot</summary>\n",
    "    \n",
    "```python\n",
    "fig, ax = plt.subplots(figsize=(8, 6))\n",
    "\n",
    "# Making the bar chart horizonal to more easily read animal types\n",
    "ax.barh(types_count.index, types_count)\n",
    "\n",
    "# inverting y axis so it shows in size order\n",
    "ax.invert_yaxis()\n",
    "\n",
    "# looping over the animals to annotate with percentages\n",
    "for animal in types_count.index:\n",
    "    perc = (types_count[animal]/len(df))*100\n",
    "    if animal == \"Dog\": # so it doesn't go beyond the spline of the plot\n",
    "        ax.annotate(f\"{perc:.2f}%\", (types_count[animal] - 7500, animal))\n",
    "    else:\n",
    "        ax.annotate(f\"{perc:.2f}%\", (types_count[animal] + 1000, animal))\n",
    "        \n",
    "# adjusting the X axis format to add commas\n",
    "ax.xaxis.set_major_formatter(StrMethodFormatter('{x:,.0f}'))\n",
    "\n",
    "ax.set_title(\"Most Common Animal Types\")\n",
    "ax.set_ylabel(\"Animal Type\")\n",
    "ax.set_xlabel(\"Counts\")\n",
    "plt.show()\n",
    "```\n",
    "</details>"
   ]
  },
  {
   "cell_type": "markdown",
   "metadata": {},
   "source": [
    "Discuss:\n",
    "\n",
    "- \n"
   ]
  },
  {
   "cell_type": "markdown",
   "metadata": {
    "heading_collapsed": true
   },
   "source": [
    "## Creating Multiple Plots (Axes)"
   ]
  },
  {
   "cell_type": "markdown",
   "metadata": {
    "hidden": true
   },
   "source": [
    "Sometimes we want multiple plots to be a part of the same figure."
   ]
  },
  {
   "cell_type": "code",
   "execution_count": null,
   "metadata": {
    "hidden": true
   },
   "outputs": [],
   "source": [
    "fig, ax = plt.subplots(nrows=2, ncols=3, figsize=(8, 6))\n",
    "# The above line gives me a figure with six subplots,\n",
    "# arranged in two rows of three.\n",
    "\n",
    "X = np.linspace(-3, 3, 100)\n",
    "Ys = [[j*x for x in X] for j in range(1, 7)]\n",
    "\n",
    "ax[0, 0].plot(X, Ys[0], c='red')\n",
    "ax[0, 0].set_title('y=x')\n",
    "\n",
    "ax[0, 1].plot(X, Ys[1], c='orange')\n",
    "ax[0, 1].set_title('y=2x')\n",
    "\n",
    "ax[0, 2].plot(X, Ys[2], c='yellow')\n",
    "ax[0, 2].set_title('y=3x')\n",
    "\n",
    "ax[1, 0].plot(X, Ys[3], c='green')\n",
    "ax[1, 0].set_title('y=4x')\n",
    "\n",
    "ax[1, 1].plot(X, Ys[4], c='blue')\n",
    "ax[1, 1].set_title('y=5x')\n",
    "\n",
    "ax[1, 2].plot(X, Ys[5], c='purple')\n",
    "ax[1, 2].set_title('y=6x')\n",
    "\n",
    "plt.tight_layout()"
   ]
  },
  {
   "cell_type": "markdown",
   "metadata": {
    "heading_collapsed": true,
    "hidden": true
   },
   "source": [
    "#### Slightly Different Notation"
   ]
  },
  {
   "cell_type": "markdown",
   "metadata": {
    "hidden": true
   },
   "source": [
    "Note we could change the notation to unpack the passed axes in different ways. This can be useful in how we use the axis to make different plots."
   ]
  },
  {
   "cell_type": "code",
   "execution_count": null,
   "metadata": {
    "hidden": true
   },
   "outputs": [],
   "source": [
    "# This saves two arrays of axes representing each row and elements referring to \n",
    "# the columns\n",
    "fig, (ax_row0, ax_row1) = plt.subplots(nrows=2, ncols=3, figsize=(8, 6))\n",
    "\n",
    "Ys = [[j*x for x in X] for j in range(1, 7)]\n",
    "\n",
    "## First Row\n",
    "ax_row0[0].plot(X, Ys[0], c='red')\n",
    "ax_row0[0].set_title('y=x')\n",
    "\n",
    "ax_row0[1].plot(X, Ys[1], c='orange')\n",
    "ax_row0[1].set_title('y=2x')\n",
    "\n",
    "ax_row0[2].plot(X, Ys[2], c='yellow')\n",
    "ax_row0[2].set_title('y=3x')\n",
    "\n",
    "## Second Row\n",
    "ax_row1[0].plot(X, Ys[3], c='green')\n",
    "ax_row1[0].set_title('y=4x')\n",
    "\n",
    "ax_row1[1].plot(X, Ys[4], c='blue')\n",
    "ax_row1[1].set_title('y=5x')\n",
    "\n",
    "ax_row1[2].plot(X, Ys[5], c='purple')\n",
    "ax_row1[2].set_title('y=6x')\n",
    "\n",
    "plt.tight_layout()"
   ]
  },
  {
   "cell_type": "code",
   "execution_count": null,
   "metadata": {
    "hidden": true
   },
   "outputs": [],
   "source": [
    "# This unpacks each axis as a separate variable\n",
    "fig, ((ax00, ax01, ax02), (ax10, ax11, ax12)) = plt.subplots(nrows=2, ncols=3, figsize=(8, 6))\n",
    "\n",
    "Ys = [[j*x for x in X] for j in range(1, 7)]\n",
    "\n",
    "## First Row\n",
    "ax00.plot(X, Ys[0], c='red')\n",
    "ax00.set_title('y=x')\n",
    "\n",
    "ax01.plot(X, Ys[1], c='orange')\n",
    "ax01.set_title('y=2x')\n",
    "\n",
    "ax02.plot(X, Ys[2], c='yellow')\n",
    "ax02.set_title('y=3x')\n",
    "\n",
    "## Second Row\n",
    "ax10.plot(X, Ys[3], c='green')\n",
    "ax10.set_title('y=4x')\n",
    "\n",
    "ax11.plot(X, Ys[4], c='blue')\n",
    "ax11.set_title('y=5x')\n",
    "\n",
    "ax12.plot(X, Ys[5], c='purple')\n",
    "ax12.set_title('y=6x')\n",
    "\n",
    "plt.tight_layout()"
   ]
  },
  {
   "cell_type": "markdown",
   "metadata": {
    "heading_collapsed": true,
    "hidden": true
   },
   "source": [
    "#### Customize Multiple Plot Grid"
   ]
  },
  {
   "cell_type": "markdown",
   "metadata": {
    "hidden": true
   },
   "source": [
    "We can add some parameters to `plt.subplots()` that allow us to treat the different axes the same"
   ]
  },
  {
   "cell_type": "code",
   "execution_count": null,
   "metadata": {
    "hidden": true
   },
   "outputs": [],
   "source": [
    "nrows = 2\n",
    "ncols = 3\n",
    "fig, ax = plt.subplots(\n",
    "    nrows=nrows,\n",
    "    ncols=ncols,\n",
    "    figsize=(8, 6),\n",
    "    sharey=True     # This allows the y-axis to be consistent\n",
    ")\n",
    "\n",
    "\n",
    "Ys = [[j*x for x in X] for j in range(1, 7)]\n",
    "colors = ['red', 'orange', 'yellow', 'green', 'blue', 'purple']\n",
    "n = 0\n",
    "\n",
    "for r in range(nrows):\n",
    "    for c in range(ncols):\n",
    "        ax[r, c].plot(X, Ys[n], c=colors[n])\n",
    "        ax[r, c].set_title(f'y={n+1}x')\n",
    "        n += 1\n",
    "\n",
    "plt.tight_layout()"
   ]
  },
  {
   "cell_type": "markdown",
   "metadata": {
    "heading_collapsed": true
   },
   "source": [
    "-----\n",
    "\n",
    "# Level Up: "
   ]
  },
  {
   "cell_type": "markdown",
   "metadata": {},
   "source": [
    "## More on Effective Visualizations\n",
    "\n",
    "Some guidelines when creating **explanatory** visualizations (which should also apply to exploratory plots):\n",
    "\n",
    "- Each graph should have **one clear point** it is trying to make. Don't try to do too much with one plot!\n",
    "\n",
    "- **Know your audience!** Come up with a use case and audience to help guide your decision-making process - if you know your audience, and you know what they care about and what they need, everything in the process gets easier\n",
    "\n",
    "- Choose the correct graph for the relationship you are trying to communicate\n",
    "\n",
    "- Label your axes and graph! It should not be difficult for someone to understand what your graph is trying to represent\n",
    "\n",
    "- People have **unconscious responses** to visuals which will effect the way they interpret information. Good visualization makes use of these natural shortcuts in cognition to convey information more efficiently\n",
    "    - Red and Down tends to be negative while Green and Up is positive\n",
    "    - Lighter hues are seen as lower values and darker is higher values\n",
    "    - Axis start at zero\n",
    "        \n",
    "__Note:__ All of these 'rules' can be broken but know that you will be working against most people's first instinct"
   ]
  },
  {
   "cell_type": "markdown",
   "metadata": {},
   "source": [
    "### What Types Work Well Consistently"
   ]
  },
  {
   "cell_type": "markdown",
   "metadata": {},
   "source": [
    "Experts and researchers found the best visual patterns humans identify well:\n",
    "\n",
    "> - Positional changes (scatter plots)\n",
    "> - Length changes (bar charts)\n",
    "\n",
    "But we're bad at understanding other patterns...\n",
    "\n",
    "> - Color hue changes \n",
    "> - Area changes (pie charts!)"
   ]
  },
  {
   "cell_type": "markdown",
   "metadata": {},
   "source": [
    "### How to Lie with Graphs"
   ]
  },
  {
   "cell_type": "markdown",
   "metadata": {},
   "source": [
    "- Graphs can be misleading\n",
    "- Consciously or unconsciously people will make decisions to lead people towards their conclusions of the data\n",
    "\n",
    "- Examples of dark patterns\n",
    "    - Changing the axis scale\n",
    "    - Using two different y axis scales to compare trends\n",
    "    - Showing cumulative data which will always be increasing to hide a downturn in a trend\n",
    "    - Pie charts (comparing degrees is not something people are good at) just use a bar chart\n",
    "    - Inconsistent units\n",
    "    - Not showing all of the data for motivated reasons\n",
    "    - Percentages not adding up to 100\n",
    "\n",
    "<img src=\"images/pie-chart-misleading.png\">\n",
    "\n",
    "[image source](http://flowingdata.com/2009/11/26/fox-news-makes-the-best-pie-chart-ever/)"
   ]
  },
  {
   "cell_type": "markdown",
   "metadata": {
    "heading_collapsed": true,
    "hidden": true
   },
   "source": [
    "## Style Sheets"
   ]
  },
  {
   "cell_type": "markdown",
   "metadata": {
    "hidden": true
   },
   "source": [
    "[Style Sheets](https://matplotlib.org/3.1.1/gallery/style_sheets/style_sheets_reference.html) can add extra customization to your plots."
   ]
  },
  {
   "cell_type": "code",
   "execution_count": null,
   "metadata": {
    "hidden": true
   },
   "outputs": [],
   "source": [
    "# Uses this \"style\" for the rest of your notebook\n",
    "plt.style.use('fivethirtyeight')"
   ]
  },
  {
   "cell_type": "code",
   "execution_count": null,
   "metadata": {
    "hidden": true
   },
   "outputs": [],
   "source": [
    "## Showing a plot with this style\n",
    "fig, ax = plt.subplots()\n",
    "\n",
    "X = np.linspace(-3, 3, 100)\n",
    "y = X**2\n",
    "ax.plot(X, y)\n",
    "ax.set_title('Parabola with words')\n",
    "ax.text(s='random comment', x=0, y=3)\n",
    "ax.annotate(text='minimum!', xy=(0, 0), xytext=(1, -4),\n",
    "           arrowprops={'facecolor': 'black'});"
   ]
  },
  {
   "cell_type": "code",
   "execution_count": null,
   "metadata": {
    "hidden": true
   },
   "outputs": [],
   "source": [
    "# Go back to the default style \n",
    "plt.style.use('default')"
   ]
  },
  {
   "cell_type": "markdown",
   "metadata": {
    "heading_collapsed": true,
    "hidden": true
   },
   "source": [
    "### Context Manager for Temporary Style"
   ]
  },
  {
   "cell_type": "markdown",
   "metadata": {
    "hidden": true
   },
   "source": [
    "We can have temporary style change by using a [context manager for our style](https://matplotlib.org/stable/tutorials/introductory/customizing.html#temporary-styling)."
   ]
  },
  {
   "cell_type": "code",
   "execution_count": null,
   "metadata": {
    "hidden": true
   },
   "outputs": [],
   "source": [
    "# Allows your us to use a temporary style just for the plot in block of code\n",
    "with plt.style.context('ggplot'):\n",
    "    fig, ax = plt.subplots()\n",
    "\n",
    "    X = np.linspace(-3, 3, 100)\n",
    "    y = X**2\n",
    "    ax.plot(X, y)\n",
    "    ax.set_title('Parabola with words')\n",
    "    ax.text(s='random comment', x=0, y=3)\n",
    "    ax.annotate('minimum!', xy=(0, 0), xytext=(1, -4),\n",
    "                arrowprops={'facecolor': 'black'})"
   ]
  },
  {
   "cell_type": "markdown",
   "metadata": {
    "heading_collapsed": true,
    "hidden": true
   },
   "source": [
    "### The xkcd Style"
   ]
  },
  {
   "cell_type": "markdown",
   "metadata": {
    "hidden": true
   },
   "source": [
    "The [xkcd style](https://matplotlib.org/stable/api/_as_gen/matplotlib.pyplot.xkcd.html) can be a convenient style when you want to emphasize that the data shouldn't be taken seriously (such as an estimate versus showing real data)."
   ]
  },
  {
   "cell_type": "code",
   "execution_count": null,
   "metadata": {
    "hidden": true
   },
   "outputs": [],
   "source": [
    "# This also allows to use the xkcd style temporarily\n",
    "with plt.xkcd():\n",
    "    fig, ax = plt.subplots()\n",
    "\n",
    "    X = np.linspace(-3, 3, 100)\n",
    "    y = X**2\n",
    "    ax.plot(X, y)\n",
    "    ax.set_title('Parabola with words')\n",
    "    ax.text(s='random comment', x=0, y=3)\n",
    "    ax.annotate('minimum!', xy=(0, 0), xytext=(1, -4),\n",
    "                arrowprops={'facecolor': 'black'})"
   ]
  }
 ],
 "metadata": {
  "kernelspec": {
<<<<<<< HEAD
   "display_name": "Python 3 (ipykernel)",
=======
   "display_name": "Python 3",
>>>>>>> upstream/main
   "language": "python",
   "name": "python3"
  },
  "language_info": {
   "codemirror_mode": {
    "name": "ipython",
    "version": 3
   },
   "file_extension": ".py",
   "mimetype": "text/x-python",
   "name": "python",
   "nbconvert_exporter": "python",
   "pygments_lexer": "ipython3",
<<<<<<< HEAD
   "version": "3.10.11"
=======
   "version": "3.8.5"
>>>>>>> upstream/main
  },
  "toc": {
   "base_numbering": 1,
   "nav_menu": {},
   "number_sections": true,
   "sideBar": true,
   "skip_h1_title": false,
   "title_cell": "Table of Contents",
   "title_sidebar": "TOC",
   "toc_cell": true,
   "toc_position": {
    "height": "calc(100% - 180px)",
    "left": "10px",
    "top": "150px",
    "width": "292px"
   },
   "toc_section_display": true,
   "toc_window_display": true
  }
 },
 "nbformat": 4,
 "nbformat_minor": 4
}

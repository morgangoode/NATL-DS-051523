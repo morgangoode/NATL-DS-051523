{
 "cells": [
  {
   "cell_type": "markdown",
   "metadata": {},
   "source": [
    "![panda](http://res.freestockphotos.biz/thumbs/3/3173-illustration-of-a-giant-panda-eating-bamboo-th.png)"
   ]
  },
  {
   "cell_type": "markdown",
   "metadata": {
    "heading_collapsed": true
   },
   "source": [
    "# Pandas Data Cleaning"
   ]
  },
  {
   "cell_type": "markdown",
   "metadata": {
    "heading_collapsed": true
   },
   "source": [
    "# Objectives"
   ]
  },
  {
   "cell_type": "markdown",
   "metadata": {
    "hidden": true
   },
   "source": [
    "- Handle missing data, and recognize when different strategies for handling missing data would be appropriate\n",
    "- Use DataFrame methods (and sometimes lambda functions) to transform data\n",
    "- Use string methods to transform object-type columns"
   ]
  },
  {
   "cell_type": "code",
<<<<<<< HEAD
   "execution_count": 1,
=======
   "execution_count": null,
>>>>>>> upstream/main
   "metadata": {},
   "outputs": [],
   "source": [
    "# Imports\n",
    "\n",
    "import pandas as pd\n",
    "import numpy as np\n",
    "\n",
    "import matplotlib.pyplot as plt\n",
    "import seaborn as sns"
   ]
  },
  {
   "cell_type": "markdown",
   "metadata": {},
   "source": [
    "## To The Center!\n",
    "\n",
    "That's right - we're still working with Austin Animal Center data! But now, let's check out the Outcomes data, instead of the Intakes data we were working with before.\n",
    "\n",
    "Data source: https://data.austintexas.gov/Health-and-Community-Services/Austin-Animal-Center-Outcomes/9t4d-g238"
   ]
  },
  {
   "cell_type": "code",
<<<<<<< HEAD
   "execution_count": 8,
   "metadata": {},
   "outputs": [
    {
     "name": "stderr",
     "output_type": "stream",
     "text": [
      "/var/folders/bg/67byvjq51g396b14nlsgsw9w0000gn/T/ipykernel_27834/2096138197.py:3: UserWarning: Could not infer format, so each element will be parsed individually, falling back to `dateutil`. To ensure parsing is consistent and as-expected, please specify a format.\n",
      "  df = pd.read_csv('./data/Austin_Animal_Center_Outcomes_022822.csv',\n"
     ]
    }
   ],
   "source": [
    "# Read in the animal center outcomes data as df\n",
    "# Can use parse_dates and pass a column name to read it as a datetime\n",
    "df = pd.read_csv('./data/Austin_Animal_Center_Outcomes_022822.csv',\n",
=======
   "execution_count": null,
   "metadata": {},
   "outputs": [],
   "source": [
    "# Read in the animal center outcomes data as df\n",
    "# Can use parse_dates and pass a column name to read it as a datetime\n",
    "df = pd.read_csv('data/Austin_Animal_Center_Outcomes_022822.csv',\n",
>>>>>>> upstream/main
    "                 parse_dates=['DateTime', 'Date of Birth'])"
   ]
  },
  {
   "cell_type": "code",
<<<<<<< HEAD
   "execution_count": 9,
   "metadata": {},
   "outputs": [
    {
     "data": {
      "text/html": [
       "<div>\n",
       "<style scoped>\n",
       "    .dataframe tbody tr th:only-of-type {\n",
       "        vertical-align: middle;\n",
       "    }\n",
       "\n",
       "    .dataframe tbody tr th {\n",
       "        vertical-align: top;\n",
       "    }\n",
       "\n",
       "    .dataframe thead th {\n",
       "        text-align: right;\n",
       "    }\n",
       "</style>\n",
       "<table border=\"1\" class=\"dataframe\">\n",
       "  <thead>\n",
       "    <tr style=\"text-align: right;\">\n",
       "      <th></th>\n",
       "      <th>Animal ID</th>\n",
       "      <th>Name</th>\n",
       "      <th>DateTime</th>\n",
       "      <th>MonthYear</th>\n",
       "      <th>Date of Birth</th>\n",
       "      <th>Outcome Type</th>\n",
       "      <th>Outcome Subtype</th>\n",
       "      <th>Animal Type</th>\n",
       "      <th>Sex upon Outcome</th>\n",
       "      <th>Age upon Outcome</th>\n",
       "      <th>Breed</th>\n",
       "      <th>Color</th>\n",
       "    </tr>\n",
       "  </thead>\n",
       "  <tbody>\n",
       "    <tr>\n",
       "      <th>0</th>\n",
       "      <td>A794011</td>\n",
       "      <td>Chunk</td>\n",
       "      <td>2019-05-08 18:20:00</td>\n",
       "      <td>May 2019</td>\n",
       "      <td>2017-05-02</td>\n",
       "      <td>Rto-Adopt</td>\n",
       "      <td>NaN</td>\n",
       "      <td>Cat</td>\n",
       "      <td>Neutered Male</td>\n",
       "      <td>2 years</td>\n",
       "      <td>Domestic Shorthair Mix</td>\n",
       "      <td>Brown Tabby/White</td>\n",
       "    </tr>\n",
       "    <tr>\n",
       "      <th>1</th>\n",
       "      <td>A776359</td>\n",
       "      <td>Gizmo</td>\n",
       "      <td>2018-07-18 16:02:00</td>\n",
       "      <td>Jul 2018</td>\n",
       "      <td>2017-07-12</td>\n",
       "      <td>Adoption</td>\n",
       "      <td>NaN</td>\n",
       "      <td>Dog</td>\n",
       "      <td>Neutered Male</td>\n",
       "      <td>1 year</td>\n",
       "      <td>Chihuahua Shorthair Mix</td>\n",
       "      <td>White/Brown</td>\n",
       "    </tr>\n",
       "    <tr>\n",
       "      <th>2</th>\n",
       "      <td>A821648</td>\n",
       "      <td>NaN</td>\n",
       "      <td>2020-08-16 11:38:00</td>\n",
       "      <td>Aug 2020</td>\n",
       "      <td>2019-08-16</td>\n",
       "      <td>Euthanasia</td>\n",
       "      <td>NaN</td>\n",
       "      <td>Other</td>\n",
       "      <td>Unknown</td>\n",
       "      <td>1 year</td>\n",
       "      <td>Raccoon</td>\n",
       "      <td>Gray</td>\n",
       "    </tr>\n",
       "    <tr>\n",
       "      <th>3</th>\n",
       "      <td>A720371</td>\n",
       "      <td>Moose</td>\n",
       "      <td>2016-02-13 17:59:00</td>\n",
       "      <td>Feb 2016</td>\n",
       "      <td>2015-10-08</td>\n",
       "      <td>Adoption</td>\n",
       "      <td>NaN</td>\n",
       "      <td>Dog</td>\n",
       "      <td>Neutered Male</td>\n",
       "      <td>4 months</td>\n",
       "      <td>Anatol Shepherd/Labrador Retriever</td>\n",
       "      <td>Buff</td>\n",
       "    </tr>\n",
       "    <tr>\n",
       "      <th>4</th>\n",
       "      <td>A674754</td>\n",
       "      <td>NaN</td>\n",
       "      <td>2014-03-18 11:47:00</td>\n",
       "      <td>Mar 2014</td>\n",
       "      <td>2014-03-12</td>\n",
       "      <td>Transfer</td>\n",
       "      <td>Partner</td>\n",
       "      <td>Cat</td>\n",
       "      <td>Intact Male</td>\n",
       "      <td>6 days</td>\n",
       "      <td>Domestic Shorthair Mix</td>\n",
       "      <td>Orange Tabby</td>\n",
       "    </tr>\n",
       "  </tbody>\n",
       "</table>\n",
       "</div>"
      ],
      "text/plain": [
       "  Animal ID   Name            DateTime MonthYear Date of Birth Outcome Type   \n",
       "0   A794011  Chunk 2019-05-08 18:20:00  May 2019    2017-05-02    Rto-Adopt  \\\n",
       "1   A776359  Gizmo 2018-07-18 16:02:00  Jul 2018    2017-07-12     Adoption   \n",
       "2   A821648    NaN 2020-08-16 11:38:00  Aug 2020    2019-08-16   Euthanasia   \n",
       "3   A720371  Moose 2016-02-13 17:59:00  Feb 2016    2015-10-08     Adoption   \n",
       "4   A674754    NaN 2014-03-18 11:47:00  Mar 2014    2014-03-12     Transfer   \n",
       "\n",
       "  Outcome Subtype Animal Type Sex upon Outcome Age upon Outcome   \n",
       "0             NaN         Cat    Neutered Male          2 years  \\\n",
       "1             NaN         Dog    Neutered Male           1 year   \n",
       "2             NaN       Other          Unknown           1 year   \n",
       "3             NaN         Dog    Neutered Male         4 months   \n",
       "4         Partner         Cat      Intact Male           6 days   \n",
       "\n",
       "                                Breed              Color  \n",
       "0              Domestic Shorthair Mix  Brown Tabby/White  \n",
       "1             Chihuahua Shorthair Mix        White/Brown  \n",
       "2                             Raccoon               Gray  \n",
       "3  Anatol Shepherd/Labrador Retriever               Buff  \n",
       "4              Domestic Shorthair Mix       Orange Tabby  "
      ]
     },
     "execution_count": 9,
     "metadata": {},
     "output_type": "execute_result"
    }
   ],
=======
   "execution_count": null,
   "metadata": {},
   "outputs": [],
>>>>>>> upstream/main
   "source": [
    "# Check it out\n",
    "df.head()"
   ]
  },
  {
   "cell_type": "code",
<<<<<<< HEAD
   "execution_count": 16,
   "metadata": {},
   "outputs": [
    {
     "name": "stdout",
     "output_type": "stream",
     "text": [
      "<class 'pandas.core.frame.DataFrame'>\n",
      "RangeIndex: 137097 entries, 0 to 137096\n",
      "Data columns (total 14 columns):\n",
      " #   Column            Non-Null Count   Dtype         \n",
      "---  ------            --------------   -----         \n",
      " 0   Animal ID         137097 non-null  object        \n",
      " 1   Name              96095 non-null   object        \n",
      " 2   DateTime          137097 non-null  datetime64[ns]\n",
      " 3   MonthYear         137097 non-null  object        \n",
      " 4   Date of Birth     137097 non-null  datetime64[ns]\n",
      " 5   Outcome Type      137073 non-null  object        \n",
      " 6   Outcome Subtype   62653 non-null   object        \n",
      " 7   Animal Type       137097 non-null  object        \n",
      " 8   Sex upon Outcome  137095 non-null  object        \n",
      " 9   Age upon Outcome  137092 non-null  object        \n",
      " 10  Breed             137097 non-null  object        \n",
      " 11  Color             137097 non-null  object        \n",
      " 12  Age Number        137092 non-null  object        \n",
      " 13  Age Unit          137092 non-null  object        \n",
      "dtypes: datetime64[ns](2), object(12)\n",
      "memory usage: 14.6+ MB\n"
     ]
    }
   ],
=======
   "execution_count": null,
   "metadata": {},
   "outputs": [],
>>>>>>> upstream/main
   "source": [
    "# Info on the dataframe\n",
    "df.info()"
   ]
  },
  {
   "cell_type": "markdown",
   "metadata": {},
   "source": [
    "## Using Questions to Drive Both Exploration and Cleaning\n",
    "\n",
    "The best way to think about how to both explore and clean your data set is to think about what is interesting in your data, what questions you have, what you want to know and how to actually get there. We're going to ask a few questions of our dataset, and use that to drive our 'cleaning' process (and talk a little bit about how and when to clean data in the process!)"
   ]
  },
  {
   "cell_type": "markdown",
   "metadata": {
    "heading_collapsed": true,
    "hidden": true
   },
   "source": [
    "## Question 1: How old are the animals in our dataset?"
   ]
  },
  {
   "cell_type": "markdown",
   "metadata": {
    "hidden": true
   },
   "source": [
    "Let's try to answer this with the `Age upon Outcome` variable:"
   ]
  },
  {
   "cell_type": "code",
<<<<<<< HEAD
   "execution_count": 10,
   "metadata": {
    "hidden": true,
    "scrolled": false
   },
   "outputs": [
    {
     "data": {
      "text/plain": [
       "Age upon Outcome\n",
       "1 year       23780\n",
       "2 years      21332\n",
       "2 months     17063\n",
       "3 years       8112\n",
       "3 months      6685\n",
       "1 month       5902\n",
       "4 years       4765\n",
       "4 months      4502\n",
       "5 years       4413\n",
       "5 months      3436\n",
       "6 months      3329\n",
       "6 years       2925\n",
       "8 years       2551\n",
       "7 years       2527\n",
       "3 weeks       2331\n",
       "2 weeks       2294\n",
       "8 months      2177\n",
       "10 years      2045\n",
       "10 months     1988\n",
       "4 weeks       1938\n",
       "7 months      1777\n",
       "9 months      1415\n",
       "9 years       1410\n",
       "1 weeks        995\n",
       "12 years       995\n",
       "11 months      869\n",
       "11 years       801\n",
       "1 week         748\n",
       "13 years       656\n",
       "14 years       441\n",
       "3 days         399\n",
       "2 days         389\n",
       "15 years       369\n",
       "1 day          316\n",
       "6 days         263\n",
       "4 days         250\n",
       "0 years        207\n",
       "5 days         167\n",
       "16 years       163\n",
       "5 weeks        152\n",
       "17 years        92\n",
       "18 years        56\n",
       "19 years        27\n",
       "20 years        21\n",
       "-1 years         6\n",
       "22 years         6\n",
       "23 years         1\n",
       "24 years         1\n",
       "-2 years         1\n",
       "25 years         1\n",
       "21 years         1\n",
       "-3 years         1\n",
       "30 years         1\n",
       "Name: count, dtype: int64"
      ]
     },
     "execution_count": 10,
     "metadata": {},
     "output_type": "execute_result"
    }
   ],
=======
   "execution_count": null,
   "metadata": {
    "hidden": true
   },
   "outputs": [],
>>>>>>> upstream/main
   "source": [
    "df['Age upon Outcome'].value_counts()"
   ]
  },
  {
   "cell_type": "markdown",
   "metadata": {},
   "source": [
<<<<<<< HEAD
    "## put it in the smallest unit, in this case days, for continuity"
   ]
  },
  {
   "cell_type": "markdown",
   "metadata": {},
   "source": [
=======
>>>>>>> upstream/main
    "Oh no! These aren't numbers! And the data is pretty dirty! Let's see how we can break this column apart, into the Age Number and the Age Unit."
   ]
  },
  {
   "cell_type": "code",
<<<<<<< HEAD
   "execution_count": 11,
=======
   "execution_count": null,
>>>>>>> upstream/main
   "metadata": {},
   "outputs": [],
   "source": [
    "# Split out the age number and age unit - using string methods!\n",
    "df['Age Number'] = df['Age upon Outcome'].str.split(\" \").str[0]\n",
    "df['Age Unit'] = df['Age upon Outcome'].str.split(\" \").str[1]"
   ]
  },
  {
   "cell_type": "code",
<<<<<<< HEAD
   "execution_count": 12,
   "metadata": {},
   "outputs": [
    {
     "data": {
      "text/html": [
       "<div>\n",
       "<style scoped>\n",
       "    .dataframe tbody tr th:only-of-type {\n",
       "        vertical-align: middle;\n",
       "    }\n",
       "\n",
       "    .dataframe tbody tr th {\n",
       "        vertical-align: top;\n",
       "    }\n",
       "\n",
       "    .dataframe thead th {\n",
       "        text-align: right;\n",
       "    }\n",
       "</style>\n",
       "<table border=\"1\" class=\"dataframe\">\n",
       "  <thead>\n",
       "    <tr style=\"text-align: right;\">\n",
       "      <th></th>\n",
       "      <th>Animal ID</th>\n",
       "      <th>Name</th>\n",
       "      <th>DateTime</th>\n",
       "      <th>MonthYear</th>\n",
       "      <th>Date of Birth</th>\n",
       "      <th>Outcome Type</th>\n",
       "      <th>Outcome Subtype</th>\n",
       "      <th>Animal Type</th>\n",
       "      <th>Sex upon Outcome</th>\n",
       "      <th>Age upon Outcome</th>\n",
       "      <th>Breed</th>\n",
       "      <th>Color</th>\n",
       "      <th>Age Number</th>\n",
       "      <th>Age Unit</th>\n",
       "    </tr>\n",
       "  </thead>\n",
       "  <tbody>\n",
       "    <tr>\n",
       "      <th>0</th>\n",
       "      <td>A794011</td>\n",
       "      <td>Chunk</td>\n",
       "      <td>2019-05-08 18:20:00</td>\n",
       "      <td>May 2019</td>\n",
       "      <td>2017-05-02</td>\n",
       "      <td>Rto-Adopt</td>\n",
       "      <td>NaN</td>\n",
       "      <td>Cat</td>\n",
       "      <td>Neutered Male</td>\n",
       "      <td>2 years</td>\n",
       "      <td>Domestic Shorthair Mix</td>\n",
       "      <td>Brown Tabby/White</td>\n",
       "      <td>2</td>\n",
       "      <td>years</td>\n",
       "    </tr>\n",
       "    <tr>\n",
       "      <th>1</th>\n",
       "      <td>A776359</td>\n",
       "      <td>Gizmo</td>\n",
       "      <td>2018-07-18 16:02:00</td>\n",
       "      <td>Jul 2018</td>\n",
       "      <td>2017-07-12</td>\n",
       "      <td>Adoption</td>\n",
       "      <td>NaN</td>\n",
       "      <td>Dog</td>\n",
       "      <td>Neutered Male</td>\n",
       "      <td>1 year</td>\n",
       "      <td>Chihuahua Shorthair Mix</td>\n",
       "      <td>White/Brown</td>\n",
       "      <td>1</td>\n",
       "      <td>year</td>\n",
       "    </tr>\n",
       "    <tr>\n",
       "      <th>2</th>\n",
       "      <td>A821648</td>\n",
       "      <td>NaN</td>\n",
       "      <td>2020-08-16 11:38:00</td>\n",
       "      <td>Aug 2020</td>\n",
       "      <td>2019-08-16</td>\n",
       "      <td>Euthanasia</td>\n",
       "      <td>NaN</td>\n",
       "      <td>Other</td>\n",
       "      <td>Unknown</td>\n",
       "      <td>1 year</td>\n",
       "      <td>Raccoon</td>\n",
       "      <td>Gray</td>\n",
       "      <td>1</td>\n",
       "      <td>year</td>\n",
       "    </tr>\n",
       "    <tr>\n",
       "      <th>3</th>\n",
       "      <td>A720371</td>\n",
       "      <td>Moose</td>\n",
       "      <td>2016-02-13 17:59:00</td>\n",
       "      <td>Feb 2016</td>\n",
       "      <td>2015-10-08</td>\n",
       "      <td>Adoption</td>\n",
       "      <td>NaN</td>\n",
       "      <td>Dog</td>\n",
       "      <td>Neutered Male</td>\n",
       "      <td>4 months</td>\n",
       "      <td>Anatol Shepherd/Labrador Retriever</td>\n",
       "      <td>Buff</td>\n",
       "      <td>4</td>\n",
       "      <td>months</td>\n",
       "    </tr>\n",
       "    <tr>\n",
       "      <th>4</th>\n",
       "      <td>A674754</td>\n",
       "      <td>NaN</td>\n",
       "      <td>2014-03-18 11:47:00</td>\n",
       "      <td>Mar 2014</td>\n",
       "      <td>2014-03-12</td>\n",
       "      <td>Transfer</td>\n",
       "      <td>Partner</td>\n",
       "      <td>Cat</td>\n",
       "      <td>Intact Male</td>\n",
       "      <td>6 days</td>\n",
       "      <td>Domestic Shorthair Mix</td>\n",
       "      <td>Orange Tabby</td>\n",
       "      <td>6</td>\n",
       "      <td>days</td>\n",
       "    </tr>\n",
       "  </tbody>\n",
       "</table>\n",
       "</div>"
      ],
      "text/plain": [
       "  Animal ID   Name            DateTime MonthYear Date of Birth Outcome Type   \n",
       "0   A794011  Chunk 2019-05-08 18:20:00  May 2019    2017-05-02    Rto-Adopt  \\\n",
       "1   A776359  Gizmo 2018-07-18 16:02:00  Jul 2018    2017-07-12     Adoption   \n",
       "2   A821648    NaN 2020-08-16 11:38:00  Aug 2020    2019-08-16   Euthanasia   \n",
       "3   A720371  Moose 2016-02-13 17:59:00  Feb 2016    2015-10-08     Adoption   \n",
       "4   A674754    NaN 2014-03-18 11:47:00  Mar 2014    2014-03-12     Transfer   \n",
       "\n",
       "  Outcome Subtype Animal Type Sex upon Outcome Age upon Outcome   \n",
       "0             NaN         Cat    Neutered Male          2 years  \\\n",
       "1             NaN         Dog    Neutered Male           1 year   \n",
       "2             NaN       Other          Unknown           1 year   \n",
       "3             NaN         Dog    Neutered Male         4 months   \n",
       "4         Partner         Cat      Intact Male           6 days   \n",
       "\n",
       "                                Breed              Color Age Number Age Unit  \n",
       "0              Domestic Shorthair Mix  Brown Tabby/White          2    years  \n",
       "1             Chihuahua Shorthair Mix        White/Brown          1     year  \n",
       "2                             Raccoon               Gray          1     year  \n",
       "3  Anatol Shepherd/Labrador Retriever               Buff          4   months  \n",
       "4              Domestic Shorthair Mix       Orange Tabby          6     days  "
      ]
     },
     "execution_count": 12,
     "metadata": {},
     "output_type": "execute_result"
    }
   ],
=======
   "execution_count": null,
   "metadata": {},
   "outputs": [],
>>>>>>> upstream/main
   "source": [
    "# Sanity check\n",
    "df.head()"
   ]
  },
  {
   "cell_type": "code",
<<<<<<< HEAD
   "execution_count": 13,
   "metadata": {},
   "outputs": [
    {
     "name": "stdout",
     "output_type": "stream",
     "text": [
      "<class 'pandas.core.frame.DataFrame'>\n",
      "RangeIndex: 137097 entries, 0 to 137096\n",
      "Data columns (total 14 columns):\n",
      " #   Column            Non-Null Count   Dtype         \n",
      "---  ------            --------------   -----         \n",
      " 0   Animal ID         137097 non-null  object        \n",
      " 1   Name              96095 non-null   object        \n",
      " 2   DateTime          137097 non-null  datetime64[ns]\n",
      " 3   MonthYear         137097 non-null  object        \n",
      " 4   Date of Birth     137097 non-null  datetime64[ns]\n",
      " 5   Outcome Type      137073 non-null  object        \n",
      " 6   Outcome Subtype   62653 non-null   object        \n",
      " 7   Animal Type       137097 non-null  object        \n",
      " 8   Sex upon Outcome  137095 non-null  object        \n",
      " 9   Age upon Outcome  137092 non-null  object        \n",
      " 10  Breed             137097 non-null  object        \n",
      " 11  Color             137097 non-null  object        \n",
      " 12  Age Number        137092 non-null  object        \n",
      " 13  Age Unit          137092 non-null  object        \n",
      "dtypes: datetime64[ns](2), object(12)\n",
      "memory usage: 14.6+ MB\n"
     ]
    }
   ],
=======
   "execution_count": null,
   "metadata": {},
   "outputs": [],
>>>>>>> upstream/main
   "source": [
    "# Check the data types really quick...\n",
    "df.info()"
   ]
  },
  {
   "cell_type": "code",
<<<<<<< HEAD
   "execution_count": 14,
   "metadata": {},
   "outputs": [
    {
     "ename": "ValueError",
     "evalue": "cannot convert float NaN to integer",
     "output_type": "error",
     "traceback": [
      "\u001b[0;31m---------------------------------------------------------------------------\u001b[0m",
      "\u001b[0;31mValueError\u001b[0m                                Traceback (most recent call last)",
      "Cell \u001b[0;32mIn[14], line 2\u001b[0m\n\u001b[1;32m      1\u001b[0m \u001b[38;5;66;03m# Need to make our Age Number actual numbers! \u001b[39;00m\n\u001b[0;32m----> 2\u001b[0m \u001b[43mdf\u001b[49m\u001b[43m[\u001b[49m\u001b[38;5;124;43m'\u001b[39;49m\u001b[38;5;124;43mAge Number\u001b[39;49m\u001b[38;5;124;43m'\u001b[39;49m\u001b[43m]\u001b[49m\u001b[38;5;241;43m.\u001b[39;49m\u001b[43mastype\u001b[49m\u001b[43m(\u001b[49m\u001b[38;5;28;43mint\u001b[39;49m\u001b[43m)\u001b[49m\n\u001b[1;32m      3\u001b[0m \u001b[38;5;66;03m# But this throws an error!\u001b[39;00m\n",
      "File \u001b[0;32m~/anaconda3/envs/learn-env/lib/python3.10/site-packages/pandas/core/generic.py:6324\u001b[0m, in \u001b[0;36mNDFrame.astype\u001b[0;34m(self, dtype, copy, errors)\u001b[0m\n\u001b[1;32m   6317\u001b[0m     results \u001b[38;5;241m=\u001b[39m [\n\u001b[1;32m   6318\u001b[0m         \u001b[38;5;28mself\u001b[39m\u001b[38;5;241m.\u001b[39miloc[:, i]\u001b[38;5;241m.\u001b[39mastype(dtype, copy\u001b[38;5;241m=\u001b[39mcopy)\n\u001b[1;32m   6319\u001b[0m         \u001b[38;5;28;01mfor\u001b[39;00m i \u001b[38;5;129;01min\u001b[39;00m \u001b[38;5;28mrange\u001b[39m(\u001b[38;5;28mlen\u001b[39m(\u001b[38;5;28mself\u001b[39m\u001b[38;5;241m.\u001b[39mcolumns))\n\u001b[1;32m   6320\u001b[0m     ]\n\u001b[1;32m   6322\u001b[0m \u001b[38;5;28;01melse\u001b[39;00m:\n\u001b[1;32m   6323\u001b[0m     \u001b[38;5;66;03m# else, only a single dtype is given\u001b[39;00m\n\u001b[0;32m-> 6324\u001b[0m     new_data \u001b[38;5;241m=\u001b[39m \u001b[38;5;28;43mself\u001b[39;49m\u001b[38;5;241;43m.\u001b[39;49m\u001b[43m_mgr\u001b[49m\u001b[38;5;241;43m.\u001b[39;49m\u001b[43mastype\u001b[49m\u001b[43m(\u001b[49m\u001b[43mdtype\u001b[49m\u001b[38;5;241;43m=\u001b[39;49m\u001b[43mdtype\u001b[49m\u001b[43m,\u001b[49m\u001b[43m \u001b[49m\u001b[43mcopy\u001b[49m\u001b[38;5;241;43m=\u001b[39;49m\u001b[43mcopy\u001b[49m\u001b[43m,\u001b[49m\u001b[43m \u001b[49m\u001b[43merrors\u001b[49m\u001b[38;5;241;43m=\u001b[39;49m\u001b[43merrors\u001b[49m\u001b[43m)\u001b[49m\n\u001b[1;32m   6325\u001b[0m     \u001b[38;5;28;01mreturn\u001b[39;00m \u001b[38;5;28mself\u001b[39m\u001b[38;5;241m.\u001b[39m_constructor(new_data)\u001b[38;5;241m.\u001b[39m__finalize__(\u001b[38;5;28mself\u001b[39m, method\u001b[38;5;241m=\u001b[39m\u001b[38;5;124m\"\u001b[39m\u001b[38;5;124mastype\u001b[39m\u001b[38;5;124m\"\u001b[39m)\n\u001b[1;32m   6327\u001b[0m \u001b[38;5;66;03m# GH 33113: handle empty frame or series\u001b[39;00m\n",
      "File \u001b[0;32m~/anaconda3/envs/learn-env/lib/python3.10/site-packages/pandas/core/internals/managers.py:451\u001b[0m, in \u001b[0;36mBaseBlockManager.astype\u001b[0;34m(self, dtype, copy, errors)\u001b[0m\n\u001b[1;32m    448\u001b[0m \u001b[38;5;28;01melif\u001b[39;00m using_copy_on_write():\n\u001b[1;32m    449\u001b[0m     copy \u001b[38;5;241m=\u001b[39m \u001b[38;5;28;01mFalse\u001b[39;00m\n\u001b[0;32m--> 451\u001b[0m \u001b[38;5;28;01mreturn\u001b[39;00m \u001b[38;5;28;43mself\u001b[39;49m\u001b[38;5;241;43m.\u001b[39;49m\u001b[43mapply\u001b[49m\u001b[43m(\u001b[49m\n\u001b[1;32m    452\u001b[0m \u001b[43m    \u001b[49m\u001b[38;5;124;43m\"\u001b[39;49m\u001b[38;5;124;43mastype\u001b[39;49m\u001b[38;5;124;43m\"\u001b[39;49m\u001b[43m,\u001b[49m\n\u001b[1;32m    453\u001b[0m \u001b[43m    \u001b[49m\u001b[43mdtype\u001b[49m\u001b[38;5;241;43m=\u001b[39;49m\u001b[43mdtype\u001b[49m\u001b[43m,\u001b[49m\n\u001b[1;32m    454\u001b[0m \u001b[43m    \u001b[49m\u001b[43mcopy\u001b[49m\u001b[38;5;241;43m=\u001b[39;49m\u001b[43mcopy\u001b[49m\u001b[43m,\u001b[49m\n\u001b[1;32m    455\u001b[0m \u001b[43m    \u001b[49m\u001b[43merrors\u001b[49m\u001b[38;5;241;43m=\u001b[39;49m\u001b[43merrors\u001b[49m\u001b[43m,\u001b[49m\n\u001b[1;32m    456\u001b[0m \u001b[43m    \u001b[49m\u001b[43musing_cow\u001b[49m\u001b[38;5;241;43m=\u001b[39;49m\u001b[43musing_copy_on_write\u001b[49m\u001b[43m(\u001b[49m\u001b[43m)\u001b[49m\u001b[43m,\u001b[49m\n\u001b[1;32m    457\u001b[0m \u001b[43m\u001b[49m\u001b[43m)\u001b[49m\n",
      "File \u001b[0;32m~/anaconda3/envs/learn-env/lib/python3.10/site-packages/pandas/core/internals/managers.py:352\u001b[0m, in \u001b[0;36mBaseBlockManager.apply\u001b[0;34m(self, f, align_keys, **kwargs)\u001b[0m\n\u001b[1;32m    350\u001b[0m         applied \u001b[38;5;241m=\u001b[39m b\u001b[38;5;241m.\u001b[39mapply(f, \u001b[38;5;241m*\u001b[39m\u001b[38;5;241m*\u001b[39mkwargs)\n\u001b[1;32m    351\u001b[0m     \u001b[38;5;28;01melse\u001b[39;00m:\n\u001b[0;32m--> 352\u001b[0m         applied \u001b[38;5;241m=\u001b[39m \u001b[38;5;28;43mgetattr\u001b[39;49m\u001b[43m(\u001b[49m\u001b[43mb\u001b[49m\u001b[43m,\u001b[49m\u001b[43m \u001b[49m\u001b[43mf\u001b[49m\u001b[43m)\u001b[49m\u001b[43m(\u001b[49m\u001b[38;5;241;43m*\u001b[39;49m\u001b[38;5;241;43m*\u001b[39;49m\u001b[43mkwargs\u001b[49m\u001b[43m)\u001b[49m\n\u001b[1;32m    353\u001b[0m     result_blocks \u001b[38;5;241m=\u001b[39m extend_blocks(applied, result_blocks)\n\u001b[1;32m    355\u001b[0m out \u001b[38;5;241m=\u001b[39m \u001b[38;5;28mtype\u001b[39m(\u001b[38;5;28mself\u001b[39m)\u001b[38;5;241m.\u001b[39mfrom_blocks(result_blocks, \u001b[38;5;28mself\u001b[39m\u001b[38;5;241m.\u001b[39maxes)\n",
      "File \u001b[0;32m~/anaconda3/envs/learn-env/lib/python3.10/site-packages/pandas/core/internals/blocks.py:511\u001b[0m, in \u001b[0;36mBlock.astype\u001b[0;34m(self, dtype, copy, errors, using_cow)\u001b[0m\n\u001b[1;32m    491\u001b[0m \u001b[38;5;250m\u001b[39m\u001b[38;5;124;03m\"\"\"\u001b[39;00m\n\u001b[1;32m    492\u001b[0m \u001b[38;5;124;03mCoerce to the new dtype.\u001b[39;00m\n\u001b[1;32m    493\u001b[0m \n\u001b[0;32m   (...)\u001b[0m\n\u001b[1;32m    507\u001b[0m \u001b[38;5;124;03mBlock\u001b[39;00m\n\u001b[1;32m    508\u001b[0m \u001b[38;5;124;03m\"\"\"\u001b[39;00m\n\u001b[1;32m    509\u001b[0m values \u001b[38;5;241m=\u001b[39m \u001b[38;5;28mself\u001b[39m\u001b[38;5;241m.\u001b[39mvalues\n\u001b[0;32m--> 511\u001b[0m new_values \u001b[38;5;241m=\u001b[39m \u001b[43mastype_array_safe\u001b[49m\u001b[43m(\u001b[49m\u001b[43mvalues\u001b[49m\u001b[43m,\u001b[49m\u001b[43m \u001b[49m\u001b[43mdtype\u001b[49m\u001b[43m,\u001b[49m\u001b[43m \u001b[49m\u001b[43mcopy\u001b[49m\u001b[38;5;241;43m=\u001b[39;49m\u001b[43mcopy\u001b[49m\u001b[43m,\u001b[49m\u001b[43m \u001b[49m\u001b[43merrors\u001b[49m\u001b[38;5;241;43m=\u001b[39;49m\u001b[43merrors\u001b[49m\u001b[43m)\u001b[49m\n\u001b[1;32m    513\u001b[0m new_values \u001b[38;5;241m=\u001b[39m maybe_coerce_values(new_values)\n\u001b[1;32m    515\u001b[0m refs \u001b[38;5;241m=\u001b[39m \u001b[38;5;28;01mNone\u001b[39;00m\n",
      "File \u001b[0;32m~/anaconda3/envs/learn-env/lib/python3.10/site-packages/pandas/core/dtypes/astype.py:242\u001b[0m, in \u001b[0;36mastype_array_safe\u001b[0;34m(values, dtype, copy, errors)\u001b[0m\n\u001b[1;32m    239\u001b[0m     dtype \u001b[38;5;241m=\u001b[39m dtype\u001b[38;5;241m.\u001b[39mnumpy_dtype\n\u001b[1;32m    241\u001b[0m \u001b[38;5;28;01mtry\u001b[39;00m:\n\u001b[0;32m--> 242\u001b[0m     new_values \u001b[38;5;241m=\u001b[39m \u001b[43mastype_array\u001b[49m\u001b[43m(\u001b[49m\u001b[43mvalues\u001b[49m\u001b[43m,\u001b[49m\u001b[43m \u001b[49m\u001b[43mdtype\u001b[49m\u001b[43m,\u001b[49m\u001b[43m \u001b[49m\u001b[43mcopy\u001b[49m\u001b[38;5;241;43m=\u001b[39;49m\u001b[43mcopy\u001b[49m\u001b[43m)\u001b[49m\n\u001b[1;32m    243\u001b[0m \u001b[38;5;28;01mexcept\u001b[39;00m (\u001b[38;5;167;01mValueError\u001b[39;00m, \u001b[38;5;167;01mTypeError\u001b[39;00m):\n\u001b[1;32m    244\u001b[0m     \u001b[38;5;66;03m# e.g. _astype_nansafe can fail on object-dtype of strings\u001b[39;00m\n\u001b[1;32m    245\u001b[0m     \u001b[38;5;66;03m#  trying to convert to float\u001b[39;00m\n\u001b[1;32m    246\u001b[0m     \u001b[38;5;28;01mif\u001b[39;00m errors \u001b[38;5;241m==\u001b[39m \u001b[38;5;124m\"\u001b[39m\u001b[38;5;124mignore\u001b[39m\u001b[38;5;124m\"\u001b[39m:\n",
      "File \u001b[0;32m~/anaconda3/envs/learn-env/lib/python3.10/site-packages/pandas/core/dtypes/astype.py:187\u001b[0m, in \u001b[0;36mastype_array\u001b[0;34m(values, dtype, copy)\u001b[0m\n\u001b[1;32m    184\u001b[0m     values \u001b[38;5;241m=\u001b[39m values\u001b[38;5;241m.\u001b[39mastype(dtype, copy\u001b[38;5;241m=\u001b[39mcopy)\n\u001b[1;32m    186\u001b[0m \u001b[38;5;28;01melse\u001b[39;00m:\n\u001b[0;32m--> 187\u001b[0m     values \u001b[38;5;241m=\u001b[39m \u001b[43m_astype_nansafe\u001b[49m\u001b[43m(\u001b[49m\u001b[43mvalues\u001b[49m\u001b[43m,\u001b[49m\u001b[43m \u001b[49m\u001b[43mdtype\u001b[49m\u001b[43m,\u001b[49m\u001b[43m \u001b[49m\u001b[43mcopy\u001b[49m\u001b[38;5;241;43m=\u001b[39;49m\u001b[43mcopy\u001b[49m\u001b[43m)\u001b[49m\n\u001b[1;32m    189\u001b[0m \u001b[38;5;66;03m# in pandas we don't store numpy str dtypes, so convert to object\u001b[39;00m\n\u001b[1;32m    190\u001b[0m \u001b[38;5;28;01mif\u001b[39;00m \u001b[38;5;28misinstance\u001b[39m(dtype, np\u001b[38;5;241m.\u001b[39mdtype) \u001b[38;5;129;01mand\u001b[39;00m \u001b[38;5;28missubclass\u001b[39m(values\u001b[38;5;241m.\u001b[39mdtype\u001b[38;5;241m.\u001b[39mtype, \u001b[38;5;28mstr\u001b[39m):\n",
      "File \u001b[0;32m~/anaconda3/envs/learn-env/lib/python3.10/site-packages/pandas/core/dtypes/astype.py:138\u001b[0m, in \u001b[0;36m_astype_nansafe\u001b[0;34m(arr, dtype, copy, skipna)\u001b[0m\n\u001b[1;32m    134\u001b[0m     \u001b[38;5;28;01mraise\u001b[39;00m \u001b[38;5;167;01mValueError\u001b[39;00m(msg)\n\u001b[1;32m    136\u001b[0m \u001b[38;5;28;01mif\u001b[39;00m copy \u001b[38;5;129;01mor\u001b[39;00m is_object_dtype(arr\u001b[38;5;241m.\u001b[39mdtype) \u001b[38;5;129;01mor\u001b[39;00m is_object_dtype(dtype):\n\u001b[1;32m    137\u001b[0m     \u001b[38;5;66;03m# Explicit copy, or required since NumPy can't view from / to object.\u001b[39;00m\n\u001b[0;32m--> 138\u001b[0m     \u001b[38;5;28;01mreturn\u001b[39;00m \u001b[43marr\u001b[49m\u001b[38;5;241;43m.\u001b[39;49m\u001b[43mastype\u001b[49m\u001b[43m(\u001b[49m\u001b[43mdtype\u001b[49m\u001b[43m,\u001b[49m\u001b[43m \u001b[49m\u001b[43mcopy\u001b[49m\u001b[38;5;241;43m=\u001b[39;49m\u001b[38;5;28;43;01mTrue\u001b[39;49;00m\u001b[43m)\u001b[49m\n\u001b[1;32m    140\u001b[0m \u001b[38;5;28;01mreturn\u001b[39;00m arr\u001b[38;5;241m.\u001b[39mastype(dtype, copy\u001b[38;5;241m=\u001b[39mcopy)\n",
      "\u001b[0;31mValueError\u001b[0m: cannot convert float NaN to integer"
     ]
    }
   ],
=======
   "execution_count": null,
   "metadata": {},
   "outputs": [],
>>>>>>> upstream/main
   "source": [
    "# Need to make our Age Number actual numbers! \n",
    "df['Age Number'].astype(int)\n",
    "# But this throws an error!"
   ]
  },
  {
   "cell_type": "markdown",
   "metadata": {},
   "source": [
<<<<<<< HEAD
    " ## ValueError: cannot convert float NaN to integer\n",
    " ## NaN, nanana, -999, are other ways to say null"
   ]
  },
  {
   "cell_type": "markdown",
   "metadata": {},
   "source": [
=======
>>>>>>> upstream/main
    "Alas! Nulls! Let's check out these null values:"
   ]
  },
  {
   "cell_type": "code",
<<<<<<< HEAD
   "execution_count": 15,
   "metadata": {},
   "outputs": [
    {
     "data": {
      "text/plain": [
       "5"
      ]
     },
     "execution_count": 15,
     "metadata": {},
     "output_type": "execute_result"
    }
   ],
=======
   "execution_count": null,
   "metadata": {},
   "outputs": [],
>>>>>>> upstream/main
   "source": [
    "# Check how many nulls we have in our original Age Upon Outcome column\n",
    "sum(df['Age upon Outcome'].isna())"
   ]
  },
  {
   "cell_type": "markdown",
   "metadata": {
    "heading_collapsed": true
   },
   "source": [
    "### Handling Missing Data"
   ]
  },
  {
   "cell_type": "markdown",
   "metadata": {
    "hidden": true
   },
   "source": [
    "A lot of the times we'll have missing information in our data set. This can sometimes be troublesome in what we're trying to do."
   ]
  },
  {
   "cell_type": "markdown",
   "metadata": {
    "hidden": true
   },
   "source": [
    "There are a few strategies we can choose from and they each have their pros/cons:\n",
    "\n",
    "- **Fill with a Relevant Value**\n",
    "    - If we know what the nulls 'should' be, easy to fill them with that value\n",
    "    - For numbers, perhaps the null indicates a 0\n",
    "    - Or, for string columns, might be easier to handle if we fill with \"Missing\" or \"Unknown\"\n",
    "- **Fill with a Reasonable Value**\n",
    "    - For numeric data, it might be acceptable to fill with a measure of central tendency (mean or median)\n",
    "    - For categorical/string data, might be acceptable to fill with the most common (mode)\n",
    "    - But beware! Filling in missing values can lead to you drawing incorrect conclusions. If most of the data from a column are missing, it's going to appear that the value you filled it in with is more common that it actually was!\n",
    "- **Specify Missing Data**\n",
    "    - If you plan to fill in missing values, it might make sense to specify that the data was originally missing by creating a new indicator column\n",
    "    - This can be helpful when you suspect that the fact the data was missing could be important for an analysis.\n",
    "- **Drop Missing Data**\n",
    "    - While you should try to keep as much relevant data as possible, sometimes the other methods don't make as much sense and it's better to remove or **drop** the missing data\n",
    "    - We typically drop missing data if very little data would be lost and/or trying to fill in the values wouldn't make sense for our use case\n",
    "\n"
   ]
  },
  {
   "cell_type": "markdown",
   "metadata": {},
   "source": [
    "So: what should we do about the missing Age upon Outcome data?\n",
    "\n",
    "<br>\n",
    "<details>\n",
    "    <summary>Possible Answer</summary>\n",
    "\n",
    "- It's probably okay to drop the missing data in this case - not very many rows with nulls in that column\n",
    "- Should look at the percentage of the total (aka what percentage of rows would be dropped) to justify this decision\n",
    "    \n",
    "    \n",
    "Note! There is a Date of Birth column that does not have any nulls! But we're specifically trying to use Age Upon Outcome here because it helps us practice some other tactics for cleaning data.\n",
    "    \n",
    "</details>\n",
    "\n"
   ]
  },
  {
   "cell_type": "code",
<<<<<<< HEAD
   "execution_count": 17,
=======
   "execution_count": null,
>>>>>>> upstream/main
   "metadata": {},
   "outputs": [],
   "source": [
    "# No matter what - better to make this change on a COPY of the dataframe\n",
    "df_clean = df.copy()"
   ]
  },
  {
   "cell_type": "code",
<<<<<<< HEAD
   "execution_count": 18,
=======
   "execution_count": null,
>>>>>>> upstream/main
   "metadata": {},
   "outputs": [],
   "source": [
    "# Code here to handle nulls\n",
    "df_clean = df_clean.dropna(subset=['Age upon Outcome'])"
   ]
  },
  {
   "cell_type": "code",
<<<<<<< HEAD
   "execution_count": 22,
   "metadata": {},
   "outputs": [
    {
     "data": {
      "text/html": [
       "<div>\n",
       "<style scoped>\n",
       "    .dataframe tbody tr th:only-of-type {\n",
       "        vertical-align: middle;\n",
       "    }\n",
       "\n",
       "    .dataframe tbody tr th {\n",
       "        vertical-align: top;\n",
       "    }\n",
       "\n",
       "    .dataframe thead th {\n",
       "        text-align: right;\n",
       "    }\n",
       "</style>\n",
       "<table border=\"1\" class=\"dataframe\">\n",
       "  <thead>\n",
       "    <tr style=\"text-align: right;\">\n",
       "      <th></th>\n",
       "      <th>Animal ID</th>\n",
       "      <th>Name</th>\n",
       "      <th>DateTime</th>\n",
       "      <th>MonthYear</th>\n",
       "      <th>Date of Birth</th>\n",
       "      <th>Outcome Type</th>\n",
       "      <th>Outcome Subtype</th>\n",
       "      <th>Animal Type</th>\n",
       "      <th>Sex upon Outcome</th>\n",
       "      <th>Age upon Outcome</th>\n",
       "      <th>Breed</th>\n",
       "      <th>Color</th>\n",
       "      <th>Age Number</th>\n",
       "      <th>Age Unit</th>\n",
       "    </tr>\n",
       "  </thead>\n",
       "  <tbody>\n",
       "    <tr>\n",
       "      <th>0</th>\n",
       "      <td>A794011</td>\n",
       "      <td>Chunk</td>\n",
       "      <td>2019-05-08 18:20:00</td>\n",
       "      <td>May 2019</td>\n",
       "      <td>2017-05-02</td>\n",
       "      <td>Rto-Adopt</td>\n",
       "      <td>NaN</td>\n",
       "      <td>Cat</td>\n",
       "      <td>Neutered Male</td>\n",
       "      <td>2 years</td>\n",
       "      <td>Domestic Shorthair Mix</td>\n",
       "      <td>Brown Tabby/White</td>\n",
       "      <td>2</td>\n",
       "      <td>years</td>\n",
       "    </tr>\n",
       "    <tr>\n",
       "      <th>1</th>\n",
       "      <td>A776359</td>\n",
       "      <td>Gizmo</td>\n",
       "      <td>2018-07-18 16:02:00</td>\n",
       "      <td>Jul 2018</td>\n",
       "      <td>2017-07-12</td>\n",
       "      <td>Adoption</td>\n",
       "      <td>NaN</td>\n",
       "      <td>Dog</td>\n",
       "      <td>Neutered Male</td>\n",
       "      <td>1 year</td>\n",
       "      <td>Chihuahua Shorthair Mix</td>\n",
       "      <td>White/Brown</td>\n",
       "      <td>1</td>\n",
       "      <td>year</td>\n",
       "    </tr>\n",
       "    <tr>\n",
       "      <th>2</th>\n",
       "      <td>A821648</td>\n",
       "      <td>NaN</td>\n",
       "      <td>2020-08-16 11:38:00</td>\n",
       "      <td>Aug 2020</td>\n",
       "      <td>2019-08-16</td>\n",
       "      <td>Euthanasia</td>\n",
       "      <td>NaN</td>\n",
       "      <td>Other</td>\n",
       "      <td>Unknown</td>\n",
       "      <td>1 year</td>\n",
       "      <td>Raccoon</td>\n",
       "      <td>Gray</td>\n",
       "      <td>1</td>\n",
       "      <td>year</td>\n",
       "    </tr>\n",
       "    <tr>\n",
       "      <th>3</th>\n",
       "      <td>A720371</td>\n",
       "      <td>Moose</td>\n",
       "      <td>2016-02-13 17:59:00</td>\n",
       "      <td>Feb 2016</td>\n",
       "      <td>2015-10-08</td>\n",
       "      <td>Adoption</td>\n",
       "      <td>NaN</td>\n",
       "      <td>Dog</td>\n",
       "      <td>Neutered Male</td>\n",
       "      <td>4 months</td>\n",
       "      <td>Anatol Shepherd/Labrador Retriever</td>\n",
       "      <td>Buff</td>\n",
       "      <td>4</td>\n",
       "      <td>months</td>\n",
       "    </tr>\n",
       "    <tr>\n",
       "      <th>4</th>\n",
       "      <td>A674754</td>\n",
       "      <td>NaN</td>\n",
       "      <td>2014-03-18 11:47:00</td>\n",
       "      <td>Mar 2014</td>\n",
       "      <td>2014-03-12</td>\n",
       "      <td>Transfer</td>\n",
       "      <td>Partner</td>\n",
       "      <td>Cat</td>\n",
       "      <td>Intact Male</td>\n",
       "      <td>6 days</td>\n",
       "      <td>Domestic Shorthair Mix</td>\n",
       "      <td>Orange Tabby</td>\n",
       "      <td>6</td>\n",
       "      <td>days</td>\n",
       "    </tr>\n",
       "    <tr>\n",
       "      <th>...</th>\n",
       "      <td>...</td>\n",
       "      <td>...</td>\n",
       "      <td>...</td>\n",
       "      <td>...</td>\n",
       "      <td>...</td>\n",
       "      <td>...</td>\n",
       "      <td>...</td>\n",
       "      <td>...</td>\n",
       "      <td>...</td>\n",
       "      <td>...</td>\n",
       "      <td>...</td>\n",
       "      <td>...</td>\n",
       "      <td>...</td>\n",
       "      <td>...</td>\n",
       "    </tr>\n",
       "    <tr>\n",
       "      <th>137092</th>\n",
       "      <td>A850166</td>\n",
       "      <td>Rainey</td>\n",
       "      <td>2022-01-24 18:20:00</td>\n",
       "      <td>Jan 2022</td>\n",
       "      <td>2021-11-19</td>\n",
       "      <td>Adoption</td>\n",
       "      <td>NaN</td>\n",
       "      <td>Cat</td>\n",
       "      <td>Intact Male</td>\n",
       "      <td>2 months</td>\n",
       "      <td>Siamese</td>\n",
       "      <td>Seal Point</td>\n",
       "      <td>2</td>\n",
       "      <td>months</td>\n",
       "    </tr>\n",
       "    <tr>\n",
       "      <th>137093</th>\n",
       "      <td>A852031</td>\n",
       "      <td>Noodle</td>\n",
       "      <td>2022-02-28 12:50:00</td>\n",
       "      <td>Feb 2022</td>\n",
       "      <td>2020-02-23</td>\n",
       "      <td>Transfer</td>\n",
       "      <td>Partner</td>\n",
       "      <td>Dog</td>\n",
       "      <td>Neutered Male</td>\n",
       "      <td>2 years</td>\n",
       "      <td>Pomeranian/Chihuahua Longhair</td>\n",
       "      <td>Buff</td>\n",
       "      <td>2</td>\n",
       "      <td>years</td>\n",
       "    </tr>\n",
       "    <tr>\n",
       "      <th>137094</th>\n",
       "      <td>A845839</td>\n",
       "      <td>*Carmen</td>\n",
       "      <td>2022-02-28 13:49:00</td>\n",
       "      <td>Feb 2022</td>\n",
       "      <td>2020-05-05</td>\n",
       "      <td>Adoption</td>\n",
       "      <td>Foster</td>\n",
       "      <td>Dog</td>\n",
       "      <td>Spayed Female</td>\n",
       "      <td>1 year</td>\n",
       "      <td>Pit Bull Mix</td>\n",
       "      <td>Brown</td>\n",
       "      <td>1</td>\n",
       "      <td>year</td>\n",
       "    </tr>\n",
       "    <tr>\n",
       "      <th>137095</th>\n",
       "      <td>A844321</td>\n",
       "      <td>Mia Marie</td>\n",
       "      <td>2022-02-28 13:04:00</td>\n",
       "      <td>Feb 2022</td>\n",
       "      <td>2013-10-15</td>\n",
       "      <td>Adoption</td>\n",
       "      <td>Foster</td>\n",
       "      <td>Dog</td>\n",
       "      <td>Spayed Female</td>\n",
       "      <td>8 years</td>\n",
       "      <td>Pit Bull</td>\n",
       "      <td>Black/White</td>\n",
       "      <td>8</td>\n",
       "      <td>years</td>\n",
       "    </tr>\n",
       "    <tr>\n",
       "      <th>137096</th>\n",
       "      <td>A813933</td>\n",
       "      <td>Lucille</td>\n",
       "      <td>2022-02-28 14:19:00</td>\n",
       "      <td>Feb 2022</td>\n",
       "      <td>2018-12-21</td>\n",
       "      <td>Adoption</td>\n",
       "      <td>NaN</td>\n",
       "      <td>Dog</td>\n",
       "      <td>Spayed Female</td>\n",
       "      <td>3 years</td>\n",
       "      <td>Belgian Malinois</td>\n",
       "      <td>Brown/Black</td>\n",
       "      <td>3</td>\n",
       "      <td>years</td>\n",
       "    </tr>\n",
       "  </tbody>\n",
       "</table>\n",
       "<p>137092 rows × 14 columns</p>\n",
       "</div>"
      ],
      "text/plain": [
       "       Animal ID       Name            DateTime MonthYear Date of Birth   \n",
       "0        A794011      Chunk 2019-05-08 18:20:00  May 2019    2017-05-02  \\\n",
       "1        A776359      Gizmo 2018-07-18 16:02:00  Jul 2018    2017-07-12   \n",
       "2        A821648        NaN 2020-08-16 11:38:00  Aug 2020    2019-08-16   \n",
       "3        A720371      Moose 2016-02-13 17:59:00  Feb 2016    2015-10-08   \n",
       "4        A674754        NaN 2014-03-18 11:47:00  Mar 2014    2014-03-12   \n",
       "...          ...        ...                 ...       ...           ...   \n",
       "137092   A850166     Rainey 2022-01-24 18:20:00  Jan 2022    2021-11-19   \n",
       "137093   A852031     Noodle 2022-02-28 12:50:00  Feb 2022    2020-02-23   \n",
       "137094   A845839    *Carmen 2022-02-28 13:49:00  Feb 2022    2020-05-05   \n",
       "137095   A844321  Mia Marie 2022-02-28 13:04:00  Feb 2022    2013-10-15   \n",
       "137096   A813933    Lucille 2022-02-28 14:19:00  Feb 2022    2018-12-21   \n",
       "\n",
       "       Outcome Type Outcome Subtype Animal Type Sex upon Outcome   \n",
       "0         Rto-Adopt             NaN         Cat    Neutered Male  \\\n",
       "1          Adoption             NaN         Dog    Neutered Male   \n",
       "2        Euthanasia             NaN       Other          Unknown   \n",
       "3          Adoption             NaN         Dog    Neutered Male   \n",
       "4          Transfer         Partner         Cat      Intact Male   \n",
       "...             ...             ...         ...              ...   \n",
       "137092     Adoption             NaN         Cat      Intact Male   \n",
       "137093     Transfer         Partner         Dog    Neutered Male   \n",
       "137094     Adoption          Foster         Dog    Spayed Female   \n",
       "137095     Adoption          Foster         Dog    Spayed Female   \n",
       "137096     Adoption             NaN         Dog    Spayed Female   \n",
       "\n",
       "       Age upon Outcome                               Breed   \n",
       "0               2 years              Domestic Shorthair Mix  \\\n",
       "1                1 year             Chihuahua Shorthair Mix   \n",
       "2                1 year                             Raccoon   \n",
       "3              4 months  Anatol Shepherd/Labrador Retriever   \n",
       "4                6 days              Domestic Shorthair Mix   \n",
       "...                 ...                                 ...   \n",
       "137092         2 months                             Siamese   \n",
       "137093          2 years       Pomeranian/Chihuahua Longhair   \n",
       "137094           1 year                        Pit Bull Mix   \n",
       "137095          8 years                            Pit Bull   \n",
       "137096          3 years                    Belgian Malinois   \n",
       "\n",
       "                    Color  Age Number Age Unit  \n",
       "0       Brown Tabby/White           2    years  \n",
       "1             White/Brown           1     year  \n",
       "2                    Gray           1     year  \n",
       "3                    Buff           4   months  \n",
       "4            Orange Tabby           6     days  \n",
       "...                   ...         ...      ...  \n",
       "137092         Seal Point           2   months  \n",
       "137093               Buff           2    years  \n",
       "137094              Brown           1     year  \n",
       "137095        Black/White           8    years  \n",
       "137096        Brown/Black           3    years  \n",
       "\n",
       "[137092 rows x 14 columns]"
      ]
     },
     "execution_count": 22,
     "metadata": {},
     "output_type": "execute_result"
    }
   ],
   "source": [
    "df_clean"
   ]
  },
  {
   "cell_type": "code",
   "execution_count": 19,
   "metadata": {},
   "outputs": [
    {
     "data": {
      "text/plain": [
       "Animal ID               0\n",
       "Name                40999\n",
       "DateTime                0\n",
       "MonthYear               0\n",
       "Date of Birth           0\n",
       "Outcome Type           23\n",
       "Outcome Subtype     74443\n",
       "Animal Type             0\n",
       "Sex upon Outcome        1\n",
       "Age upon Outcome        0\n",
       "Breed                   0\n",
       "Color                   0\n",
       "Age Number              0\n",
       "Age Unit                0\n",
       "dtype: int64"
      ]
     },
     "execution_count": 19,
     "metadata": {},
     "output_type": "execute_result"
    }
   ],
=======
   "execution_count": null,
   "metadata": {},
   "outputs": [],
>>>>>>> upstream/main
   "source": [
    "# Sanity check\n",
    "df_clean.isna().sum()"
   ]
  },
  {
   "cell_type": "code",
<<<<<<< HEAD
   "execution_count": 20,
=======
   "execution_count": null,
>>>>>>> upstream/main
   "metadata": {},
   "outputs": [],
   "source": [
    "# Cool - now we can make our Age Number column an integer\n",
    "df_clean['Age Number'] = df_clean['Age Number'].astype(int)"
   ]
  },
  {
   "cell_type": "code",
<<<<<<< HEAD
   "execution_count": 21,
   "metadata": {},
   "outputs": [
    {
     "name": "stdout",
     "output_type": "stream",
     "text": [
      "<class 'pandas.core.frame.DataFrame'>\n",
      "Index: 137092 entries, 0 to 137096\n",
      "Data columns (total 14 columns):\n",
      " #   Column            Non-Null Count   Dtype         \n",
      "---  ------            --------------   -----         \n",
      " 0   Animal ID         137092 non-null  object        \n",
      " 1   Name              96093 non-null   object        \n",
      " 2   DateTime          137092 non-null  datetime64[ns]\n",
      " 3   MonthYear         137092 non-null  object        \n",
      " 4   Date of Birth     137092 non-null  datetime64[ns]\n",
      " 5   Outcome Type      137069 non-null  object        \n",
      " 6   Outcome Subtype   62649 non-null   object        \n",
      " 7   Animal Type       137092 non-null  object        \n",
      " 8   Sex upon Outcome  137091 non-null  object        \n",
      " 9   Age upon Outcome  137092 non-null  object        \n",
      " 10  Breed             137092 non-null  object        \n",
      " 11  Color             137092 non-null  object        \n",
      " 12  Age Number        137092 non-null  int64         \n",
      " 13  Age Unit          137092 non-null  object        \n",
      "dtypes: datetime64[ns](2), int64(1), object(11)\n",
      "memory usage: 15.7+ MB\n"
     ]
    }
   ],
=======
   "execution_count": null,
   "metadata": {},
   "outputs": [],
>>>>>>> upstream/main
   "source": [
    "# Sanity check\n",
    "df_clean.info()"
   ]
  },
  {
   "cell_type": "markdown",
   "metadata": {},
   "source": [
    "Now let's do something about those Age Values..."
   ]
  },
  {
   "cell_type": "markdown",
   "metadata": {
    "heading_collapsed": true,
    "hidden": true
   },
   "source": [
    "### Map, Apply and Applymap"
   ]
  },
  {
   "cell_type": "markdown",
   "metadata": {
    "hidden": true
   },
   "source": [
    "Resource: https://www.geeksforgeeks.org/difference-between-map-applymap-and-apply-methods-in-pandas/\n",
    "\n",
    "The `.map()` method applies a transformation to every entry in the Series. This transformation  \"maps\" each value from the Series to a new value. A transformation can be defined by a function, Series, or dictionary.\n",
    "\n",
    "The `.apply()` method is similar to the `.map()` method for Series, but can only take in functions. \n",
    "\n",
    "The `.applymap()` method only works on DataFrames, and applies the same transformation to every element (cell) of that DataFrame."
   ]
  },
  {
   "cell_type": "code",
<<<<<<< HEAD
   "execution_count": 23,
=======
   "execution_count": null,
>>>>>>> upstream/main
   "metadata": {},
   "outputs": [],
   "source": [
    "# Providing this dictionary to capture age values in # days (not perfect)\n",
    "age_vals = {\n",
    "    'years': 365,\n",
    "    'year': 365,\n",
    "    'months': 30,\n",
    "    'month': 30,\n",
    "    'weeks': 7,\n",
    "    'week': 7,\n",
    "    'days': 1,\n",
    "    'day': 1\n",
    "}"
   ]
  },
  {
   "cell_type": "code",
<<<<<<< HEAD
   "execution_count": 24,
=======
   "execution_count": null,
>>>>>>> upstream/main
   "metadata": {},
   "outputs": [],
   "source": [
    "# Now, how can we transform the Age Value column to capture these values?\n",
    "df_clean['Age Unit'] = df_clean['Age Unit'].map(age_vals)"
   ]
  },
  {
   "cell_type": "code",
<<<<<<< HEAD
   "execution_count": 25,
   "metadata": {},
   "outputs": [
    {
     "data": {
      "text/html": [
       "<div>\n",
       "<style scoped>\n",
       "    .dataframe tbody tr th:only-of-type {\n",
       "        vertical-align: middle;\n",
       "    }\n",
       "\n",
       "    .dataframe tbody tr th {\n",
       "        vertical-align: top;\n",
       "    }\n",
       "\n",
       "    .dataframe thead th {\n",
       "        text-align: right;\n",
       "    }\n",
       "</style>\n",
       "<table border=\"1\" class=\"dataframe\">\n",
       "  <thead>\n",
       "    <tr style=\"text-align: right;\">\n",
       "      <th></th>\n",
       "      <th>Animal ID</th>\n",
       "      <th>Name</th>\n",
       "      <th>DateTime</th>\n",
       "      <th>MonthYear</th>\n",
       "      <th>Date of Birth</th>\n",
       "      <th>Outcome Type</th>\n",
       "      <th>Outcome Subtype</th>\n",
       "      <th>Animal Type</th>\n",
       "      <th>Sex upon Outcome</th>\n",
       "      <th>Age upon Outcome</th>\n",
       "      <th>Breed</th>\n",
       "      <th>Color</th>\n",
       "      <th>Age Number</th>\n",
       "      <th>Age Unit</th>\n",
       "    </tr>\n",
       "  </thead>\n",
       "  <tbody>\n",
       "    <tr>\n",
       "      <th>0</th>\n",
       "      <td>A794011</td>\n",
       "      <td>Chunk</td>\n",
       "      <td>2019-05-08 18:20:00</td>\n",
       "      <td>May 2019</td>\n",
       "      <td>2017-05-02</td>\n",
       "      <td>Rto-Adopt</td>\n",
       "      <td>NaN</td>\n",
       "      <td>Cat</td>\n",
       "      <td>Neutered Male</td>\n",
       "      <td>2 years</td>\n",
       "      <td>Domestic Shorthair Mix</td>\n",
       "      <td>Brown Tabby/White</td>\n",
       "      <td>2</td>\n",
       "      <td>365</td>\n",
       "    </tr>\n",
       "    <tr>\n",
       "      <th>1</th>\n",
       "      <td>A776359</td>\n",
       "      <td>Gizmo</td>\n",
       "      <td>2018-07-18 16:02:00</td>\n",
       "      <td>Jul 2018</td>\n",
       "      <td>2017-07-12</td>\n",
       "      <td>Adoption</td>\n",
       "      <td>NaN</td>\n",
       "      <td>Dog</td>\n",
       "      <td>Neutered Male</td>\n",
       "      <td>1 year</td>\n",
       "      <td>Chihuahua Shorthair Mix</td>\n",
       "      <td>White/Brown</td>\n",
       "      <td>1</td>\n",
       "      <td>365</td>\n",
       "    </tr>\n",
       "    <tr>\n",
       "      <th>2</th>\n",
       "      <td>A821648</td>\n",
       "      <td>NaN</td>\n",
       "      <td>2020-08-16 11:38:00</td>\n",
       "      <td>Aug 2020</td>\n",
       "      <td>2019-08-16</td>\n",
       "      <td>Euthanasia</td>\n",
       "      <td>NaN</td>\n",
       "      <td>Other</td>\n",
       "      <td>Unknown</td>\n",
       "      <td>1 year</td>\n",
       "      <td>Raccoon</td>\n",
       "      <td>Gray</td>\n",
       "      <td>1</td>\n",
       "      <td>365</td>\n",
       "    </tr>\n",
       "    <tr>\n",
       "      <th>3</th>\n",
       "      <td>A720371</td>\n",
       "      <td>Moose</td>\n",
       "      <td>2016-02-13 17:59:00</td>\n",
       "      <td>Feb 2016</td>\n",
       "      <td>2015-10-08</td>\n",
       "      <td>Adoption</td>\n",
       "      <td>NaN</td>\n",
       "      <td>Dog</td>\n",
       "      <td>Neutered Male</td>\n",
       "      <td>4 months</td>\n",
       "      <td>Anatol Shepherd/Labrador Retriever</td>\n",
       "      <td>Buff</td>\n",
       "      <td>4</td>\n",
       "      <td>30</td>\n",
       "    </tr>\n",
       "    <tr>\n",
       "      <th>4</th>\n",
       "      <td>A674754</td>\n",
       "      <td>NaN</td>\n",
       "      <td>2014-03-18 11:47:00</td>\n",
       "      <td>Mar 2014</td>\n",
       "      <td>2014-03-12</td>\n",
       "      <td>Transfer</td>\n",
       "      <td>Partner</td>\n",
       "      <td>Cat</td>\n",
       "      <td>Intact Male</td>\n",
       "      <td>6 days</td>\n",
       "      <td>Domestic Shorthair Mix</td>\n",
       "      <td>Orange Tabby</td>\n",
       "      <td>6</td>\n",
       "      <td>1</td>\n",
       "    </tr>\n",
       "  </tbody>\n",
       "</table>\n",
       "</div>"
      ],
      "text/plain": [
       "  Animal ID   Name            DateTime MonthYear Date of Birth Outcome Type   \n",
       "0   A794011  Chunk 2019-05-08 18:20:00  May 2019    2017-05-02    Rto-Adopt  \\\n",
       "1   A776359  Gizmo 2018-07-18 16:02:00  Jul 2018    2017-07-12     Adoption   \n",
       "2   A821648    NaN 2020-08-16 11:38:00  Aug 2020    2019-08-16   Euthanasia   \n",
       "3   A720371  Moose 2016-02-13 17:59:00  Feb 2016    2015-10-08     Adoption   \n",
       "4   A674754    NaN 2014-03-18 11:47:00  Mar 2014    2014-03-12     Transfer   \n",
       "\n",
       "  Outcome Subtype Animal Type Sex upon Outcome Age upon Outcome   \n",
       "0             NaN         Cat    Neutered Male          2 years  \\\n",
       "1             NaN         Dog    Neutered Male           1 year   \n",
       "2             NaN       Other          Unknown           1 year   \n",
       "3             NaN         Dog    Neutered Male         4 months   \n",
       "4         Partner         Cat      Intact Male           6 days   \n",
       "\n",
       "                                Breed              Color  Age Number  Age Unit  \n",
       "0              Domestic Shorthair Mix  Brown Tabby/White           2       365  \n",
       "1             Chihuahua Shorthair Mix        White/Brown           1       365  \n",
       "2                             Raccoon               Gray           1       365  \n",
       "3  Anatol Shepherd/Labrador Retriever               Buff           4        30  \n",
       "4              Domestic Shorthair Mix       Orange Tabby           6         1  "
      ]
     },
     "execution_count": 25,
     "metadata": {},
     "output_type": "execute_result"
    }
   ],
=======
   "execution_count": null,
   "metadata": {},
   "outputs": [],
>>>>>>> upstream/main
   "source": [
    "# Sanity check\n",
    "df_clean.head()"
   ]
  },
  {
   "cell_type": "code",
<<<<<<< HEAD
   "execution_count": 26,
=======
   "execution_count": null,
>>>>>>> upstream/main
   "metadata": {},
   "outputs": [],
   "source": [
    "# Now, let's make a new Age in Days column!\n",
    "df_clean['Age in Days'] = (df_clean['Age Number'] * df_clean['Age Unit'])"
   ]
  },
  {
   "cell_type": "code",
<<<<<<< HEAD
   "execution_count": 27,
   "metadata": {},
   "outputs": [
    {
     "data": {
      "text/html": [
       "<div>\n",
       "<style scoped>\n",
       "    .dataframe tbody tr th:only-of-type {\n",
       "        vertical-align: middle;\n",
       "    }\n",
       "\n",
       "    .dataframe tbody tr th {\n",
       "        vertical-align: top;\n",
       "    }\n",
       "\n",
       "    .dataframe thead th {\n",
       "        text-align: right;\n",
       "    }\n",
       "</style>\n",
       "<table border=\"1\" class=\"dataframe\">\n",
       "  <thead>\n",
       "    <tr style=\"text-align: right;\">\n",
       "      <th></th>\n",
       "      <th>Animal ID</th>\n",
       "      <th>Name</th>\n",
       "      <th>DateTime</th>\n",
       "      <th>MonthYear</th>\n",
       "      <th>Date of Birth</th>\n",
       "      <th>Outcome Type</th>\n",
       "      <th>Outcome Subtype</th>\n",
       "      <th>Animal Type</th>\n",
       "      <th>Sex upon Outcome</th>\n",
       "      <th>Age upon Outcome</th>\n",
       "      <th>Breed</th>\n",
       "      <th>Color</th>\n",
       "      <th>Age Number</th>\n",
       "      <th>Age Unit</th>\n",
       "      <th>Age in Days</th>\n",
       "    </tr>\n",
       "  </thead>\n",
       "  <tbody>\n",
       "    <tr>\n",
       "      <th>0</th>\n",
       "      <td>A794011</td>\n",
       "      <td>Chunk</td>\n",
       "      <td>2019-05-08 18:20:00</td>\n",
       "      <td>May 2019</td>\n",
       "      <td>2017-05-02</td>\n",
       "      <td>Rto-Adopt</td>\n",
       "      <td>NaN</td>\n",
       "      <td>Cat</td>\n",
       "      <td>Neutered Male</td>\n",
       "      <td>2 years</td>\n",
       "      <td>Domestic Shorthair Mix</td>\n",
       "      <td>Brown Tabby/White</td>\n",
       "      <td>2</td>\n",
       "      <td>365</td>\n",
       "      <td>730</td>\n",
       "    </tr>\n",
       "    <tr>\n",
       "      <th>1</th>\n",
       "      <td>A776359</td>\n",
       "      <td>Gizmo</td>\n",
       "      <td>2018-07-18 16:02:00</td>\n",
       "      <td>Jul 2018</td>\n",
       "      <td>2017-07-12</td>\n",
       "      <td>Adoption</td>\n",
       "      <td>NaN</td>\n",
       "      <td>Dog</td>\n",
       "      <td>Neutered Male</td>\n",
       "      <td>1 year</td>\n",
       "      <td>Chihuahua Shorthair Mix</td>\n",
       "      <td>White/Brown</td>\n",
       "      <td>1</td>\n",
       "      <td>365</td>\n",
       "      <td>365</td>\n",
       "    </tr>\n",
       "    <tr>\n",
       "      <th>2</th>\n",
       "      <td>A821648</td>\n",
       "      <td>NaN</td>\n",
       "      <td>2020-08-16 11:38:00</td>\n",
       "      <td>Aug 2020</td>\n",
       "      <td>2019-08-16</td>\n",
       "      <td>Euthanasia</td>\n",
       "      <td>NaN</td>\n",
       "      <td>Other</td>\n",
       "      <td>Unknown</td>\n",
       "      <td>1 year</td>\n",
       "      <td>Raccoon</td>\n",
       "      <td>Gray</td>\n",
       "      <td>1</td>\n",
       "      <td>365</td>\n",
       "      <td>365</td>\n",
       "    </tr>\n",
       "    <tr>\n",
       "      <th>3</th>\n",
       "      <td>A720371</td>\n",
       "      <td>Moose</td>\n",
       "      <td>2016-02-13 17:59:00</td>\n",
       "      <td>Feb 2016</td>\n",
       "      <td>2015-10-08</td>\n",
       "      <td>Adoption</td>\n",
       "      <td>NaN</td>\n",
       "      <td>Dog</td>\n",
       "      <td>Neutered Male</td>\n",
       "      <td>4 months</td>\n",
       "      <td>Anatol Shepherd/Labrador Retriever</td>\n",
       "      <td>Buff</td>\n",
       "      <td>4</td>\n",
       "      <td>30</td>\n",
       "      <td>120</td>\n",
       "    </tr>\n",
       "    <tr>\n",
       "      <th>4</th>\n",
       "      <td>A674754</td>\n",
       "      <td>NaN</td>\n",
       "      <td>2014-03-18 11:47:00</td>\n",
       "      <td>Mar 2014</td>\n",
       "      <td>2014-03-12</td>\n",
       "      <td>Transfer</td>\n",
       "      <td>Partner</td>\n",
       "      <td>Cat</td>\n",
       "      <td>Intact Male</td>\n",
       "      <td>6 days</td>\n",
       "      <td>Domestic Shorthair Mix</td>\n",
       "      <td>Orange Tabby</td>\n",
       "      <td>6</td>\n",
       "      <td>1</td>\n",
       "      <td>6</td>\n",
       "    </tr>\n",
       "  </tbody>\n",
       "</table>\n",
       "</div>"
      ],
      "text/plain": [
       "  Animal ID   Name            DateTime MonthYear Date of Birth Outcome Type   \n",
       "0   A794011  Chunk 2019-05-08 18:20:00  May 2019    2017-05-02    Rto-Adopt  \\\n",
       "1   A776359  Gizmo 2018-07-18 16:02:00  Jul 2018    2017-07-12     Adoption   \n",
       "2   A821648    NaN 2020-08-16 11:38:00  Aug 2020    2019-08-16   Euthanasia   \n",
       "3   A720371  Moose 2016-02-13 17:59:00  Feb 2016    2015-10-08     Adoption   \n",
       "4   A674754    NaN 2014-03-18 11:47:00  Mar 2014    2014-03-12     Transfer   \n",
       "\n",
       "  Outcome Subtype Animal Type Sex upon Outcome Age upon Outcome   \n",
       "0             NaN         Cat    Neutered Male          2 years  \\\n",
       "1             NaN         Dog    Neutered Male           1 year   \n",
       "2             NaN       Other          Unknown           1 year   \n",
       "3             NaN         Dog    Neutered Male         4 months   \n",
       "4         Partner         Cat      Intact Male           6 days   \n",
       "\n",
       "                                Breed              Color  Age Number   \n",
       "0              Domestic Shorthair Mix  Brown Tabby/White           2  \\\n",
       "1             Chihuahua Shorthair Mix        White/Brown           1   \n",
       "2                             Raccoon               Gray           1   \n",
       "3  Anatol Shepherd/Labrador Retriever               Buff           4   \n",
       "4              Domestic Shorthair Mix       Orange Tabby           6   \n",
       "\n",
       "   Age Unit  Age in Days  \n",
       "0       365          730  \n",
       "1       365          365  \n",
       "2       365          365  \n",
       "3        30          120  \n",
       "4         1            6  "
      ]
     },
     "execution_count": 27,
     "metadata": {},
     "output_type": "execute_result"
    }
   ],
=======
   "execution_count": null,
   "metadata": {},
   "outputs": [],
>>>>>>> upstream/main
   "source": [
    "# Sanity check\n",
    "df_clean.head()"
   ]
  },
  {
   "cell_type": "code",
<<<<<<< HEAD
   "execution_count": 28,
   "metadata": {},
   "outputs": [
    {
     "data": {
      "image/png": "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",
      "text/plain": [
       "<Figure size 640x480 with 1 Axes>"
      ]
     },
     "metadata": {},
     "output_type": "display_data"
    }
   ],
=======
   "execution_count": null,
   "metadata": {},
   "outputs": [],
>>>>>>> upstream/main
   "source": [
    "# Now we can visualize!\n",
    "df_clean['Age in Days'].plot(kind='hist');"
   ]
  },
  {
   "cell_type": "code",
<<<<<<< HEAD
   "execution_count": 29,
=======
   "execution_count": null,
>>>>>>> upstream/main
   "metadata": {},
   "outputs": [],
   "source": [
    "# Of course, we could also try...\n",
    "# Use .dt.normalize on the DateTime column to access the date!\n",
    "df_clean['Calculated Age in Days'] = df_clean['DateTime'].dt.normalize() - df_clean['Date of Birth']"
   ]
  },
  {
   "cell_type": "code",
<<<<<<< HEAD
   "execution_count": 30,
   "metadata": {},
   "outputs": [
    {
     "data": {
      "text/html": [
       "<div>\n",
       "<style scoped>\n",
       "    .dataframe tbody tr th:only-of-type {\n",
       "        vertical-align: middle;\n",
       "    }\n",
       "\n",
       "    .dataframe tbody tr th {\n",
       "        vertical-align: top;\n",
       "    }\n",
       "\n",
       "    .dataframe thead th {\n",
       "        text-align: right;\n",
       "    }\n",
       "</style>\n",
       "<table border=\"1\" class=\"dataframe\">\n",
       "  <thead>\n",
       "    <tr style=\"text-align: right;\">\n",
       "      <th></th>\n",
       "      <th>Animal ID</th>\n",
       "      <th>Name</th>\n",
       "      <th>DateTime</th>\n",
       "      <th>MonthYear</th>\n",
       "      <th>Date of Birth</th>\n",
       "      <th>Outcome Type</th>\n",
       "      <th>Outcome Subtype</th>\n",
       "      <th>Animal Type</th>\n",
       "      <th>Sex upon Outcome</th>\n",
       "      <th>Age upon Outcome</th>\n",
       "      <th>Breed</th>\n",
       "      <th>Color</th>\n",
       "      <th>Age Number</th>\n",
       "      <th>Age Unit</th>\n",
       "      <th>Age in Days</th>\n",
       "      <th>Calculated Age in Days</th>\n",
       "    </tr>\n",
       "  </thead>\n",
       "  <tbody>\n",
       "    <tr>\n",
       "      <th>0</th>\n",
       "      <td>A794011</td>\n",
       "      <td>Chunk</td>\n",
       "      <td>2019-05-08 18:20:00</td>\n",
       "      <td>May 2019</td>\n",
       "      <td>2017-05-02</td>\n",
       "      <td>Rto-Adopt</td>\n",
       "      <td>NaN</td>\n",
       "      <td>Cat</td>\n",
       "      <td>Neutered Male</td>\n",
       "      <td>2 years</td>\n",
       "      <td>Domestic Shorthair Mix</td>\n",
       "      <td>Brown Tabby/White</td>\n",
       "      <td>2</td>\n",
       "      <td>365</td>\n",
       "      <td>730</td>\n",
       "      <td>736 days</td>\n",
       "    </tr>\n",
       "    <tr>\n",
       "      <th>1</th>\n",
       "      <td>A776359</td>\n",
       "      <td>Gizmo</td>\n",
       "      <td>2018-07-18 16:02:00</td>\n",
       "      <td>Jul 2018</td>\n",
       "      <td>2017-07-12</td>\n",
       "      <td>Adoption</td>\n",
       "      <td>NaN</td>\n",
       "      <td>Dog</td>\n",
       "      <td>Neutered Male</td>\n",
       "      <td>1 year</td>\n",
       "      <td>Chihuahua Shorthair Mix</td>\n",
       "      <td>White/Brown</td>\n",
       "      <td>1</td>\n",
       "      <td>365</td>\n",
       "      <td>365</td>\n",
       "      <td>371 days</td>\n",
       "    </tr>\n",
       "    <tr>\n",
       "      <th>2</th>\n",
       "      <td>A821648</td>\n",
       "      <td>NaN</td>\n",
       "      <td>2020-08-16 11:38:00</td>\n",
       "      <td>Aug 2020</td>\n",
       "      <td>2019-08-16</td>\n",
       "      <td>Euthanasia</td>\n",
       "      <td>NaN</td>\n",
       "      <td>Other</td>\n",
       "      <td>Unknown</td>\n",
       "      <td>1 year</td>\n",
       "      <td>Raccoon</td>\n",
       "      <td>Gray</td>\n",
       "      <td>1</td>\n",
       "      <td>365</td>\n",
       "      <td>365</td>\n",
       "      <td>366 days</td>\n",
       "    </tr>\n",
       "    <tr>\n",
       "      <th>3</th>\n",
       "      <td>A720371</td>\n",
       "      <td>Moose</td>\n",
       "      <td>2016-02-13 17:59:00</td>\n",
       "      <td>Feb 2016</td>\n",
       "      <td>2015-10-08</td>\n",
       "      <td>Adoption</td>\n",
       "      <td>NaN</td>\n",
       "      <td>Dog</td>\n",
       "      <td>Neutered Male</td>\n",
       "      <td>4 months</td>\n",
       "      <td>Anatol Shepherd/Labrador Retriever</td>\n",
       "      <td>Buff</td>\n",
       "      <td>4</td>\n",
       "      <td>30</td>\n",
       "      <td>120</td>\n",
       "      <td>128 days</td>\n",
       "    </tr>\n",
       "    <tr>\n",
       "      <th>4</th>\n",
       "      <td>A674754</td>\n",
       "      <td>NaN</td>\n",
       "      <td>2014-03-18 11:47:00</td>\n",
       "      <td>Mar 2014</td>\n",
       "      <td>2014-03-12</td>\n",
       "      <td>Transfer</td>\n",
       "      <td>Partner</td>\n",
       "      <td>Cat</td>\n",
       "      <td>Intact Male</td>\n",
       "      <td>6 days</td>\n",
       "      <td>Domestic Shorthair Mix</td>\n",
       "      <td>Orange Tabby</td>\n",
       "      <td>6</td>\n",
       "      <td>1</td>\n",
       "      <td>6</td>\n",
       "      <td>6 days</td>\n",
       "    </tr>\n",
       "  </tbody>\n",
       "</table>\n",
       "</div>"
      ],
      "text/plain": [
       "  Animal ID   Name            DateTime MonthYear Date of Birth Outcome Type   \n",
       "0   A794011  Chunk 2019-05-08 18:20:00  May 2019    2017-05-02    Rto-Adopt  \\\n",
       "1   A776359  Gizmo 2018-07-18 16:02:00  Jul 2018    2017-07-12     Adoption   \n",
       "2   A821648    NaN 2020-08-16 11:38:00  Aug 2020    2019-08-16   Euthanasia   \n",
       "3   A720371  Moose 2016-02-13 17:59:00  Feb 2016    2015-10-08     Adoption   \n",
       "4   A674754    NaN 2014-03-18 11:47:00  Mar 2014    2014-03-12     Transfer   \n",
       "\n",
       "  Outcome Subtype Animal Type Sex upon Outcome Age upon Outcome   \n",
       "0             NaN         Cat    Neutered Male          2 years  \\\n",
       "1             NaN         Dog    Neutered Male           1 year   \n",
       "2             NaN       Other          Unknown           1 year   \n",
       "3             NaN         Dog    Neutered Male         4 months   \n",
       "4         Partner         Cat      Intact Male           6 days   \n",
       "\n",
       "                                Breed              Color  Age Number   \n",
       "0              Domestic Shorthair Mix  Brown Tabby/White           2  \\\n",
       "1             Chihuahua Shorthair Mix        White/Brown           1   \n",
       "2                             Raccoon               Gray           1   \n",
       "3  Anatol Shepherd/Labrador Retriever               Buff           4   \n",
       "4              Domestic Shorthair Mix       Orange Tabby           6   \n",
       "\n",
       "   Age Unit  Age in Days Calculated Age in Days  \n",
       "0       365          730               736 days  \n",
       "1       365          365               371 days  \n",
       "2       365          365               366 days  \n",
       "3        30          120               128 days  \n",
       "4         1            6                 6 days  "
      ]
     },
     "execution_count": 30,
     "metadata": {},
     "output_type": "execute_result"
    }
   ],
=======
   "execution_count": null,
   "metadata": {},
   "outputs": [],
>>>>>>> upstream/main
   "source": [
    "# Check it\n",
    "df_clean.head()"
   ]
  },
  {
   "cell_type": "markdown",
   "metadata": {
    "heading_collapsed": true,
    "hidden": true
   },
   "source": [
    "## Question 2: Are Most of The Animals Already Fixed?"
   ]
  },
  {
   "cell_type": "markdown",
   "metadata": {
    "hidden": true
   },
   "source": [
    "Let's use `.map()` to turn the Sex upon Outcome column into a category with three values: Fixed, Intact, or Unknown. "
   ]
  },
  {
   "cell_type": "code",
<<<<<<< HEAD
   "execution_count": 31,
   "metadata": {
    "hidden": true
   },
   "outputs": [
    {
     "data": {
      "text/plain": [
       "array(['Neutered Male', 'Unknown', 'Intact Male', 'Spayed Female',\n",
       "       'Intact Female', nan], dtype=object)"
      ]
     },
     "execution_count": 31,
     "metadata": {},
     "output_type": "execute_result"
    }
   ],
=======
   "execution_count": null,
   "metadata": {
    "hidden": true
   },
   "outputs": [],
>>>>>>> upstream/main
   "source": [
    "# Check out what's currently in that column\n",
    "df_clean['Sex upon Outcome'].unique()"
   ]
  },
  {
   "cell_type": "code",
<<<<<<< HEAD
   "execution_count": 32,
=======
   "execution_count": null,
>>>>>>> upstream/main
   "metadata": {
    "hidden": true
   },
   "outputs": [],
   "source": [
    "# We can write a function for this\n",
    "def fixed_mapper(status):\n",
    "    '''\n",
    "    Takes in the current status of animals and outputs whether they have been fixed\n",
    "    '''\n",
    "    if status in ['Neutered Male', 'Spayed Female']:\n",
    "        return 'Fixed'\n",
    "    elif status in ['Intact Male', 'Intact Female']:\n",
    "        return 'Intact'\n",
    "    else:\n",
    "        return 'Unknown'"
   ]
  },
  {
   "cell_type": "code",
<<<<<<< HEAD
   "execution_count": 33,
   "metadata": {
    "hidden": true
   },
   "outputs": [
    {
     "data": {
      "text/html": [
       "<div>\n",
       "<style scoped>\n",
       "    .dataframe tbody tr th:only-of-type {\n",
       "        vertical-align: middle;\n",
       "    }\n",
       "\n",
       "    .dataframe tbody tr th {\n",
       "        vertical-align: top;\n",
       "    }\n",
       "\n",
       "    .dataframe thead th {\n",
       "        text-align: right;\n",
       "    }\n",
       "</style>\n",
       "<table border=\"1\" class=\"dataframe\">\n",
       "  <thead>\n",
       "    <tr style=\"text-align: right;\">\n",
       "      <th></th>\n",
       "      <th>Sex upon Outcome</th>\n",
       "      <th>Grouped Sex upon Outcome</th>\n",
       "    </tr>\n",
       "  </thead>\n",
       "  <tbody>\n",
       "    <tr>\n",
       "      <th>0</th>\n",
       "      <td>Neutered Male</td>\n",
       "      <td>Fixed</td>\n",
       "    </tr>\n",
       "    <tr>\n",
       "      <th>1</th>\n",
       "      <td>Neutered Male</td>\n",
       "      <td>Fixed</td>\n",
       "    </tr>\n",
       "    <tr>\n",
       "      <th>2</th>\n",
       "      <td>Unknown</td>\n",
       "      <td>Unknown</td>\n",
       "    </tr>\n",
       "    <tr>\n",
       "      <th>3</th>\n",
       "      <td>Neutered Male</td>\n",
       "      <td>Fixed</td>\n",
       "    </tr>\n",
       "    <tr>\n",
       "      <th>4</th>\n",
       "      <td>Intact Male</td>\n",
       "      <td>Intact</td>\n",
       "    </tr>\n",
       "  </tbody>\n",
       "</table>\n",
       "</div>"
      ],
      "text/plain": [
       "  Sex upon Outcome Grouped Sex upon Outcome\n",
       "0    Neutered Male                    Fixed\n",
       "1    Neutered Male                    Fixed\n",
       "2          Unknown                  Unknown\n",
       "3    Neutered Male                    Fixed\n",
       "4      Intact Male                   Intact"
      ]
     },
     "execution_count": 33,
     "metadata": {},
     "output_type": "execute_result"
    }
   ],
=======
   "execution_count": null,
   "metadata": {
    "hidden": true
   },
   "outputs": [],
>>>>>>> upstream/main
   "source": [
    "# Now let's use it!\n",
    "df_clean['Grouped Sex upon Outcome'] = df_clean['Sex upon Outcome'].map(fixed_mapper)\n",
    "df_clean[['Sex upon Outcome', 'Grouped Sex upon Outcome']].head()"
   ]
  },
  {
   "cell_type": "code",
<<<<<<< HEAD
   "execution_count": 34,
   "metadata": {},
   "outputs": [
    {
     "data": {
      "text/plain": [
       "Animal ID                       0\n",
       "Name                        40999\n",
       "DateTime                        0\n",
       "MonthYear                       0\n",
       "Date of Birth                   0\n",
       "Outcome Type                   23\n",
       "Outcome Subtype             74443\n",
       "Animal Type                     0\n",
       "Sex upon Outcome                1\n",
       "Age upon Outcome                0\n",
       "Breed                           0\n",
       "Color                           0\n",
       "Age Number                      0\n",
       "Age Unit                        0\n",
       "Age in Days                     0\n",
       "Calculated Age in Days          0\n",
       "Grouped Sex upon Outcome        0\n",
       "dtype: int64"
      ]
     },
     "execution_count": 34,
     "metadata": {},
     "output_type": "execute_result"
    }
   ],
=======
   "execution_count": null,
   "metadata": {},
   "outputs": [],
>>>>>>> upstream/main
   "source": [
    "# We had a null in that column before, did that change?\n",
    "df_clean.isna().sum()"
   ]
  },
  {
   "cell_type": "code",
<<<<<<< HEAD
   "execution_count": 35,
   "metadata": {},
   "outputs": [
    {
     "data": {
      "image/png": "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",
      "text/plain": [
       "<Figure size 640x480 with 1 Axes>"
      ]
     },
     "metadata": {},
     "output_type": "display_data"
    }
   ],
=======
   "execution_count": null,
   "metadata": {},
   "outputs": [],
>>>>>>> upstream/main
   "source": [
    "# Visualize it!\n",
    "df_clean['Grouped Sex upon Outcome'].value_counts().plot(kind='pie');"
   ]
  },
  {
   "cell_type": "code",
<<<<<<< HEAD
   "execution_count": 36,
   "metadata": {},
   "outputs": [
    {
     "data": {
      "image/png": "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",
      "text/plain": [
       "<Figure size 640x480 with 1 Axes>"
      ]
     },
     "metadata": {},
     "output_type": "display_data"
    }
   ],
=======
   "execution_count": null,
   "metadata": {},
   "outputs": [],
>>>>>>> upstream/main
   "source": [
    "df_clean['Grouped Sex upon Outcome'].value_counts().plot(kind='bar');"
   ]
  },
  {
   "cell_type": "markdown",
   "metadata": {},
   "source": [
    "## A Quick Aside - for Lambda Functions!"
   ]
  },
  {
   "cell_type": "markdown",
   "metadata": {
    "hidden": true
   },
   "source": [
    "Simple functions can be defined just when you need them, when you would call the function. These are called **lambda functions**. These functions are **anonymous** and disappear immediately after use.\n",
    "\n",
    "These can often be great as map transformation functions, but they can only do so much.\n",
    "\n",
    "Let's use them to fill some nulls!"
   ]
  },
  {
   "cell_type": "code",
<<<<<<< HEAD
   "execution_count": 37,
   "metadata": {},
   "outputs": [
    {
     "data": {
      "text/plain": [
       "Animal ID                       0\n",
       "Name                        40999\n",
       "DateTime                        0\n",
       "MonthYear                       0\n",
       "Date of Birth                   0\n",
       "Outcome Type                   23\n",
       "Outcome Subtype             74443\n",
       "Animal Type                     0\n",
       "Sex upon Outcome                1\n",
       "Age upon Outcome                0\n",
       "Breed                           0\n",
       "Color                           0\n",
       "Age Number                      0\n",
       "Age Unit                        0\n",
       "Age in Days                     0\n",
       "Calculated Age in Days          0\n",
       "Grouped Sex upon Outcome        0\n",
       "dtype: int64"
      ]
     },
     "execution_count": 37,
     "metadata": {},
     "output_type": "execute_result"
    }
   ],
=======
   "execution_count": null,
   "metadata": {},
   "outputs": [],
>>>>>>> upstream/main
   "source": [
    "# Check which columns still have null values\n",
    "df_clean.isna().sum()"
   ]
  },
  {
   "cell_type": "markdown",
   "metadata": {},
   "source": [
    "Let's look at Outcome Subtype - a lot of nulls, why do we think that is? What would be an appropriate strategy here?\n",
    "\n",
    "<br>\n",
    "<details>\n",
    "    <summary>Possible Answer</summary>\n",
    "\n",
    "- Might be that the Type doesn't have Subtypes, or that there hasn't been an outcome yet\n",
    "- Would be appropriate to fill with N/A\n",
    "    \n",
    "</details>\n",
    "\n",
    "\n",
    "\n"
   ]
  },
  {
<<<<<<< HEAD
   "cell_type": "markdown",
   "metadata": {},
   "source": [
    "## lambas are temporary functions that disappear after; opposite of defined function"
   ]
  },
  {
   "cell_type": "code",
   "execution_count": 38,
   "metadata": {},
   "outputs": [
    {
     "data": {
      "text/plain": [
       "0             N/A\n",
       "1             N/A\n",
       "2             N/A\n",
       "3             N/A\n",
       "4         Partner\n",
       "           ...   \n",
       "137092        N/A\n",
       "137093    Partner\n",
       "137094     Foster\n",
       "137095     Foster\n",
       "137096        N/A\n",
       "Name: Outcome Subtype, Length: 137092, dtype: object"
      ]
     },
     "execution_count": 38,
     "metadata": {},
     "output_type": "execute_result"
    }
   ],
   "source": [
    "# Let's try it!\n",
    "# Note: need to use x is np.nan as our if condition\n",
    "# if x is missing (aka nan aka null) then return x as \"N/A\"\n",
=======
   "cell_type": "code",
   "execution_count": null,
   "metadata": {},
   "outputs": [],
   "source": [
    "# Let's try it!\n",
    "# Note: need to use x is np.nan as our if condition\n",
>>>>>>> upstream/main
    "df_clean['Outcome Subtype'].map(lambda x: \"N/A\" if x is np.nan else x)"
   ]
  },
  {
   "cell_type": "code",
   "execution_count": null,
   "metadata": {},
   "outputs": [],
   "source": [
    "# BUT! Pandas has a function for this\n",
<<<<<<< HEAD
    "# you could akso use .fillna when working with pandas to accomplish the same thing\n",
=======
>>>>>>> upstream/main
    "df_clean['Outcome Subtype'] = df_clean['Outcome Subtype'].fillna(\"N/A\")\n",
    "df_clean['Outcome Subtype']"
   ]
  },
  {
   "cell_type": "code",
   "execution_count": null,
   "metadata": {},
   "outputs": [],
   "source": [
    "# We can use one of these methods to fill the nulls for Outcome Type too\n",
    "# Explore the column here\n",
    "df_clean['Outcome Type'].unique()"
   ]
  },
  {
   "cell_type": "code",
   "execution_count": null,
   "metadata": {},
   "outputs": [],
   "source": [
    "# Fill nulls here\n",
    "df_clean['Outcome Type'] = df_clean['Outcome Type'].fillna(\"Unknown\")"
   ]
  },
  {
   "cell_type": "code",
   "execution_count": null,
   "metadata": {},
   "outputs": [],
   "source": [
    "# Sanity Check\n",
    "df_clean.isna().sum()"
   ]
  },
  {
   "cell_type": "markdown",
   "metadata": {},
   "source": [
    "### One More Strategy: Build a Missing Indicator\n",
    "\n",
    "While this doesn't directly answer a question we have, let's go ahead and build a new column to indicate where Name is null (just to demo).\n",
    "\n",
    "This can be quite useful when modeling, if the data being missing actually means something!"
   ]
  },
  {
   "cell_type": "code",
   "execution_count": null,
   "metadata": {},
   "outputs": [],
   "source": [
    "# Quick pandas method for this\n",
    "df_clean['Name Missing'] = df_clean['Name'].isna()\n",
    "df_clean.head()"
   ]
  },
  {
   "cell_type": "markdown",
   "metadata": {},
   "source": [
    "Might be more interesting to build an indicator of where \"Mix\" is in the Breed column"
   ]
  },
  {
   "cell_type": "code",
   "execution_count": null,
   "metadata": {},
   "outputs": [],
   "source": [
    "# Let's do it\n",
    "df_clean['Mix Indicator'] = df_clean['Breed'].str.contains(\" Mix\")"
   ]
  },
  {
   "cell_type": "code",
   "execution_count": null,
   "metadata": {},
   "outputs": [],
   "source": [
    "# Sanity check\n",
    "df_clean.head()"
   ]
  },
  {
   "cell_type": "markdown",
   "metadata": {
    "heading_collapsed": true,
    "hidden": true
   },
   "source": [
    "## Comparing Before and After"
   ]
  },
  {
   "cell_type": "markdown",
   "metadata": {
    "hidden": true
   },
   "source": [
    "We can now see all the work we did!"
   ]
  },
  {
   "cell_type": "code",
   "execution_count": null,
   "metadata": {
    "hidden": true
   },
   "outputs": [],
   "source": [
    "# Original data\n",
    "df.info()"
   ]
  },
  {
   "cell_type": "code",
   "execution_count": null,
   "metadata": {
    "hidden": true,
    "scrolled": false
   },
   "outputs": [],
   "source": [
    "# Missing data cleaned\n",
    "df_clean.info()"
   ]
  },
  {
   "cell_type": "markdown",
   "metadata": {
    "heading_collapsed": true
   },
   "source": [
    "# Level Up: `.applymap()`"
   ]
  },
  {
   "cell_type": "markdown",
   "metadata": {
    "hidden": true
   },
   "source": [
    "`.applymap()` is used to apply a transformation to each element of a DataFrame."
   ]
  },
  {
   "cell_type": "code",
   "execution_count": null,
   "metadata": {
    "hidden": true,
    "scrolled": false
   },
   "outputs": [],
   "source": [
    "# This line will apply the base `type()` function to \n",
    "# all entries of the DataFrame.\n",
    "\n",
    "df.applymap(type).head()"
   ]
  },
  {
   "cell_type": "markdown",
   "metadata": {
    "heading_collapsed": true
   },
   "source": [
    "# Level Up: Faster NumPy Methods"
   ]
  },
  {
   "cell_type": "markdown",
   "metadata": {
    "hidden": true
   },
   "source": [
    "In general, `np.where()` and `np.select()` are faster than `map()`. This won't matter too much with reasonably-sized data but can be a consideration for ***big data***."
   ]
  },
  {
   "cell_type": "code",
   "execution_count": null,
   "metadata": {},
   "outputs": [],
   "source": [
    "# Let's copy the dataframe to play around with\n",
    "level_up = df_clean.copy()"
   ]
  },
  {
   "cell_type": "code",
   "execution_count": null,
   "metadata": {},
   "outputs": [],
   "source": [
    "level_up.head()"
   ]
  },
  {
   "cell_type": "markdown",
   "metadata": {
    "heading_collapsed": true,
    "hidden": true
   },
   "source": [
    "## NumPy's `where()` Method"
   ]
  },
  {
   "cell_type": "code",
   "execution_count": null,
   "metadata": {
    "hidden": true,
    "scrolled": false
   },
   "outputs": [],
   "source": [
    "# First pass a condition\n",
    "level_up['Adopted1'] = np.where(level_up['Outcome Type'] == 'Adoption',\n",
    "                                True,  # What to fill with if the condition is true\n",
    "                                False)  # What to fill with if not true\n",
    "level_up.head()"
   ]
  },
  {
   "cell_type": "code",
   "execution_count": null,
   "metadata": {},
   "outputs": [],
   "source": [
    "level_up['Adopted2'] = level_up['Outcome Type'].map(lambda x: True if x == 'Adoption' else False)\n",
    "level_up.head()"
   ]
  },
  {
   "cell_type": "code",
   "execution_count": null,
   "metadata": {
    "hidden": true,
    "scrolled": true
   },
   "outputs": [],
   "source": [
    "# Let's time how long it takes np.where() to run by running it multiple times\n",
    "%timeit np.where(level_up['Outcome Type'] == 'Adoption', True, False)"
   ]
  },
  {
   "cell_type": "code",
   "execution_count": null,
   "metadata": {},
   "outputs": [],
   "source": [
    "# Let's time how long it takes .map() to run by running it multiple times\n",
    "%timeit level_up['Outcome Type'].map(lambda x: True if x == 'Adoption' else False)"
   ]
  },
  {
   "cell_type": "markdown",
   "metadata": {
    "heading_collapsed": true,
    "hidden": true
   },
   "source": [
    "## NumPy's `select()` Method"
   ]
  },
  {
   "cell_type": "markdown",
   "metadata": {
    "hidden": true
   },
   "source": [
    "Again, `numpy` will be faster:"
   ]
  },
  {
   "cell_type": "code",
   "execution_count": null,
   "metadata": {
    "hidden": true
   },
   "outputs": [],
   "source": [
    "# Define our list of conditions\n",
    "conditions = [level_up['Sex upon Outcome'] == 'Neutered Male',\n",
    "              level_up['Sex upon Outcome'] == 'Spayed Female',\n",
    "              level_up['Sex upon Outcome'] == 'Intact Male',\n",
    "              level_up['Sex upon Outcome'] == 'Intact Female',\n",
    "              level_up['Sex upon Outcome'] == 'Unknown',\n",
    "              level_up['Sex upon Outcome'].isna()]\n",
    "\n",
    "# Define a matching list of outcomes\n",
    "choices = ['Fixed', 'Fixed', 'Intact', 'Intact', 'Unknown', 'Unknown']"
   ]
  },
  {
   "cell_type": "code",
   "execution_count": null,
   "metadata": {
    "hidden": true
   },
   "outputs": [],
   "source": [
    "# Use np.select\n",
    "level_up['Grouped Sex upon Outcome1'] = np.select(conditions, choices)\n",
    "level_up['Grouped Sex upon Outcome1']"
   ]
  },
  {
   "cell_type": "code",
   "execution_count": null,
   "metadata": {
    "hidden": true
   },
   "outputs": [],
   "source": [
    "# Check we got the same results with np.where()\n",
    "(level_up['Grouped Sex upon Outcome1'] != level_up['Grouped Sex upon Outcome']).sum()"
   ]
  },
  {
   "cell_type": "code",
   "execution_count": null,
   "metadata": {
    "hidden": true
   },
   "outputs": [],
   "source": [
    "# Let's time how long it takes .map() to run by running it multiple times\n",
    "%timeit level_up['Sex upon Outcome'].map(fixed_mapper)"
   ]
  },
  {
   "cell_type": "code",
   "execution_count": null,
   "metadata": {
    "hidden": true
   },
   "outputs": [],
   "source": [
    "# Let's time how long it takes np.select() to run by running it multiple times\n",
    "%timeit np.select(conditions, choices)"
   ]
  }
 ],
 "metadata": {
  "kernelspec": {
<<<<<<< HEAD
   "display_name": "Python 3 (ipykernel)",
=======
   "display_name": "Python 3",
>>>>>>> upstream/main
   "language": "python",
   "name": "python3"
  },
  "language_info": {
   "codemirror_mode": {
    "name": "ipython",
    "version": 3
   },
   "file_extension": ".py",
   "mimetype": "text/x-python",
   "name": "python",
   "nbconvert_exporter": "python",
   "pygments_lexer": "ipython3",
<<<<<<< HEAD
   "version": "3.10.11"
=======
   "version": "3.8.5"
>>>>>>> upstream/main
  },
  "toc": {
   "base_numbering": 1,
   "nav_menu": {},
   "number_sections": true,
   "sideBar": true,
   "skip_h1_title": false,
   "title_cell": "Table of Contents",
   "title_sidebar": "TOC",
   "toc_cell": true,
   "toc_position": {
    "height": "calc(100% - 180px)",
    "left": "10px",
    "top": "150px",
    "width": "267px"
   },
   "toc_section_display": true,
   "toc_window_display": true
  }
 },
 "nbformat": 4,
 "nbformat_minor": 4
}
